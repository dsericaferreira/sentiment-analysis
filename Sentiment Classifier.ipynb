{
 "cells": [
  {
   "cell_type": "code",
   "execution_count": 4,
   "id": "6203425b",
   "metadata": {},
   "outputs": [],
   "source": [
    "import turicreate"
   ]
  },
  {
   "cell_type": "markdown",
   "id": "a987c0e0",
   "metadata": {},
   "source": [
    "# Read some product review data:"
   ]
  },
  {
   "cell_type": "code",
   "execution_count": 5,
   "id": "4bef5202",
   "metadata": {},
   "outputs": [],
   "source": [
    "products = turicreate.SFrame('amazon_baby.sframe')"
   ]
  },
  {
   "cell_type": "code",
   "execution_count": 6,
   "id": "3c94ee1f",
   "metadata": {},
   "outputs": [
    {
     "data": {
      "text/html": [
       "<div style=\"max-height:1000px;max-width:1500px;overflow:auto;\"><table frame=\"box\" rules=\"cols\">\n",
       "    <tr>\n",
       "        <th style=\"padding-left: 1em; padding-right: 1em; text-align: center\">name</th>\n",
       "        <th style=\"padding-left: 1em; padding-right: 1em; text-align: center\">review</th>\n",
       "        <th style=\"padding-left: 1em; padding-right: 1em; text-align: center\">rating</th>\n",
       "    </tr>\n",
       "    <tr>\n",
       "        <td style=\"padding-left: 1em; padding-right: 1em; text-align: center; vertical-align: top\">Planetwise Flannel Wipes</td>\n",
       "        <td style=\"padding-left: 1em; padding-right: 1em; text-align: center; vertical-align: top\">These flannel wipes are<br>OK, but in my opinion ...</td>\n",
       "        <td style=\"padding-left: 1em; padding-right: 1em; text-align: center; vertical-align: top\">3.0</td>\n",
       "    </tr>\n",
       "    <tr>\n",
       "        <td style=\"padding-left: 1em; padding-right: 1em; text-align: center; vertical-align: top\">Planetwise Wipe Pouch</td>\n",
       "        <td style=\"padding-left: 1em; padding-right: 1em; text-align: center; vertical-align: top\">it came early and was not<br>disappointed. i love ...</td>\n",
       "        <td style=\"padding-left: 1em; padding-right: 1em; text-align: center; vertical-align: top\">5.0</td>\n",
       "    </tr>\n",
       "    <tr>\n",
       "        <td style=\"padding-left: 1em; padding-right: 1em; text-align: center; vertical-align: top\">Annas Dream Full Quilt<br>with 2 Shams ...</td>\n",
       "        <td style=\"padding-left: 1em; padding-right: 1em; text-align: center; vertical-align: top\">Very soft and comfortable<br>and warmer than it ...</td>\n",
       "        <td style=\"padding-left: 1em; padding-right: 1em; text-align: center; vertical-align: top\">5.0</td>\n",
       "    </tr>\n",
       "    <tr>\n",
       "        <td style=\"padding-left: 1em; padding-right: 1em; text-align: center; vertical-align: top\">Stop Pacifier Sucking<br>without tears with ...</td>\n",
       "        <td style=\"padding-left: 1em; padding-right: 1em; text-align: center; vertical-align: top\">This is a product well<br>worth the purchase.  I ...</td>\n",
       "        <td style=\"padding-left: 1em; padding-right: 1em; text-align: center; vertical-align: top\">5.0</td>\n",
       "    </tr>\n",
       "    <tr>\n",
       "        <td style=\"padding-left: 1em; padding-right: 1em; text-align: center; vertical-align: top\">Stop Pacifier Sucking<br>without tears with ...</td>\n",
       "        <td style=\"padding-left: 1em; padding-right: 1em; text-align: center; vertical-align: top\">All of my kids have cried<br>non-stop when I tried to ...</td>\n",
       "        <td style=\"padding-left: 1em; padding-right: 1em; text-align: center; vertical-align: top\">5.0</td>\n",
       "    </tr>\n",
       "    <tr>\n",
       "        <td style=\"padding-left: 1em; padding-right: 1em; text-align: center; vertical-align: top\">Stop Pacifier Sucking<br>without tears with ...</td>\n",
       "        <td style=\"padding-left: 1em; padding-right: 1em; text-align: center; vertical-align: top\">When the Binky Fairy came<br>to our house, we didn&#x27;t ...</td>\n",
       "        <td style=\"padding-left: 1em; padding-right: 1em; text-align: center; vertical-align: top\">5.0</td>\n",
       "    </tr>\n",
       "    <tr>\n",
       "        <td style=\"padding-left: 1em; padding-right: 1em; text-align: center; vertical-align: top\">A Tale of Baby&#x27;s Days<br>with Peter Rabbit ...</td>\n",
       "        <td style=\"padding-left: 1em; padding-right: 1em; text-align: center; vertical-align: top\">Lovely book, it&#x27;s bound<br>tightly so you may no ...</td>\n",
       "        <td style=\"padding-left: 1em; padding-right: 1em; text-align: center; vertical-align: top\">4.0</td>\n",
       "    </tr>\n",
       "    <tr>\n",
       "        <td style=\"padding-left: 1em; padding-right: 1em; text-align: center; vertical-align: top\">Baby Tracker&amp;reg; - Daily<br>Childcare Journal, ...</td>\n",
       "        <td style=\"padding-left: 1em; padding-right: 1em; text-align: center; vertical-align: top\">Perfect for new parents.<br>We were able to keep ...</td>\n",
       "        <td style=\"padding-left: 1em; padding-right: 1em; text-align: center; vertical-align: top\">5.0</td>\n",
       "    </tr>\n",
       "    <tr>\n",
       "        <td style=\"padding-left: 1em; padding-right: 1em; text-align: center; vertical-align: top\">Baby Tracker&amp;reg; - Daily<br>Childcare Journal, ...</td>\n",
       "        <td style=\"padding-left: 1em; padding-right: 1em; text-align: center; vertical-align: top\">A friend of mine pinned<br>this product on Pinte ...</td>\n",
       "        <td style=\"padding-left: 1em; padding-right: 1em; text-align: center; vertical-align: top\">5.0</td>\n",
       "    </tr>\n",
       "    <tr>\n",
       "        <td style=\"padding-left: 1em; padding-right: 1em; text-align: center; vertical-align: top\">Baby Tracker&amp;reg; - Daily<br>Childcare Journal, ...</td>\n",
       "        <td style=\"padding-left: 1em; padding-right: 1em; text-align: center; vertical-align: top\">This has been an easy way<br>for my nanny to record ...</td>\n",
       "        <td style=\"padding-left: 1em; padding-right: 1em; text-align: center; vertical-align: top\">4.0</td>\n",
       "    </tr>\n",
       "</table>\n",
       "[183531 rows x 3 columns]<br/>Note: Only the head of the SFrame is printed.<br/>You can use print_rows(num_rows=m, num_columns=n) to print more rows and columns.\n",
       "</div>"
      ],
      "text/plain": [
       "Columns:\n",
       "\tname\tstr\n",
       "\treview\tstr\n",
       "\trating\tfloat\n",
       "\n",
       "Rows: 183531\n",
       "\n",
       "Data:\n",
       "+-------------------------------+-------------------------------+--------+\n",
       "|              name             |             review            | rating |\n",
       "+-------------------------------+-------------------------------+--------+\n",
       "|    Planetwise Flannel Wipes   | These flannel wipes are OK... |  3.0   |\n",
       "|     Planetwise Wipe Pouch     | it came early and was not ... |  5.0   |\n",
       "| Annas Dream Full Quilt wit... | Very soft and comfortable ... |  5.0   |\n",
       "| Stop Pacifier Sucking with... | This is a product well wor... |  5.0   |\n",
       "| Stop Pacifier Sucking with... | All of my kids have cried ... |  5.0   |\n",
       "| Stop Pacifier Sucking with... | When the Binky Fairy came ... |  5.0   |\n",
       "| A Tale of Baby's Days with... | Lovely book, it's bound ti... |  4.0   |\n",
       "| Baby Tracker&reg; - Daily ... | Perfect for new parents. W... |  5.0   |\n",
       "| Baby Tracker&reg; - Daily ... | A friend of mine pinned th... |  5.0   |\n",
       "| Baby Tracker&reg; - Daily ... | This has been an easy way ... |  4.0   |\n",
       "+-------------------------------+-------------------------------+--------+\n",
       "[183531 rows x 3 columns]\n",
       "Note: Only the head of the SFrame is printed.\n",
       "You can use print_rows(num_rows=m, num_columns=n) to print more rows and columns."
      ]
     },
     "execution_count": 6,
     "metadata": {},
     "output_type": "execute_result"
    }
   ],
   "source": [
    "products"
   ]
  },
  {
   "cell_type": "markdown",
   "id": "38ed4c76",
   "metadata": {},
   "source": [
    "# Create the word count vector\n"
   ]
  },
  {
   "cell_type": "code",
   "execution_count": 7,
   "id": "e3374e70",
   "metadata": {},
   "outputs": [],
   "source": [
    "products['word_count'] = turicreate.text_analytics.count_words(products['review'])"
   ]
  },
  {
   "cell_type": "code",
   "execution_count": 8,
   "id": "0f45876b",
   "metadata": {},
   "outputs": [
    {
     "data": {
      "text/plain": [
       "dtype: dict\n",
       "Rows: 183531\n",
       "[{'handles': 1.0, 'stripping': 1.0, 'while': 1.0, 'stink': 1.0, 'issues': 1.0, 'rough': 1.0, 'get': 1.0, 'they': 1.0, 'replace': 1.0, 'to': 2.0, 'need': 1.0, 'now': 1.0, 'no': 1.0, 'faces': 1.0, 'about': 1.0, '6': 1.0, 'that': 1.0, 'been': 1.0, 'longer': 1.0, '8': 1.0, 'pack': 1.0, 'have': 2.0, 'hands': 1.0, 'are': 3.0, 'nicer': 1.0, 'usingthirsties': 1.0, 'opinion': 1.0, 'for': 2.0, 'fab': 1.0, 'higher': 1.0, 'seemed': 1.0, 'because': 1.0, 'boyfor': 1.0, 'starting': 1.0, 'and': 5.0, 'i': 2.0, 'texture': 1.0, 'someimse': 1.0, 'a': 2.0, '12': 1.0, 'had': 2.0, 'blue': 1.0, 'vimse': 1.0, 'larger': 1.0, 'countwhich': 1.0, 'months': 1.0, 'them': 1.0, 'softer': 1.0, 'quality': 1.0, 'but': 1.0, 'ocean': 1.0, 'worth': 1.0, 'ordered': 1.0, 'in': 1.0, 'also': 1.0, 'cloth': 2.0, 'use': 1.0, 'keeping': 1.0, 'ok': 1.0, 'my': 1.0, 'just': 1.0, 'not': 1.0, 'wipes': 4.0, 'flannel': 1.0, 'these': 1.0}, {'recommend': 1.0, 'moist': 1.0, 'osocozy': 1.0, 'keps': 1.0, 'leak': 1.0, 'holder': 1.0, 'was': 1.0, 'now': 1.0, 'wipe': 1.0, 'my': 2.0, 'disappointed': 1.0, 'wise': 1.0, 'and': 3.0, 'planet': 1.0, 'it': 3.0, 'love': 1.0, 'early': 1.0, 'not': 2.0, 'highly': 1.0, 'wipes': 1.0, 'bags': 1.0, 'came': 1.0, 'does': 1.0, 'i': 1.0}, {'quilt': 1.0, 'comfortable': 1.0, 'bed': 1.0, 'for': 1.0, 'anyone': 1.0, 'to': 1.0, 'would': 1.0, 'of': 1.0, 'recommend': 1.0, 'the': 1.0, 'looking': 1.0, 'size': 1.0, 'type': 1.0, 'looks': 1.0, 'than': 1.0, 'full': 1.0, 'it': 1.0, 'this': 1.0, 'fit': 1.0, 'and': 2.0, 'perfectly': 1.0, 'warmer': 1.0, 'very': 1.0, 'soft': 1.0}, {'tool': 1.0, 'clever': 1.0, 'little': 1.0, 'loves': 1.0, 'a': 2.0, 'losing': 1.0, 'proud': 1.0, 'it': 1.0, 'she': 1.0, 'of': 3.0, 'rid': 1.0, 'in': 2.0, 'daughter': 1.0, 'artwork': 1.0, 'purchase': 1.0, 'my': 1.0, 'ownership': 1.0, 'much': 1.0, 'how': 1.0, 'about': 1.0, 'product': 2.0, 'love': 2.0, 'chart': 1.0, 'her': 1.0, 'what': 1.0, 'well': 1.0, 'has': 1.0, 'binky': 2.0, 'approach': 2.0, 'positive': 1.0, 'found': 1.0, 'this': 4.0, 'getting': 1.0, 'and': 3.0, 'like': 1.0, 'have': 1.0, 'worth': 1.0, 'i': 3.0, 'ingenious': 1.0, 'most': 1.0, 'to': 1.0, 'so': 1.0, 'else': 1.0, 'fairy': 1.0, 'not': 1.0, 'the': 7.0, 'anything': 1.0, 'back': 1.0, 'herself': 1.0, 'is': 4.0}, {'rock': 1.0, 'many': 1.0, 'headaches': 1.0, 'soo': 1.0, 'will': 1.0, 'expecting': 1.0, 'gift': 1.0, 'until': 1.0, 'great': 1.0, 'going': 1.0, 's': 1.0, 'a': 2.0, 'have': 1.0, 'must': 1.0, 'understand': 1.0, 'from': 1.0, 'part': 1.0, 'help': 1.0, 'and': 2.0, 'allow': 1.0, 'easy': 1.0, 'book': 2.0, 'work': 1.0, 'an': 1.0, 'puppet': 1.0, 'is': 3.0, 'kids': 2.0, 'found': 1.0, 'this': 2.0, 'with': 1.0, 'it': 2.0, 'fairy': 1.0, 'parents': 1.0, 'way': 1.0, 'for': 2.0, 'where': 1.0, 'love': 1.0, 'thumbuddy': 1.0, 'off': 1.0, 'pacifier': 2.0, 'their': 2.0, 'them': 4.0, 'ween': 1.0, 'all': 2.0, 'to': 5.0, 'save': 1.0, 'my': 1.0, 'buy': 1.0, 'i': 2.0, 'tried': 1.0, 'of': 1.0, 'cried': 1.0, 'thanks': 1.0, 'you': 2.0, 'when': 1.0, 'your': 1.0, 'binky': 1.0, 'non': 1.0, 'stop': 1.0}, {'thumb': 1.0, 'or': 1.0, 'break': 1.0, 'trying': 1.0, 'recommend': 1.0, 'highly': 1.0, 'would': 1.0, 'i': 1.0, 'happens': 1.0, 'what': 1.0, 'daughter': 1.0, 'with': 1.0, 'movies': 1.0, 'adorable': 1.0, 'doll': 1.0, 'item': 1.0, 'favorite': 1.0, 'of': 2.0, 'loss': 1.0, 'made': 1.0, 'binky': 3.0, 'child': 1.0, 'the': 6.0, 'job': 1.0, 'pacifier': 2.0, 't': 1.0, 'we': 2.0, 'a': 2.0, 'product': 1.0, 'for': 2.0, 'using': 1.0, 'comes': 1.0, 'explain': 1.0, 'is': 2.0, 'this': 2.0, 'it': 1.0, 'important': 1.0, 'lots': 1.0, 'to': 6.0, 'our': 2.0, 'prepare': 1.0, 'any': 2.0, 'about': 2.0, 'help': 2.0, 'parent': 1.0, 'house': 1.0, 'sucking': 1.0, 'book': 2.0, 'stop': 1.0, 'cute': 1.0, 'telling': 1.0, 'gift': 1.0, 'special': 1.0, 'didn': 1.0, 'their': 1.0, 'and': 2.0, 'fairy': 3.0, 'came': 1.0, 'habit': 1.0, 'have': 1.0, 'great': 1.0, 'how': 1.0, 'does': 1.0, 'her': 1.0, 'your': 1.0, 'when': 2.0}, {'for': 1.0, 'barnes': 1.0, 'at': 1.0, 'is': 1.0, 'listed': 1.0, 'before': 1.0, 'around': 1.0, 'shop': 1.0, 'in': 1.0, 'be': 1.0, 'designated': 1.0, 'currently': 1.0, 'the': 2.0, 'as': 1.0, 'from': 1.0, 'photos': 1.0, 'alot': 1.0, 'tightly': 1.0, 'aside': 1.0, 'may': 1.0, 'add': 1.0, 'it': 2.0, 'cards': 1.0, 'to': 1.0, '29': 1.0, 'purchase': 1.0, 'bound': 1.0, 'able': 1.0, 'not': 1.0, 'noble': 1.0, 's': 1.0, 'you': 2.0, 'so': 1.0, '95': 1.0, 'of': 1.0, 'spaces': 1.0, 'book': 2.0, 'lovely': 1.0}, {'right': 1.0, 'because': 1.0, 'questions': 1.0, 'would': 1.0, 'when': 1.0, 'made': 1.0, 'life': 2.0, 'her': 1.0, 'months': 1.0, 'half': 1.0, 'a': 1.0, 'change': 1.0, 'and': 2.0, 'feeding': 1.0, 'about': 1.0, 'ask': 1.0, 'baby': 1.0, 'there': 1.0, 'of': 2.0, 'habits': 1.0, 'keep': 1.0, 'schedule': 1.0, 'diaper': 1.0, 'the': 2.0, 'track': 1.0, 'it': 1.0, 'first': 1.0, 'had': 1.0, 'to': 1.0, 'all': 1.0, 'able': 1.0, 'easier': 1.0, 'were': 1.0, 'we': 2.0, 's': 1.0, 'doctor': 1.0, 'parents': 1.0, 'for': 2.0, 'two': 1.0, 'new': 1.0, 'sleep': 1.0, 'perfect': 1.0}, {'like': 1.0, 'and': 1.0, 'changes': 1.0, 'the': 1.0, 'diaper': 1.0, 'feedings': 1.0, 'track': 1.0, 'will': 1.0, 'are': 1.0, 'this': 2.0, 'pinterest': 1.0, 'it': 2.0, 'parent': 1.0, 'you': 2.0, 'keep': 1.0, 'if': 1.0, 'fantastic': 1.0, 'give': 1.0, 'so': 1.0, 'decided': 1.0, 'mine': 1.0, 'i': 1.0, 'is': 1.0, 'on': 1.0, 'to': 1.0, 'product': 1.0, 'pinned': 1.0, 'of': 2.0, 'new': 1.0, 'whirl': 1.0, 'help': 1.0, 'friend': 1.0, 'a': 3.0}, {'in': 1.0, 'pages': 1.0, 'out': 1.0, 'run': 1.0, 'one': 1.0, 'ordering': 1.0, 'options': 1.0, 'pre': 1.0, 'standarad': 1.0, 'have': 1.0, 'there': 1.0, 'because': 1.0, '5': 1.0, 'we': 1.0, 'could': 1.0, 't': 1.0, 'a': 1.0, 'while': 1.0, 'what': 1.0, 'up': 1.0, 'of': 2.0, 'plan': 1.0, 'more': 1.0, 'is': 2.0, 'informed': 1.0, 'printed': 1.0, 'wants': 1.0, 'not': 2.0, 'stay': 1.0, 'at': 1.0, 'who': 1.0, 'you': 1.0, 'when': 2.0, 'someone': 1.0, 'would': 1.0, 'm': 1.0, 'record': 1.0, 'i': 3.0, 'only': 1.0, 'it': 1.0, 'this': 3.0, 'with': 1.0, 'been': 2.0, 'that': 1.0, 'some': 1.0, 'happen': 1.0, 'events': 1.0, 'reason': 1.0, 'key': 1.0, 'recommend': 1.0, 'home': 2.0, 'easy': 1.0, 'nanny': 1.0, 'the': 2.0, 're': 1.0, 'another': 1.0, 'my': 2.0, 'way': 1.0, 'an': 1.0, 'to': 4.0, 'all': 1.0, 'highly': 1.0, 'baby': 2.0, 'journal': 1.0, 'for': 1.0, 'isn': 1.0, 'on': 1.0, 'think': 1.0, 'your': 1.0, 'has': 1.0}, {'tracker': 1.0, 'recommend': 1.0, 'highly': 1.0, 'now': 1.0, 'its': 1.0, 'just': 1.0, 'rush': 1.0, 'often': 1.0, 'today': 1.0, 'hot': 1.0, 'screen': 1.0, 'instructions': 1.0, 'quickly': 1.0, 'didn': 1.0, 'previous': 1.0, 'daughter': 1.0, 'notes': 2.0, 'leave': 1.0, 'or': 3.0, 'it': 4.0, 'back': 1.0, 'communicate': 1.0, 'space': 1.0, 'the': 9.0, 'there': 1.0, 'that': 2.0, 'is': 2.0, 'fill': 1.0, 'complaint': 1.0, 'only': 1.0, 'want': 1.0, 'sun': 1.0, 'naturally': 1.0, 'well': 1.0, 'forget': 1.0, 'schedule': 1.0, 'has': 2.0, 'gets': 1.0, 'very': 1.0, 'details': 2.0, 'changes': 1.0, 'overall': 1.0, 'weekly': 1.0, 'rash': 1.0, 'use': 2.0, 'please': 1.0, 'day': 1.0, 'also': 1.0, 'night': 1.0, 'baby': 6.0, 'stick': 1.0, 'knowing': 1.0, 'about': 1.0, 'no': 1.0, 'park': 1.0, 'walk': 1.0, 'tummy': 1.0, 'we': 1.0, 'time': 3.0, 'comments': 2.0, 'specifics': 1.0, 'real': 1.0, 'a': 1.0, 'took': 1.0, 'moved': 1.0, 'play': 1.0, 'and': 6.0, 'to': 11.0, 'milk': 1.0, 'of': 4.0, 'lunch': 1.0, 'eating': 1.0, 'ask': 1.0, 'nap': 1.0, 'e': 3.0, 'sometimes': 1.0, 'morning': 1.0, 'tell': 1.0, 'in': 5.0, 'amount': 1.0, 'had': 1.0, 'what': 1.0, 'activities': 1.0, 'column': 1.0, 'my': 3.0, 't': 1.0, 's': 5.0, 'older': 1.0, 'she': 3.0, 'add': 1.0, 'post': 1.0, 'easy': 1.0, 'reply': 1.0, 'as': 2.0, 'patterns': 1.0, 'our': 2.0, 'sleep': 2.0, 'with': 1.0, 'out': 1.0, 'this': 2.0, 'other': 2.0, 'design': 1.0, 'uses': 1.0, 'on': 3.0, 'make': 1.0, 'track': 2.0, 'layout': 1.0, 'etc': 2.0, 'i': 10.0, 'her': 2.0, 'everyday': 1.0, 'specify': 1.0, 'nanny': 4.0, 'food': 1.0, 'journal': 1.0, 'for': 2.0, 'all': 2.0, 'love': 2.0}, {'throw': 1.0, 'that': 1.0, 's': 1.0, 'visits': 1.0, 'doctor': 1.0, 'for': 2.0, 'would': 1.0, 'definitely': 1.0, 'sleep': 1.0, 'plus': 1.0, 'of': 1.0, 'keep': 1.0, 'small': 1.0, 'so': 1.0, 'and': 1.0, 'changes': 1.0, 'this': 3.0, 'first': 1.0, 'it': 2.0, 'back': 1.0, 'book': 2.0, 'track': 1.0, 'made': 1.0, 'm': 1.0, 'mom': 1.0, 'is': 1.0, 'time': 1.0, 'to': 1.0, 'moms': 1.0, 'recommend': 1.0, 'easy': 1.0, 'in': 1.0, 'perfect': 1.0, 'i': 2.0, 'feedings': 1.0, 'enough': 1.0, 'new': 2.0, 'a': 1.0, 'the': 1.0, 'diaper': 2.0}, {'situation': 1.0, 'big': 1.0, 'entire': 1.0, 'track': 1.0, 'suppose': 1.0, 'have': 1.0, 'problem': 1.0, 'real': 1.0, 'format': 1.0, 'time': 1.0, 'about': 1.0, 'reviews': 1.0, 'other': 1.0, 'some': 2.0, 'difficult': 1.0, 'shorthand': 1.0, 'too': 1.0, 'provide': 1.0, 'small': 1.0, 'pretty': 2.0, 'space': 2.0, 'only': 1.0, 'notebook': 1.0, 'baby': 1.0, 'this': 5.0, 'each': 1.0, 'out': 1.0, 'app': 1.0, 'ends': 1.0, '7am': 2.0, 'wohld': 1.0, 'works': 1.0, 'because': 1.0, 'has': 1.0, 'me': 2.0, 'contact': 1.0, 'emergency': 1.0, 'up': 1.0, 'provided': 1.0, 'fit': 1.0, 'on': 1.0, 'deal': 1.0, 'use': 2.0, 'documents': 1.0, 'phone': 2.0, 'front': 1.0, 'pouch': 1.0, 'page': 1.0, 'example': 1.0, 'helpful': 1.0, 'is': 3.0, 'the': 15.0, 'there': 1.0, 'daycare': 1.0, 'm': 2.0, 'complaint': 1.0, 'information': 4.0, 'fill': 1.0, 'was': 2.0, 'now': 1.0, 'useful': 1.0, 'from': 2.0, 'solution': 1.0, '7': 2.0, 'in': 1.0, 'reported': 1.0, 'an': 2.0, 'control': 1.0, 'better': 1.0, 'way': 1.0, 'info': 3.0, 'day': 2.0, 'also': 3.0, 'with': 2.0, 'and': 5.0, 'naps': 1.0, 'to': 9.0, 'at': 2.0, 'would': 2.0, 's': 1.0, 'but': 2.0, 'gave': 1.0, 'something': 1.0, 'inaccurate': 1.0, '6': 2.0, 'much': 1.0, 'goes': 1.0, 'how': 2.0, 'incomplete': 1.0, 'diaper': 1.0, 'leave': 1.0, 'very': 1.0, 'changes': 1.0, 'get': 1.0, 'getting': 2.0, 'a': 8.0, 'complain': 1.0, 'section': 1.0, 'could': 1.0, 'park': 1.0, 'transfer': 1.0, 'him': 1.0, 'before': 1.0, 'remember': 1.0, 'not': 1.0, 'behind': 1.0, 'home': 1.0, 'it': 3.0, 'she': 4.0, 'little': 2.0, 'isn': 1.0, 'one': 1.0, 'for': 7.0, 'of': 6.0, 'take': 2.0, 'if': 1.0, 'her': 1.0, 'nanny': 3.0, 'write': 1.0, 'they': 1.0, 'down': 1.0, 'paper': 1.0, 'when': 2.0, 'feedings': 1.0, 'try': 1.0, 'end': 1.0, 'starts': 1.0, 't': 1.0, 'my': 4.0, 'two': 1.0, 'wanted': 3.0, 'additional': 1.0, 'perfect': 2.0, 'you': 2.0, 'pad': 2.0, 'pages': 1.0, 'just': 1.0, 'caregiver': 1.0, 'tracking': 1.0, '6pm': 2.0, 'all': 1.0, 'originally': 1.0, 'i': 9.0}, {'of': 1.0, 'feeling': 1.0, 'other': 1.0, 'no': 1.0, 'serves': 1.0, 'month': 1.0, 'last': 1.0, 'times': 1.0, '177': 1.0, 'him': 1.0, 'nursed': 1.0, 'about': 1.0, 'start': 1.0, 'as': 1.0, 'helpful': 1.0, 'taking': 1.0, 'been': 1.0, 'feedings': 1.0, 'satisfaction': 1.0, 'average': 1.0, 'how': 1.0, 'example': 1.0, 'mindlessly': 1.0, 'connect': 1.0, 'more': 1.0, 'like': 1.0, 'hit': 1.0, 'granted': 1.0, 'morning': 1.0, 'here': 1.0, 'in': 2.0, 'tell': 2.0, 'this': 2.0, 'app': 2.0, 'with': 1.0, 'or': 1.0, 'side': 2.0, 'baby': 1.0, 'nurse': 1.0, 'started': 2.0, 'button': 1.0, 'look': 1.0, 'used': 1.0, 'me': 5.0, 'forget': 1.0, 'perverse': 1.0, 'also': 1.0, 'really': 1.0, 'for': 2.0, 'every': 1.0, 'don': 1.0, 'by': 1.0, 'not': 1.0, 'than': 2.0, 'd': 1.0, 'skilled': 1.0, 'place': 1.0, 'the': 4.0, 'better': 1.0, 'deprived': 1.0, 'pen': 1.0, 'same': 1.0, 'if': 1.0, 'notebook': 1.0, 'are': 2.0, 'to': 5.0, 'at': 5.0, 'keep': 1.0, 'on': 3.0, '2': 1.0, 's': 2.0, 'but': 2.0, 'you': 5.0, 'can': 3.0, 'close': 1.0, 'think': 1.0, 'i': 10.0, '3': 2.0, 'training': 1.0, 'your': 2.0, 'be': 1.0, 'grab': 1.0, 'purpose': 1.0, 'least': 2.0, 'sleep': 2.0, 'gives': 1.0, 'all': 1.0, 'often': 2.0, 're': 2.0, 'just': 1.0, 'phone': 2.0, 'data': 1.0, 'when': 1.0, 'nice': 2.0, 'yourself': 1.0, 'why': 1.0, 'time': 2.0, 'we': 3.0, 'haven': 1.0, 'a': 5.0, 't': 2.0, 'journal': 1.0, 'handwritten': 1.0, '1': 1.0, 'consistently': 1.0, 'and': 4.0, 'thing': 1.0, 'it': 4.0, 'perfect': 1.0, 'breastfeeding': 1.0, 'able': 1.0, 'have': 5.0, 'that': 4.0, 'either': 1.0, 'what': 2.0, 'thought': 1.0, 'long': 1.0, 'would': 1.0, 'entertained': 1.0, 'useful': 1.0, 'simple': 1.0, 'keeping': 1.0, 'm': 1.0, 'both': 1.0, 'so': 2.0}, {'i': 1.0, 'it': 2.0, 'come': 1.0, 'exactly': 1.0, 'useful': 1.0, 'of': 1.0, 'lot': 1.0, 'a': 1.0, 'wanted': 1.0, 'and': 1.0, 'stickers': 1.0, 'for': 1.0, 'is': 1.0, 'with': 1.0, 'info': 1.0, 'photos': 1.0, 'what': 1.0, 'monthly': 1.0, 'space': 1.0}, {'useful': 1.0, 'friend': 1.0, 'day': 1.0, 'happened': 1.0, 'special': 1.0, 'whatever': 1.0, 'asterisks': 1.0, 'just': 1.0, 'but': 1.0, 'like': 1.0, 'many': 1.0, 'not': 1.0, 'calender': 2.0, 'that': 2.0, 'complaint': 1.0, 'and': 3.0, 'writing': 1.0, 'some': 1.0, 'myself': 1.0, 'the': 1.0, 'photo': 1.0, 'placed': 1.0, 'a': 3.0, 'event': 1.0, 'also': 1.0, 'sticker': 1.0, 'there': 1.0, 'stickers': 1.0, 'have': 2.0, 'well': 1.0, 'has': 1.0, 'likes': 1.0, 'weight': 1.0, 'boxes': 1.0, 'baby': 1.0, 'height': 1.0, 'does': 1.0, 'what': 1.0, 'second': 1.0, 'write': 1.0, 'she': 1.0, 'it': 3.0, 'colorful': 1.0, 'as': 4.0, 'to': 3.0, 'page': 2.0, 'before': 1.0, 'room': 3.0, 'would': 1.0, 'each': 2.0, 'only': 1.0, 'do': 1.0, 'son': 1.0, 'very': 2.0, 'put': 1.0, 'on': 2.0, 'fine': 1.0, 'is': 3.0, 'found': 1.0, 'this': 1.0, 'for': 5.0, 'date': 1.0, 'my': 2.0, 'be': 1.0, 'one': 1.0, 'bought': 2.0, 'i': 4.0}, {'too': 1.0, 'stickers': 1.0, 'illustrations': 1.0, 'and': 1.0, 'like': 1.0, 'firsts': 1.0, 's': 1.0, 'keep': 1.0, 'of': 2.0, 'all': 1.0, 'the': 2.0, 'track': 1.0, 'love': 1.0, 'can': 1.0, 'calender': 1.0, 'baby': 1.0, 'little': 1.0, 'this': 1.0, 'you': 1.0, 'i': 2.0}, {'him': 1.0, 'got': 1.0, 'than': 1.0, 'turn': 1.0, 'note': 1.0, 'things': 1.0, 'after': 1.0, 'so': 1.0, 'second': 1.0, 'many': 1.0, 'there': 1.0, 'they': 1.0, 'continue': 1.0, 'wanted': 1.0, 'was': 2.0, 'to': 2.0, 'this': 2.0, 'only': 1.0, 'first': 2.0, 'cause': 1.0, 'better': 1.0, 'did': 1.0, 'could': 1.0, 'year': 2.0, 'for': 2.0, 'one': 3.0, 'i': 3.0, 'calender': 1.0, '1': 1.0, 'and': 1.0, 'are': 1.0, 'the': 4.0, 'still': 1.0, 'find': 1.0}, {'something': 1.0, 'want': 1.0, 'you': 1.0, 'milestone': 1.0, 'those': 1.0, 'calendar': 2.0, 'not': 1.0, 'while': 1.0, 'wanted': 1.0, 'simple': 1.0, 'like': 1.0, 'things': 1.0, 'fun': 1.0, 'every': 1.0, 'really': 2.0, 'amazing': 1.0, 'son': 1.0, 'still': 1.0, 'the': 4.0, 'in': 1.0, 'much': 1.0, 'continue': 1.0, 'least': 1.0, 'all': 3.0, 'to': 2.0, 'so': 2.0, 'special': 2.0, 'day': 1.0, 'milestones': 1.0, 'year': 2.0, 'his': 1.0, 'stickers': 1.0, 'have': 1.0, 'tracking': 1.0, 'of': 2.0, 'second': 1.0, 'doing': 1.0, 'moments': 2.0, 'enjoyed': 1.0, 'questions': 1.0, 's': 3.0, 'a': 1.0, 'might': 1.0, 'completed': 1.0, 'for': 1.0, 'and': 5.0, 'my': 1.0, 'it': 2.0, 'he': 1.0, 'layout': 1.0, 'first': 1.0, 'keep': 1.0, 'at': 1.0, 'since': 1.0, 'that': 1.0, 'recording': 1.0, 'i': 3.0}, {'exactly': 1.0, 'what': 1.0, 'does': 1.0, 'is': 1.0, 'many': 1.0, 'of': 1.0, 'there': 2.0, 'track': 1.0, 'option': 1.0, 'a': 1.0, 'choices': 1.0, 'we': 2.0, 'other': 1.0, 't': 1.0, 'this': 2.0, 'milestones': 1.0, 's': 1.0, 'aren': 1.0, 'cute': 1.0, 'out': 1.0, 'child': 1.0, 'something': 1.0, 'our': 1.0, 'keep': 1.0, 'and': 2.0, 'get': 1.0, 'to': 2.0, 'wanted': 2.0}, {'reference': 1.0, 'have': 1.0, 'out': 1.0, 'fill': 1.0, 'way': 1.0, 'book': 2.0, 'baby': 2.0, 'find': 1.0, 'ones': 1.0, 'little': 1.0, 'milestones': 1.0, 'of': 1.0, 'keep': 1.0, 'like': 1.0, 'do': 2.0, 'only': 1.0, 'much': 1.0, 'years': 1.0, 'large': 1.0, 'memories': 1.0, 'i': 5.0, 'two': 1.0, 'some': 1.0, 'picture': 1.0, 'a': 6.0, 's': 1.0, 'that': 1.0, 'on': 1.0, 'put': 1.0, 'you': 1.0, 'squares': 1.0, 'in': 2.0, 'down': 1.0, 'second': 1.0, 'write': 1.0, 'big': 1.0, 'great': 2.0, 'spot': 1.0, 'had': 1.0, 'all': 1.0, 'as': 2.0, 'to': 5.0, 'and': 4.0, 'across': 1.0, 'enough': 1.0, 'the': 5.0, 'first': 1.0, 'later': 1.0, 'hard': 1.0, 'this': 3.0, 'it': 2.0, 'month': 1.0, 'vs': 1.0, 'came': 1.0, 'year': 1.0, 'track': 1.0, 'calendar': 2.0, 'can': 2.0, 'change': 1.0, 'is': 3.0, 'one': 1.0, 'everything': 1.0, 'time': 1.0, 'so': 3.0, 'finding': 1.0, 'they': 1.0, 'easier': 1.0, 'well': 1.0, 'has': 1.0, 'jot': 1.0}, {'purchasers': 1.0, 'future': 1.0, 'other': 1.0, 'some': 1.0, 'out': 1.0, 'come': 1.0, 'will': 1.0, 'looking': 1.0, 'pretty': 1.0, 'are': 1.0, 'and': 1.0, 'cute': 1.0, 'aren': 1.0, 'stickers': 1.0, 'only': 2.0, 'certain': 1.0, 'selection': 1.0, 'second': 2.0, 'write': 1.0, 'old': 1.0, 'makes': 1.0, 'which': 1.0, 'glossy': 1.0, 'on': 2.0, 'finish': 1.0, 'an': 1.0, 't': 1.0, 'a': 1.0, 's': 1.0, 'so': 1.0, 'general': 1.0, 'very': 1.0, 'calendars': 2.0, 'of': 2.0, 'available': 1.0, 'pens': 1.0, 'in': 1.0, 'disappointed': 1.0, 'fashioned': 1.0, 'is': 1.0, 'really': 1.0, 'to': 1.0, 'purchased': 1.0, 'had': 1.0, 'was': 2.0, 'hard': 1.0, 'it': 3.0, 'this': 1.0, 'with': 3.0, 'year': 2.0, 'son': 1.0, 'daughter': 1.0, 'one': 3.0, 'for': 4.0, 'calendar': 2.0, 'they': 1.0, 'pages': 2.0, 'got': 1.0, 'okay': 1.0, 'just': 1.0, 'because': 2.0, 'ones': 1.0, 'the': 6.0, 'hopefully': 1.0, 'my': 2.0, 'lack': 1.0, 'i': 4.0}, {'brat': 1.0, 'super': 1.0, 'it': 1.0, 'plus': 1.0, 'recommend': 1.0, 'own': 1.0, 'either': 1.0, 'thought': 1.0, 'milestones': 1.0, 'wonderful': 1.0, 'have': 1.0, 'stickers': 1.0, 'think': 1.0, 'on': 2.0, 'continuing': 1.0, 'this': 2.0, 'perfect': 1.0, 'lullabies': 1.0, 'that': 2.0, 'gender': 1.0, 'nature': 1.0, 'cute': 1.0, 'stop': 1.0, 'life': 1.0, 'just': 1.0, 'now': 1.0, 'to': 2.0, 'the': 1.0, 'might': 1.0, 's': 3.0, 't': 1.0, 'didn': 1.0, 'year': 4.0, 'his': 1.0, 'reocording': 1.0, 'loved': 1.0, 'events': 2.0, 'and': 4.0, 'keeping': 1.0, 'out': 1.0, 'baby': 1.0, '1st': 1.0, 'of': 6.0, 'there': 2.0, 'helped': 1.0, 'are': 2.0, 'my': 2.0, 'i': 4.0, 'record': 2.0, 'recording': 1.0, 'son': 1.0, 'not': 1.0, 'me': 1.0, 'calendar': 3.0, 'one': 1.0, 'love': 1.0, 'for': 3.0, 'calendars': 1.0, 'daily': 1.0, 'with': 1.0, 'he': 1.0, 'first': 1.0, 'highly': 1.0, 'plenty': 1.0, 'is': 2.0, 'want': 1.0, 'second': 2.0}, {'so': 1.0, 'disappointed': 1.0, 'just': 1.0, 'look': 1.0, 'to': 2.0, 'was': 1.0, 'stickers': 1.0, 'nice': 1.0, 'lots': 1.0, 'of': 2.0, 'there': 1.0, 'it': 2.0, 'are': 1.0, 'i': 2.0, 'cheap': 2.0, 'the': 1.0, 'find': 1.0, 'as': 1.0, 'very': 1.0, 'described': 1.0, 'use': 1.0, 'but': 1.0, 'be': 1.0, 'exactly': 1.0, 'calendar': 1.0, 'looks': 1.0, 'is': 1.0}, {'supplies': 1.0, 'scrapbook': 1.0, 'ton': 1.0, 'out': 1.0, 'for': 3.0, 'actually': 1.0, 'time': 1.0, 'sit': 1.0, 'stickers': 1.0, 'have': 1.0, 'this': 1.0, 'dont': 1.0, 'lot': 1.0, 'option': 1.0, 'who': 1.0, 'enough': 1.0, 'new': 1.0, 'down': 1.0, 'especially': 1.0, 'booking': 1.0, 'use': 1.0, 'just': 1.0, 'comes': 1.0, 'is': 1.0, 'borders': 1.0, 'haul': 1.0, 'a': 3.0, 'well': 1.0, 'photos': 2.0, 'etc': 1.0, 'includes': 1.0, 'milestone': 1.0, 'the': 1.0, 'mark': 1.0, 'as': 1.0, 'to': 3.0, 'scrap': 1.0, 'firsts': 1.0, 'options': 1.0, 'sticker': 1.0, 'of': 2.0, 'loves': 1.0, 'calender': 1.0, 'and': 2.0, 'moms': 1.0, 'easy': 1.0, 'very': 1.0, 'it': 1.0, 'with': 1.0, 'spaces': 1.0, 'wife': 1.0}, {'old': 1.0, 'one': 1.0, 'pages': 1.0, 'unique': 1.0, 'stickers': 1.0, 'helpful': 1.0, 'work': 1.0, 'second': 1.0, 'tender': 1.0, 'loves': 1.0, 'able': 1.0, 'record': 1.0, 'i': 1.0, 'nice': 1.0, 'when': 1.0, 'thanks': 1.0, 'looking': 1.0, 'milestones': 1.0, 'wonderful': 1.0, 'amazon': 1.0, 'nearing': 1.0, 'art': 1.0, 'for': 3.0, 'gift': 1.0, 'sweet': 1.0, 'birthday': 1.0, 'to': 4.0, 'had': 1.0, 'was': 3.0, 'his': 2.0, 'year': 4.0, 'son': 1.0, 'keepsake': 1.0, 'daughter': 1.0, 'she': 3.0, 'it': 1.0, 'this': 1.0, 'first': 2.0, 'fill': 2.0, 'over': 1.0, 'up': 1.0, 'get': 1.0, 'and': 2.0, 'receive': 1.0, 'baby': 1.0, '1st': 1.0, 'calendar': 2.0, 'her': 3.0, 'my': 1.0, 'ago': 1.0, 'a': 6.0, 'did': 1.0}, {'months': 1.0, 'two': 1.0, 'the': 1.0, 'and': 1.0, 'me': 1.0, 'baby': 1.0, 'ate': 1.0, 'long': 1.0, 'a': 1.0, 'remembering': 1.0, 'helped': 1.0, 'definitely': 1.0, 'inexpedient': 1.0, 'as': 1.0, 'extremely': 1.0, 'how': 1.0, 'tired': 1.0, 'mom': 1.0, 'not': 1.0, 'ago': 1.0, 'through': 1.0, 'new': 1.0, 'this': 1.0, 'first': 1.0, 'useful': 1.0}, {'around': 1.0, 'shakes': 1.0, 'through': 1.0, 'front': 1.0, 'end': 1.0, 'mirror': 1.0, 'just': 2.0, 'takes': 1.0, 'right': 1.0, 'flip': 2.0, 'now': 1.0, 'older': 1.0, 'his': 1.0, 'towards': 1.0, 'when': 2.0, 'hair': 1.0, 'likes': 2.0, 'show': 1.0, 'the': 10.0, 'hands': 1.0, 'and': 4.0, 'age': 1.0, 'kisses': 1.0, 'enough': 1.0, 'cover': 2.0, 'blow': 1.0, 'like': 1.0, 'maybe': 1.0, 'does': 1.0, 'pretend': 1.0, 'though': 1.0, 'make': 1.0, 'face': 1.0, 'however': 1.0, 'so': 1.0, 'gestures': 1.0, 'him': 2.0, 'engage': 1.0, 'be': 1.0, 'doesn': 1.0, 'book': 4.0, 'will': 1.0, 'also': 1.0, 'seems': 1.0, 'this': 3.0, 'perfect': 1.0, 'thought': 1.0, 'flaps': 1.0, 'peekaboo': 1.0, 'fan': 1.0, 'i': 4.0, 'months': 1.0, 'boo': 1.0, 'would': 1.0, 'if': 2.0, '9': 1.0, 'of': 1.0, 's': 1.0, 'a': 1.0, 't': 1.0, 'loves': 1.0, 'with': 1.0, 'he': 6.0, 'it': 2.0, 'at': 2.0, 'but': 1.0, 'most': 1.0, 'peek': 1.0, 'my': 1.0, 'son': 1.0}, {'typical': 1.0, 'your': 1.0, 'the': 1.0, 'family': 1.0, 'diversity': 1.0, 'some': 1.0, 'see': 1.0, 'd': 1.0, 'star': 1.0, 'gave': 1.0, 'less': 1.0, 'people': 1.0, 'is': 1.0, 'in': 1.0, 'perfect': 1.0, 'than': 1.0, 'books': 1.0, 'and': 2.0, '1': 1.0, 'of': 1.0, 'favorite': 1.0, 'i': 2.0, 'one': 1.0, 'to': 1.0, 'it': 1.0, 'first': 1.0, 'white': 1.0, 'washable': 1.0, 's': 1.0, 'like': 1.0, 'just': 1.0, 'not': 1.0, 'because': 1.0, 'baby': 1.0}, {'family': 1.0, 'how': 1.0, 'wont': 1.0, 'over': 1.0, 'car': 1.0, 'book': 1.0, 'stroller': 1.0, 'to': 3.0, 'get': 1.0, 'hook': 1.0, 'seat': 1.0, 'attach': 1.0, 'your': 1.0, 'has': 1.0, 'go': 1.0, 'a': 1.0, 'great': 1.0, 'the': 1.0, 'members': 1.0, 'like': 1.0, 'way': 1.0, 'it': 2.0, 'lost': 1.0, 'or': 1.0, 'i': 1.0}, {'interacting': 1.0, 'when': 1.0, 'with': 1.0, 'it': 2.0, 'to': 1.0, 'hold': 1.0, 'finished': 1.0, 'turn': 1.0, 'are': 1.0, 'keeps': 1.0, 'actually': 1.0, 'and': 2.0, 'pages': 1.0, 'great': 1.0, 'the': 4.0, 'beautiful': 1.0, 'i': 1.0, 'then': 1.0, 'of': 1.0, 'saying': 1.0, 'baby': 2.0, 'little': 2.0, 'can': 1.0, 'love': 1.0, 'you': 2.0, 'attention': 1.0, 'a': 1.0, 'short': 1.0, 'book': 1.0, 'on': 1.0, 'story': 1.0}, {'page': 1.0, 'flaps': 1.0, 'are': 1.0, 'open': 1.0, 'very': 1.0, 'and': 1.0, 's': 1.0, 'before': 1.0, 'every': 1.0, 'use': 1.0, 'try': 1.0, 'born': 1.0, 'be': 1.0, 'interactive': 1.0, 'to': 4.0, 'i': 1.0, 'book': 1.0, 'but': 1.0, 'box': 1.0, 'on': 2.0, 'months': 1.0, 'wait': 1.0, 'can': 1.0, 'baby': 1.0, 'money': 1.0, 'this': 1.0, 'it': 3.0, '9': 1.0, 'there': 1.0, 'says': 1.0, 'for': 1.0, 'cute': 1.0, 'worth': 1.0, 'my': 1.0, 't': 1.0, 'the': 2.0, 'is': 1.0, 'so': 2.0}, {'etc': 1.0, 'puppy': 1.0, 'words': 1.0, 'learning': 1.0, 'is': 1.0, 'little': 1.0, 'flaps': 1.0, 'our': 1.0, 'all': 1.0, 'carry': 1.0, 'pull': 1.0, 'over': 1.0, 'on': 2.0, 'rip': 1.0, 'we': 2.0, 't': 1.0, 's': 1.0, 'a': 2.0, 'like': 3.0, 'daddy': 1.0, 'of': 1.0, 'out': 1.0, 'loves': 2.0, 'that': 2.0, 'nice': 1.0, 'can': 3.0, 'this': 1.0, 'it': 8.0, 'she': 5.0, 'old': 1.0, 'and': 3.0, 'love': 1.0, 'for': 1.0, 'one': 2.0, 'open': 1.0, 'board': 1.0, 'year': 1.0, 'house': 1.0, 'book': 2.0, 'paper': 1.0, 'so': 1.0, 'chew': 1.0, 'got': 1.0, 'chunks': 1.0, 'the': 2.0, 'mommy': 1.0, 'or': 1.0, 'bite': 1.0, 'just': 1.0, 'simple': 1.0}, {'dry': 1.0, 'let': 1.0, 'overnight': 1.0, 'then': 1.0, 'dunked': 1.0, 'detergent': 1.0, 'dyes': 1.0, 'of': 1.0, 'pages': 1.0, 'strong': 1.0, 'or': 1.0, 'i': 2.0, 'material': 1.0, 'smell': 1.0, 'colorful': 1.0, 'was': 1.0, 'thing': 1.0, 't': 1.0, 'the': 6.0, 'only': 1.0, 'older': 1.0, '6months': 1.0, 'book': 2.0, 'for': 1.0, 'didn': 1.0, 'in': 1.0, 'perfect': 1.0, 'like': 1.0, 'and': 3.0, 'is': 2.0}, {'flaps': 1.0, 'hands': 1.0, 'to': 1.0, 'loves': 1.0, 'our': 1.0, 'that': 1.0, 'feelings': 1.0, 'hurt': 1.0, 'cause': 1.0, 'can': 1.0, 'brother': 1.0, 'little': 1.0, 'out': 1.0, 'leaves': 1.0, 'members': 1.0, 'one': 1.0, 'with': 1.0, 'this': 1.0, 'however': 1.0, 'products': 1.0, 'and': 3.0, 'huge': 1.0, 'possibly': 1.0, 'are': 1.0, 'family': 1.0, 'hair': 1.0, 'lamaze': 1.0, 'play': 1.0, 'we': 1.0, 'baby': 1.0, 'fans': 1.0, 'no': 1.0, 'some': 1.0, 'of': 1.0, 'book': 1.0, 'cute': 1.0, 'the': 2.0, 'said': 1.0, 'is': 1.0}, {'every': 1.0, 'on': 1.0, 'fun': 1.0, 'your': 1.0, 'interactive': 1.0, 'to': 1.0, 'perfect': 1.0, 'level': 1.0, 'baby': 1.0, 'another': 1.0, 'adds': 1.0, 'moving': 1.0, 'this': 2.0, 'options': 1.0, 'were': 1.0, 'is': 1.0, 'drool': 1.0, 's': 1.0, 'which': 1.0, '10': 1.0, 'my': 3.0, 'great': 1.0, 't': 1.0, 'damaged': 1.0, 'cloth': 2.0, 'i': 1.0, 'old': 1.0, 'be': 1.0, 'couldn': 1.0, 'or': 2.0, 'books': 2.0, 'by': 1.0, 'been': 1.0, 'usual': 1.0, 'babies': 1.0, 'for': 3.0, 'book': 4.0, 'so': 1.0, 'd': 1.0, 'page': 1.0, 'month': 1.0, 'a': 2.0, 'plastic': 1.0, 'looking': 1.0, 'part': 1.0, 'flap': 1.0, 'what': 1.0}, {'farm': 1.0, 'out': 1.0, 'say': 1.0, 'again': 1.0, 'enjoy': 1.0, 'look': 1.0, 'now': 2.0, 'well': 1.0, 'additional': 1.0, 'being': 1.0, 'with': 2.0, 'dog': 1.0, 'cat': 1.0, 'favorites': 1.0, 'reading': 1.0, 'like': 1.0, 'members': 1.0, 'names': 1.0, 'learn': 1.0, 'used': 1.0, 'lift': 1.0, 'about': 1.0, 'd': 1.0, 'fun': 2.0, 'of': 3.0, 'at': 1.0, 'lot': 1.0, 's': 1.0, 'we': 2.0, 't': 2.0, 'a': 3.0, 'lamaze': 2.0, 'are': 2.0, 'they': 1.0, 'two': 1.0, 'etc': 1.0, 'i': 3.0, 'that': 3.0, 'have': 1.0, 'playing': 1.0, 'the': 5.0, 'didn': 1.0, 'liked': 1.0, 'grandparents': 1.0, 'for': 4.0, 'love': 1.0, 'one': 2.0, 'nearly': 1.0, 'child': 1.0, 'them': 1.0, 'discovery': 1.0, 'board': 1.0, 'his': 2.0, 'parent': 1.0, 'much': 1.0, 'only': 2.0, 'perfect': 1.0, 'this': 4.0, 'it': 6.0, 'flap': 1.0, 'he': 4.0, 'on': 1.0, 'destroy': 1.0, 'not': 2.0, 'does': 1.0, 'sister': 1.0, 'chew': 1.0, 'because': 1.0, 'boo': 1.0, 'would': 1.0, 'doesn': 1.0, 'was': 3.0, 'book': 3.0, 'an': 1.0, 'peek': 1.0, 'but': 4.0, 'course': 1.0, 'books': 2.0, 'teaching': 1.0, 'loved': 1.0, 'infant': 1.0, 'issue': 1.0, 'and': 6.0, 'still': 1.0, 'son': 3.0, 'all': 1.0, 'to': 1.0, 'as': 3.0, 'series': 1.0, 'family': 1.0, 'my': 3.0}, {'own': 1.0, 'his': 1.0, 'and': 1.0, 'now': 1.0, 'to': 1.0, 'i': 1.0, 'when': 1.0, 'enjoys': 2.0, 'on': 1.0, 'it': 3.0, 'this': 1.0, 'he': 1.0, 'with': 1.0, 'a': 1.0, 'our': 1.0, 'playing': 1.0, 'book': 1.0, 'for': 1.0, 'has': 1.0, 'loves': 1.0, 'loved': 1.0, 'read': 1.0, 'baby': 1.0, 'while': 1.0, 'him': 1.0}, {}, {'haha': 1.0, 'play': 1.0, 'kids': 1.0, 'to': 1.0, 'book': 1.0, 'a': 1.0, 'too': 1.0, 'teeth': 1.0, 's': 1.0, 'almost': 1.0, 'nice': 1.0, 'brushing': 1.0, 'of': 1.0, 'elmo': 1.0, 'likes': 1.0, 'with': 1.0, 'son': 1.0, 'the': 1.0, 'let': 1.0, 'my': 1.0}, {'again': 1.0, 'are': 1.0, 'would': 1.0, 'pictures': 1.0, 'sit': 1.0, 'page': 2.0, 'and': 3.0, 'children': 1.0, 'this': 2.0, 'it': 2.0, 'young': 1.0, 'for': 1.0, 'love': 1.0, 'imaginative': 1.0, 'they': 1.0, 'through': 1.0, 'buy': 1.0, 'old': 1.0, 'will': 1.0, 'book': 1.0, 'appeal': 1.0, 'year': 1.0, 'my': 1.0, 'grandchildren': 1.0, 'go': 1.0, 'a': 1.0, 'present': 1.0, 'themselves': 1.0, 'the': 1.0, '2': 1.0, 'by': 1.0, 'birthday': 1.0, 'to': 1.0, 'was': 1.0}, {'granddaughter': 1.0, 'kenzie': 1.0, 'my': 1.0, 'down': 1.0, 'take': 1.0, 'gift': 1.0, 'disappointment': 1.0, 'such': 1.0, 'batteries': 1.0, 'find': 1.0, 'can': 1.0, 'but': 1.0, 'back': 1.0, 'star': 1.0, 'handle': 1.0, 'new': 1.0, 'would': 2.0, 'super': 1.0, 'dead': 1.0, 'something': 1.0, 'going': 1.0, 'could': 1.0, 'a': 4.0, 't': 1.0, 's': 2.0, 'how': 1.0, 'saw': 1.0, 'simple': 1.0, 'rating': 1.0, 'other': 1.0, 'place': 1.0, 'the': 3.0, 'in': 1.0, 'even': 1.0, 'got': 1.0, 'just': 1.0, 'if': 2.0, 'have': 1.0, 'suppose': 1.0, 'giggled': 1.0, 'where': 1.0, 'actually': 1.0, '5': 1.0, 'cute': 1.0, 'absolutely': 1.0, 'excited': 1.0, 'now': 1.0, 'mail': 1.0, 'this': 1.0, 'like': 1.0, 'growled': 1.0, 'it': 8.0, 'or': 1.0, 'when': 1.0, 'bear': 1.0, 'no': 1.0, 'battery': 1.0, 'i': 6.0, 'give': 1.0, 'and': 3.0, 'as': 2.0, 'to': 4.0, 'was': 3.0, 'day': 1.0, 'adorable': 1.0, 'is': 1.0}, {'a': 1.0, 'amazon': 1.0, 'available': 1.0, 'lovers': 1.0, 'interactive': 1.0, 'which': 2.0, 'featured': 1.0, 'also': 2.0, 'are': 1.0, 'characters': 1.0, 'sesame': 2.0, 'book': 3.0, 'other': 1.0, 'page': 1.0, 'would': 1.0, 'each': 1.0, 'because': 1.0, 'main': 1.0, 'while': 1.0, 'so': 2.0, 'time': 1.0, 'the': 3.0, 'to': 1.0, 'all': 1.0, 'hides': 1.0, 'reads': 1.0, 'centric': 1.0, 'on': 2.0, 'everywhere': 1.0, 'little': 1.0, 'of': 2.0, 'right': 1.0, 'takes': 1.0, 'beautifully': 1.0, 'say': 1.0, 'is': 5.0, 'character': 1.0, 'twinkle': 2.0, 'recommend': 1.0, 'was': 1.0, 'illustrated': 1.0, 'great': 2.0, 'seemed': 1.0, 'nice': 1.0, 'another': 1.0, 'my': 2.0, 'happy': 1.0, 'price': 1.0, 'fun': 1.0, 'absolutely': 1.0, 'street': 2.0, 'm': 1.0, 'i': 3.0, 'perfect': 1.0, 'this': 2.0, 'soft': 1.0, 'her': 1.0, 'that': 1.0, 'loves': 1.0, 'he': 1.0, 'it': 2.0, 'one': 1.0, 'elmo': 5.0, 'for': 3.0, 'too': 1.0, 'and': 4.0, 'baby': 1.0}, {'the': 2.0, 'great': 1.0, 't': 1.0, 'book': 1.0, 'doesn': 1.0, 'who': 1.0, 'interactive': 1.0, 'lastly': 1.0, 'colors': 1.0, 'baby': 2.0, 'any': 1.0, 'and': 2.0, 'bright': 1.0, 'soft': 1.0, 'elmo': 1.0, 'love': 1.0, 'for': 2.0, 'is': 1.0, 'are': 1.0, 'beautiful': 1.0, 'showers': 1.0, 'i': 1.0, 'recent': 1.0, 'two': 1.0, 'bought': 1.0}, {'creative': 1.0, 'has': 1.0, 'bird': 1.0, 'two': 1.0, 'fun': 1.0, 'only': 1.0, 'this': 1.0, 'book': 3.0, 'but': 1.0, 'books': 1.0, 'elmo': 1.0, 'one': 1.0, 'found': 1.0, 'to': 1.0, 'wanted': 1.0, 'softplay': 1.0, 'more': 2.0, 'the': 3.0, 'get': 1.0, 'and': 2.0, 'variety': 1.0, 'friends': 1.0, 'like': 1.0, 'big': 2.0, 'we': 2.0, 'is': 2.0, 'birds': 1.0, 'another': 1.0}, {'handle': 1.0, 'to': 1.0, 'and': 1.0, 's': 2.0, 'it': 3.0, 'easy': 1.0, 'safe': 1.0, 'story': 1.0, 'boo': 1.0, 'soft': 1.0, 'cute': 1.0, 'peek': 1.0, 'baby': 1.0, 'little': 1.0, 'for': 1.0, 'book': 1.0, 'is': 2.0, 'a': 2.0, 'this': 1.0}, {'sure': 1.0, 'so': 1.0, 'baby': 1.0, 'fun': 1.0, 'to': 1.0, 'colorful': 1.0, 'the': 1.0, 'is': 1.0, 'few': 1.0, 'a': 1.0, 'have': 1.0, 'old': 1.0, 'peekaboo': 1.0, '34': 2.0, '5': 1.0, 'different': 1.0, 'say': 1.0, 'most': 1.0, 'every': 1.0, 'time': 1.0, 'laughs': 1.0, 'smiles': 1.0, 'it': 2.0, 'this': 2.0, 'he': 1.0, 'and': 7.0, 'over': 2.0, 'for': 1.0, 'elmo': 2.0, 'read': 2.0, 'stars': 1.0, 'soft': 1.0, '3': 1.0, 'adores': 1.0, 'we': 3.0, 'book': 1.0, 'books': 1.0, 'loves': 1.0, 'month': 1.0, 'son': 1.0, 'find': 1.0, 'my': 1.0}, {'babies': 1.0, 'great': 1.0, 'illustrations': 1.0, 'loves': 1.0, 'this': 2.0, 'colorful': 1.0, 'cute': 1.0, 'bright': 1.0, 'make': 1.0, 'my': 1.0, 'the': 1.0, 'for': 1.0, 'book': 2.0, 'toddlers': 1.0, 'son': 1.0, 'interactive': 1.0, 'very': 1.0}, {'present': 1.0, 'buy': 1.0, 'two': 1.0, 'i': 1.0, 'falls': 1.0, 'blocks': 1.0, 'before': 1.0, 'stack': 1.0, 'can': 1.0, 'were': 1.0, 'high': 1.0, 'how': 1.0, 'see': 1.0, 'having': 1.0, 'still': 1.0, 'book': 1.0, 'when': 2.0, 'time': 1.0, 'so': 1.0, '9': 1.0, 'a': 1.0, 'we': 1.0, 'granddauchildren': 1.0, 'if': 1.0, 'soft': 1.0, 'and': 2.0, 'play': 1.0, 'fall': 1.0, 'kiss': 1.0, 'reading': 1.0, 'elmo': 2.0, 'for': 1.0, 'love': 2.0, 'got': 1.0, 'use': 1.0, 'fun': 1.0, 'safe': 1.0, 'as': 1.0, 'to': 2.0, 'all': 1.0, 'baby': 1.0, 'them': 4.0, 'over': 1.0, 'on': 1.0, 'they': 8.0, 'it': 1.0, 'mos': 1.0, 'with': 2.0, 'now': 1.0, 'are': 3.0, 'the': 4.0, 'bought': 1.0}, {'bank': 1.0, 'didn': 1.0, 'younger': 1.0, 'gift': 1.0, 'christmas': 1.0, 'encourage': 1.0, 'side': 1.0, 'to': 2.0, 'off': 1.0, 'ruining': 1.0, 'they': 1.0, 'entertaining': 1.0, 'worrying': 1.0, 'droll': 1.0, 'have': 1.0, 'babies': 1.0, 'all': 1.0, 'chew': 1.0, 'them': 3.0, 't': 1.0, 'these': 1.0, 'great': 3.0, 'the': 4.0, 'for': 3.0, 'without': 1.0, 'their': 1.0, 'were': 2.0, 'crawling': 1.0, 'rolling': 1.0, 'letting': 1.0, 'break': 1.0, 'and': 5.0, 'setting': 1.0, 'over': 2.0, 'baby': 1.0, 'about': 1.0, 'teething': 1.0, 'i': 1.0}, {'i': 1.0, 'recommend': 1.0, 'of': 1.0, 'waste': 1.0, 'money': 1.0, 'it': 2.0, 'my': 1.0, 'stimulate': 1.0, 'a': 1.0, 'not': 1.0, 'would': 1.0, 'granddaughter': 1.0, 'is': 2.0, 'nothing': 1.0, 'to': 1.0, 'this': 1.0, 'boring': 1.0, 'book': 1.0}, {'nothing': 1.0, 'not': 1.0, 'real': 2.0, 'we': 3.0, 'a': 4.0, 'year': 1.0, 'fantastic': 1.0, 'when': 1.0, 'looking': 1.0, 'that': 1.0, 'actual': 1.0, 'to': 2.0, 'our': 1.0, 'were': 1.0, 'lion': 3.0, 'him': 1.0, 'exactly': 1.0, 'for': 1.0, 'one': 1.0, 'but': 1.0, 'of': 1.0, 'teach': 1.0, 'objects': 1.0, '1': 1.0, 'look': 1.0, 'unrealistic': 1.0, 'have': 1.0, 'them': 1.0, 'this': 1.0, 'drawing': 1.0, 'portrayals': 1.0, 'show': 1.0, 'images': 1.0, 'animals': 1.0, 'on': 1.0, 'want': 1.0, 'many': 1.0, 'is': 3.0, 'looks': 1.0, 'it': 1.0, 'hard': 1.0, 'with': 1.0, 'what': 3.0, 'books': 1.0, 'like': 2.0, 'old': 1.0, 'cloth': 1.0, 'find': 1.0, 'so': 2.0}, {'or': 1.0, 'destroying': 1.0, 'child': 1.0, 'them': 1.0, 'for': 1.0, 'young': 1.0, 'chance': 1.0, 'reading': 1.0, '34': 2.0, 'there': 1.0, 'of': 1.0, 'no': 1.0, 'little': 1.0, 'many': 1.0, 'is': 1.0, 'can': 1.0, 'memories': 1.0, 'happy': 2.0, 'so': 1.0, 'cute': 1.0, 'very': 1.0, 'read': 1.0, 'they': 1.0, 'the': 1.0, 'something': 1.0}, {'cute': 1.0, 'anyway': 1.0, 'etc': 1.0, 'interactive': 1.0, 'mot': 1.0, 'bad': 1.0, 'i': 1.0, 'to': 1.0, 'old': 1.0, 'my': 1.0, 'year': 1.0, 'interesting': 1.0, 'as': 2.0, 'thought': 1.0, 'but': 2.0, 'texture': 1.0, '1': 1.0, 'not': 2.0}, {'be': 1.0, 'will': 1.0, 'and': 1.0, 'fun': 1.0, 'so': 1.0, 'momento': 1.0, 'great': 1.0, 'it': 2.0, 'love': 1.0, 's': 1.0, 'born': 1.0, 'was': 1.0, 'when': 1.0, 'daughter': 1.0, 'calendar': 1.0, 'our': 1.0, 'me': 1.0, 'bought': 1.0, 'this': 1.0, 'friend': 1.0, 'a': 2.0}, {'mom': 1.0, 'for': 1.0, 'busy': 1.0, 'one': 1.0, 'little': 1.0, 'a': 2.0, 'the': 1.0, 'time': 1.0, 'with': 1.0, 'of': 1.0, 'keep': 1.0, 'milestones': 1.0, 'especially': 1.0, 'easy': 1.0, 'all': 1.0, 'and': 1.0, 'up': 1.0, 'to': 1.0, 'first': 2.0, 'quick': 1.0}, {'pictures': 1.0, 'personalization': 1.0, 'has': 1.0, 'look': 1.0, 'to': 1.0, 'fun': 1.0, 'be': 1.0, 'back': 1.0, 'will': 1.0, 's': 1.0, 'baby': 1.0, 'remembering': 1.0, 'month': 1.0, 'also': 1.0, 'perfect': 1.0, 'that': 1.0, 'memories': 1.0, 'high': 1.0, 'happy': 1.0, 'firsts': 1.0, 'so': 1.0, 'am': 1.0, 'reviews': 1.0, 'the': 2.0, '34': 2.0, 'of': 1.0, 'settled': 1.0, 'based': 1.0, 'quick': 1.0, 'first': 1.0, 'this': 1.0, 'on': 3.0, 'one': 1.0, 'for': 3.0, 'calendar': 1.0, 'year': 1.0, 'throughout': 1.0, 'a': 1.0, 'and': 4.0, 'jotting': 1.0, 'i': 3.0, 'did': 1.0, 'down': 1.0, 'low': 1.0, 'spots': 1.0, 'dates': 1.0, 'searched': 1.0}, {'themselves': 1.0, 'now': 1.0, 'are': 1.0, 'five': 1.0, 'my': 1.0, 'new': 1.0, 'would': 1.0, 'each': 1.0, 'very': 2.0, 'calendars': 1.0, 'i': 1.0, 'up': 1.0, 'of': 2.0, '34': 4.0, 'beginning': 1.0, 'start': 1.0, 'looking': 1.0, 'can': 1.0, 'they': 3.0, 'firsts': 2.0, 'so': 1.0, 'baby': 1.0, 'soon': 1.0, 'born': 1.0, 'one': 1.0, 'for': 2.0, 'parents': 2.0, 'these': 1.0, 'good': 1.0, 'chart': 1.0, 'mother': 1.0, 'the': 3.0, 'gift': 1.0, 'children': 1.0, 'this': 1.0, 'it': 1.0, 'give': 1.0, 'enjoy': 1.0, 'from': 1.0, 'to': 3.0, 'as': 3.0, 'their': 1.0, 'that': 1.0, 'you': 1.0, 'especially': 1.0, 'is': 2.0, 'want': 1.0, 'a': 2.0, 'had': 1.0}, {}, {'again': 1.0, 'book': 1.0, 'same': 1.0, 'receive': 1.0, 'all': 1.0, 'born': 1.0, 'to': 1.0, 'was': 2.0, 'grandson': 1.0, 'version': 1.0, 'boy': 1.0, 'baby': 1.0, 'purchased': 1.0, 'law': 1.0, 'when': 1.0, 'daughter': 1.0, 'love': 1.0, 'for': 1.0, 'in': 2.0, 'scripture': 1.0, 'and': 2.0, 'i': 1.0, 'absolutely': 1.0, 'thrilled': 1.0, 'he': 1.0, 'it': 2.0, 'my': 2.0, 'the': 3.0, 'of': 1.0}, {'pages': 1.0, 'of': 1.0, 'bottom': 1.0, 'at': 1.0, 'verses': 1.0, 'i': 1.0, 'my': 1.0, 'memories': 1.0, 'important': 1.0, 'but': 1.0, 'put': 1.0, 'to': 1.0, 'place': 1.0, 'simple': 1.0, 'it': 1.0, 'for': 1.0, 'a': 2.0, 'law': 1.0, 'in': 1.0, 'daughter': 1.0, 'she': 1.0, 'bought': 1.0, 'gift': 1.0, 'down': 1.0, 'as': 1.0, 'loved': 2.0, 'the': 1.0}, {'keeping': 1.0, 'are': 1.0, 'we': 1.0, 'memories': 1.0, 'right': 1.0, 'has': 1.0, 'lifestyle': 1.0, 'out': 1.0, 'fir': 1.0, 'etc': 1.0, 'prayers': 1.0, 'wasn': 1.0, 'scripture': 1.0, 'sure': 1.0, 'favorite': 1.0, 'for': 3.0, 'ages': 1.0, 'baby': 1.0, 'ask': 1.0, 'not': 1.0, 'pages': 1.0, 't': 2.0, 'the': 4.0, 'of': 1.0, 'some': 1.0, 'anything': 1.0, 'realize': 1.0, 'that': 3.0, 'with': 1.0, 'this': 1.0, 'it': 2.0, 'returned': 1.0, 'a': 1.0, 'so': 2.0, 'was': 1.0, 'product': 1.0, 'religious': 1.0, 'all': 1.0, 'have': 1.0, 'almost': 1.0, 'book': 1.0, 'but': 2.0, 'against': 1.0, 'didn': 1.0, 'i': 3.0}, {'gift': 1.0, 'great': 1.0, 'so': 1.0, 'etc': 1.0, 'shower': 1.0, 'of': 1.0, 'locks': 1.0, 'even': 1.0, 'pockets': 1.0, 'why': 1.0, 'born': 1.0, 'bigger': 1.0, 'main': 1.0, 'which': 1.0, 'hand': 1.0, 'foot': 1.0, 'the': 2.0, 'place': 1.0, 'we': 2.0, 'a': 2.0, 'asking': 1.0, 'and': 4.0, 'keepsakes': 1.0, 'you': 1.0, 'when': 2.0, 'gets': 1.0, 'liked': 1.0, 'for': 4.0, 'one': 2.0, 'places': 1.0, 'hair': 1.0, 'has': 1.0, 'omg': 1.0, 'put': 1.0, 'your': 2.0, 'had': 1.0, 'to': 2.0, 'is': 3.0, 'want': 1.0, 'prints': 1.0, 'book': 1.0, 'also': 1.0, 'reason': 1.0, 'this': 2.0, 'perfect': 1.0, 'starts': 1.0, 'first': 1.0, 'it': 2.0, 'loved': 1.0, 'cute': 1.0, 'questions': 1.0, 'remember': 1.0, 'little': 2.0, 'baby': 3.0, 'memories': 1.0}, {'color': 1.0, 'pink': 1.0, 'pastel': 1.0, 'with': 1.0, 'life': 1.0, 'granddaughters': 1.0, 'book': 1.0, 'in': 1.0, 'times': 1.0, 'the': 1.0, 'my': 1.0, 'cherished': 1.0, 'to': 1.0, 'great': 1.0, 'it': 1.0, 'love': 1.0, 'beautiful': 2.0, 'i': 1.0, 'record': 1.0}, {'hair': 1.0, 'preserve': 1.0, 'mini': 1.0, 'maternity': 1.0, 'firsts': 1.0, 'family': 1.0, 'info': 1.0, 'in': 1.0, 'perfect': 1.0, 'this': 2.0, 'with': 1.0, 'flammish': 1.0, 'of': 1.0, 'daddy': 1.0, 'the': 2.0, 'and': 3.0, 'french': 1.0, 'baby': 1.0, 'an': 1.0, 'book': 1.0, 'english': 1.0, 'one': 1.0, 'for': 1.0, 'fill': 1.0, 'looking': 1.0, 'pockets': 1.0, 'i': 2.0, 'lot': 1.0, 'purchase': 1.0, 'is': 2.0, 'really': 2.0, 'to': 2.0, 'was': 1.0, 'bracelet': 1.0, 'm': 1.0, 'happy': 2.0}, {'with': 1.0, 'everyone': 1.0, 'fun': 1.0, 'd': 1.0, 'serving': 1.0, 'answer': 1.0, 'life': 1.0, 'child': 2.0, 'your': 2.0, 'time': 1.0, 'important': 1.0, 'of': 1.0, 'descriptions': 1.0, 'year': 1.0, 'detailed': 1.0, 'and': 2.0, 'pleasantly': 1.0, 'photographs': 1.0, 'way': 1.0, 'a': 1.0, 's': 2.0, 'experience': 1.0, 'questions': 1.0, 'i': 2.0, 'record': 2.0, 'in': 1.0, 'this': 2.0, 'perfect': 1.0, 'is': 1.0, 'parent': 1.0, 'it': 1.0, 'receiving': 1.0, 'through': 1.0, 'kindergarten': 2.0, 'upon': 1.0, 'the': 4.0, 'my': 1.0, 'very': 1.0, 'surprised': 1.0, 'book': 2.0, 'are': 1.0, 'memory': 1.0, 'purpose': 1.0, 'its': 1.0, 'recommend': 1.0, 'was': 1.0, 'to': 3.0, 'while': 1.0, 'entitled': 1.0, 'for': 2.0, 'kindergartener': 1.0, 'one': 1.0}, {'how': 1.0, 'later': 1.0, 'years': 1.0, 'look': 1.0, 'to': 2.0, 'see': 1.0, 'a': 1.0, 'be': 1.0, 'back': 1.0, 'will': 1.0, 'the': 1.0, 'these': 1.0, 'great': 1.0, 'he': 1.0, 'it': 1.0, 'think': 1.0, 'and': 1.0, 'questions': 2.0, 'stumbled': 1.0, 'started': 1.0, 'upon': 1.0, 'my': 1.0, 'so': 1.0, 'gem': 1.0, 'answering': 1.0, 'has': 1.0, 'son': 1.0, 'memory': 1.0, 'already': 1.0, 'glad': 1.0, 'm': 1.0, 'answered': 1.0, 'i': 3.0}, {'and': 1.0, 'toy': 1.0, 'realization': 1.0, 'neat': 1.0, 'when': 1.0, 'between': 1.0, 'so': 1.0, 'elephant': 1.0, 'have': 1.0, 'we': 1.0, 'page': 1.0, 'month': 1.0, '6': 1.0, 'of': 2.0, 'keep': 1.0, 'enough': 1.0, 'be': 1.0, 'short': 1.0, 'association': 1.0, 'each': 1.0, 'old': 1.0, 'character': 1.0, 'stuffed': 1.0, 'to': 3.0, 'my': 1.0, 'the': 7.0, 'just': 2.0, 'pages': 1.0, 'words': 1.0, 'as': 1.0, 'son': 1.0, 'is': 1.0, 'it': 1.0, 'older': 1.0, 'he': 1.0, 'with': 1.0, 's': 1.0, 'attention': 1.0, 'see': 1.0, 'well': 1.0, 'a': 2.0, 'long': 1.0, 'will': 1.0, 'book': 2.0, 'few': 2.0}, {'gift': 1.0, 'makes': 1.0, 'recommend': 1.0, 'i': 1.0, 'be': 1.0, 'will': 1.0, 'nice': 1.0, 'great': 1.0, 'this': 1.0, 'it': 3.0, 'years': 1.0, 'highly': 1.0, 'and': 1.0, 'gives': 1.0, 'very': 1.0, 'for': 1.0, 'also': 1.0, 'a': 3.0, 'well': 1.0, 'light': 1.0, 'is': 1.0, 'used': 1.0, 'pretty': 1.0, 'made': 1.0}, {'5': 1.0, 'room': 1.0, 'fine': 1.0, 'decals': 1.0, 'wall': 1.0, 'affordable': 1.0, 'any': 1.0, 'up': 1.0, 'quality': 1.0, 'and': 2.0, 'easy': 1.0, 'fun': 1.0, 'project': 1.0, 'spring': 1.0, 'try': 1.0, 'for': 1.0, 'brightens': 1.0, 'a': 1.0, 'this': 1.0, 'out': 1.0}, {'roll': 1.0, 'floor': 1.0, 'fell': 1.0, 'all': 1.0, 'a': 1.0, 'see': 1.0, 'day': 1.0, 'when': 1.0, 'second': 1.0, 'is': 1.0, 'flowers': 1.0, 'only': 1.0, 'it': 1.0, 'money': 1.0, 'how': 1.0, 'pieceyou': 1.0, 'one': 1.0, 'because': 1.0, 'know': 1.0, 'flower': 1.0, 'on': 2.0, 'waste': 1.0, 'of': 1.0, 'reason': 1.0, 'in': 2.0, 'most': 1.0, 'part': 1.0, 'you': 1.0, 'wall': 1.0, 'morning': 1.0, 'sizehard': 1.0, 'apply': 1.0, 'to': 1.0, 'will': 1.0, 'the': 4.0, 'small': 1.0}, {'peeling': 1.0, '5': 1.0, 'about': 1.0, 'for': 1.0, 'stuck': 1.0, 'literally': 1.0, 'stayed': 1.0, 'them': 1.0, 'or': 1.0, 'decals': 1.0, 'almost': 1.0, 'off': 2.0, 'coming': 1.0, 'stick': 1.0, 'as': 1.0, 'and': 1.0, 'like': 1.0, 'applying': 1.0, 'minutes': 1.0, 'plastic': 1.0, 'recommend': 1.0, 'i': 1.0, 'were': 2.0, 'again': 1.0, 'thick': 1.0, 'was': 1.0, 'wall': 1.0, 'started': 1.0, 'not': 2.0, 'would': 2.0, 'then': 1.0, 'purchase': 1.0, 'the': 3.0}, {'paintwork': 1.0, 'seamless': 1.0, 'professional': 1.0, 'all': 1.0, 'at': 1.0, '34': 2.0, 'don': 1.0, 'on': 3.0, 'fantastic': 1.0, 'easy': 1.0, 'they': 2.0, 'with': 1.0, 'look': 2.0, 'to': 1.0, 'was': 1.0, 'cost': 1.0, 'a': 1.0, 'that': 1.0, 'were': 2.0, 'stick': 1.0, 'very': 4.0, 'impressed': 1.0, 'get': 1.0, 'and': 3.0, 'zealand': 1.0, 'new': 1.0, 'stickers': 2.0, 'pooh': 1.0, 'decor': 1.0, 'i': 2.0, 'themed': 1.0, 'option': 1.0, 'winnie': 1.0, 't': 1.0, 'these': 2.0, 'the': 3.0, 'wall': 2.0, 'not': 1.0, 'effective': 1.0, 'in': 1.0, 'like': 1.0, 'could': 1.0}, {'buying': 1.0, 'on': 1.0, 'i': 2.0, 'said': 1.0, 'ir': 1.0, 'came': 1.0, 'and': 1.0, 'highly': 1.0, 'page': 1.0, 'very': 1.0, 'as': 1.0, 'design': 1.0, 'grat': 1.0, 'more': 1.0, 'the': 2.0, 'product': 2.0, 'follow': 1.0, 'it': 1.0, 'reccomend': 1.0, 'about': 1.0, 'satisfied': 1.0}, {'lives': 1.0, 'your': 1.0, 'in': 1.0, 'him': 1.0, 'you': 1.0, 'country': 1.0, 'our': 1.0, 'god': 1.0, 'pray': 1.0, 'ocean': 1.0, 'now': 1.0, 'to': 1.0, 'an': 1.0, 'us': 1.0, 'jesuswho': 1.0, 'represents': 1.0, 'it': 1.0, 'for': 1.0, 'love': 1.0, 'neck': 1.0, 'of': 2.0, 'offers': 1.0, 'my': 1.0, 'around': 1.0, 'chain': 1.0, 'on': 1.0, 'jesus': 1.0, 'pendant': 1.0, 'very': 1.0, 'mercy': 3.0, 'divine': 3.0, 'need': 1.0, 'nice': 1.0}, {'now': 1.0, 'right': 1.0, 'of': 1.0, 'ordering': 1.0, 'm': 1.0, 'uses': 1.0, 'find': 1.0, 'll': 1.0, 'our': 1.0, 'that': 1.0, 'know': 1.0, 'them': 2.0, 'million': 1.0, 'clean': 1.0, 'price': 1.0, 'baby': 1.0, 'done': 1.0, 'changes': 1.0, 'and': 4.0, 'reusable': 1.0, 'get': 1.0, 'are': 3.0, 'actually': 1.0, 'more': 1.0, 'these': 1.0, 'great': 1.0, 'diaper': 2.0, 'love': 1.0, 'for': 2.0, 'other': 1.0, 'simple': 1.0, 'during': 1.0, 'they': 3.0, 'dry': 1.0, 'wipes': 2.0, 'days': 1.0, 'soft': 1.0, 'after': 1.0, 'so': 1.0, 'a': 2.0, 'my': 1.0, 'i': 4.0}, {'taking': 1.0, 'thought': 1.0, 'that': 1.0, 'fault': 1.0, 'i': 1.0, 'what': 1.0, 'my': 2.0, 'smaller': 1.0, 'a': 1.0, 'but': 1.0, 'than': 1.0, 'just': 1.0, 'not': 1.0, 'wall': 1.0, 'was': 2.0, 'looks': 1.0, 'is': 1.0, 'on': 1.0, 'measurements': 1.0, 'bit': 1.0, 'it': 2.0, 'the': 1.0, 'great': 1.0, 'and': 2.0, 'nice': 1.0}, {'package': 1.0, 'size': 1.0, 'given': 1.0, 'though': 1.0, 'reasonable': 1.0, 'side': 1.0, 'high': 1.0, 'on': 1.0, 'than': 1.0, 'price': 1.0, 'that': 1.0, 'break': 1.0, 'broken': 1.0, 'of': 2.0, 'once': 1.0, 'night': 1.0, 'clothes': 1.0, 'them': 1.0, '6': 1.0, 'he': 2.0, 'how': 1.0, 'old': 1.0, 'hasn': 1.0, 'only': 1.0, 'significantly': 1.0, 'normal': 1.0, 'are': 1.0, 'new': 1.0, 'shipping': 1.0, 'son': 1.0, 'seem': 1.0, 'has': 1.0, 'learned': 1.0, 'bit': 1.0, 'time': 1.0, 'his': 1.0, 'year': 1.0, 'sturdy': 1.0, 'use': 1.0, 'needed': 1.0, 'or': 1.0, 'to': 4.0, 'as': 1.0, 'their': 1.0, 'open': 4.0, 'was': 2.0, 'able': 1.0, 'autistic': 1.0, 'i': 1.0, 'and': 2.0, 'a': 1.0, 'we': 2.0, 't': 1.0, 'more': 2.0, 'these': 1.0, 'the': 4.0, 'my': 1.0, 'one': 1.0, 'bought': 1.0, 'safety': 1.0, 'pins': 3.0, 'recall': 1.0, 'for': 1.0}, {'others': 1.0, 'my': 1.0, 'filled': 1.0, 'needed': 1.0, 'in': 1.0, 'be': 1.0, 'to': 1.0, 'able': 1.0, 'heavy': 1.0, 'fine': 1.0, 'as': 1.0, 'need': 1.0, 'and': 1.0, 'any': 1.0, 'quality': 1.0, 'used': 1.0, 'these': 1.0, 'no': 1.0, 'worked': 1.0, 'good': 1.0, 'duty': 1.0, 'way': 1.0, 'were': 1.0}, {'dozen': 1.0, 'and': 1.0, 'bright': 1.0, 'with': 1.0, 'find': 1.0, 'to': 1.0, 'easy': 1.0, 'has': 1.0, 'of': 1.0, 'colors': 1.0, 'lots': 1.0, 'uses': 1.0, 'a': 3.0, 'for': 1.0, 'safety': 1.0, 'bargain': 1.0, 'that': 1.0, 'pin': 1.0, 'great': 2.0}, {'little': 1.0, 'so': 1.0, 'baby': 1.0, 'no': 2.0, 'flimsy': 1.0, 'fortunately': 1.0, 'on': 2.0, 'them': 1.0, 'fabric': 1.0, 'was': 2.0, 'to': 1.0, 'hold': 1.0, 'not': 1.0, 'while': 1.0, 'thick': 1.0, 'did': 1.0, 'there': 1.0, 'metal': 1.0, 'up': 1.0, 'and': 1.0, 'received': 1.0, 'the': 4.0, 'diaper': 1.0, 'stuck': 1.0, 'in': 1.0, 'used': 1.0, 'are': 2.0, 'attractive': 1.0, 'pins': 2.0, 'involved': 1.0, 'i': 2.0}, {'appreciated': 1.0, 'pampers': 1.0, 'have': 1.0, 'do': 1.0, 'they': 2.0, 'age': 1.0, 'kits': 1.0, '34': 4.0, 'not': 1.0, 'difficult': 1.0, 'is': 1.0, 'it': 1.0, 'with': 1.0, 'sent': 2.0, 'in': 2.0, 'also': 1.0, 'cloth': 1.0, 'hold': 1.0, 'honduras': 2.0, 'disposable': 1.0, 'diapers': 1.0, 'we': 2.0, 'pins': 2.0, 'these': 1.0, 'diaper': 2.0, 'the': 3.0, 'missionaries': 1.0, 'to': 3.0, 'find': 1.0, 'went': 1.0, 'our': 1.0}, {'your': 1.0, 'idea': 1.0, 'course': 1.0, 'tricky': 1.0, 'little': 1.0, 'get': 1.0, 'of': 2.0, 'washing': 1.0, 'them': 1.0, 'matter': 1.0, 'wife': 1.0, 'cycle': 1.0, 'wash': 2.0, 'up': 2.0, 'open': 2.0, 'tended': 1.0, 'friended': 1.0, 'like': 1.0, 'using': 1.0, 'yet': 1.0, 'one': 1.0, 'lost': 1.0, 'never': 1.0, 'have': 1.0, 'together': 2.0, 'dressmaker': 1.0, 'socks': 2.0, 'diaper': 2.0, 'the': 4.0, 're': 1.0, 'fact': 1.0, 'my': 2.0, 'perfectly': 1.0, 'and': 3.0, 'do': 1.0, 'pin': 1.0, 'staying': 1.0, 'working': 1.0, 'through': 2.0, 'was': 2.0, 'to': 4.0, 'tried': 1.0, 'i': 2.0, 'during': 1.0, 'a': 1.0, 'we': 2.0, 'suggested': 1.0, 'pins': 3.0, 'can': 1.0, 'but': 3.0, '34': 2.0, 'years': 1.0, 'keep': 1.0, 'since': 1.0, 'they': 2.0, 'brass': 1.0, 'recommended': 1.0, 'has': 1.0, 'many': 1.0, 'that': 1.0, 'been': 1.0, 'thery': 1.0, 'needed': 1.0, 'it': 1.0}, {'done': 1.0, 'had': 1.0, 'whole': 1.0, 'about': 1.0, 'am': 1.0, 'idea': 1.0, 'or': 1.0, 'wish': 1.0, 'this': 2.0, 'lost': 1.0, 'problem': 1.0, 'don': 1.0, 'time': 1.0, 'lot': 1.0, 'has': 1.0, 'use': 1.0, 'here': 1.0, 'grab': 1.0, 'into': 1.0, 'shelf': 1.0, 't': 1.0, 'a': 3.0, 'after': 1.0, 'mismatched': 1.0, 'have': 1.0, 'leave': 1.0, 'side': 1.0, 'and': 4.0, 'clothespins': 1.0, 'read': 1.0, 'dried': 1.0, 'the': 11.0, 'without': 1.0, 'line': 2.0, 'stay': 1.0, 'put': 1.0, 'on': 6.0, 'still': 1.0, 'life': 1.0, 'just': 2.0, 'by': 1.0, 'matching': 1.0, 'now': 1.0, 'pins': 1.0, 'reviews': 1.0, 'dirty': 1.0, 'they': 2.0, 'dry': 2.0, 'one': 1.0, 'hang': 2.0, 'saved': 1.0, 'i': 7.0, 'washer': 1.0, 'once': 1.0, 'of': 4.0, 'them': 1.0, 'feet': 1.0, 'out': 1.0, 'it': 2.0, 'with': 2.0, 'come': 1.0, 'as': 2.0, 'to': 2.0, 'washing': 1.0, 'each': 1.0, 'glad': 1.0, 'socks': 6.0, 'before': 1.0, 'pin': 2.0, 'my': 2.0, 'another': 1.0, 'reviewer': 1.0, 'for': 1.0, 'sock': 1.0, 'great': 2.0, 'these': 1.0, 'are': 2.0, 'noted': 1.0, 'hamper': 2.0, 'open': 1.0}, {'recommend': 1.0, 'would': 1.0, 'it': 1.0, 'hard': 1.0, 'very': 1.0, 'fabric': 1.0, 'all': 1.0, 'have': 1.0, 'old': 1.0, 'i': 1.0, 'thicker': 1.0, 'a': 1.0, 'unlike': 1.0, 'work': 1.0, 'part': 1.0, 'strong': 1.0, 'not': 2.0, 'at': 1.0, 'pins': 1.0, 'which': 1.0, 'diaper': 1.0, 'the': 2.0, 'is': 1.0, 'through': 1.0, 'to': 1.0, 'still': 1.0, 'steel': 1.0}, {'be': 1.0, 'back': 1.0, 'will': 1.0, 'so': 1.0, 'crochet': 1.0, 'yarn': 1.0, 'mark': 1.0, 'use': 1.0, 'they': 1.0, 'think': 1.0, 'them': 1.0, 'out': 1.0, 'sad': 1.0, 'am': 1.0, 'there': 1.0, 'in': 1.0, 'are': 2.0, 'the': 2.0, 'have': 1.0, 'counted': 1.0, '10': 1.0, 'turns': 1.0, 'safety': 1.0, 'going': 1.0, 'when': 1.0, 'pins': 3.0, 'only': 2.0, 'as': 1.0, 'dozen': 1.0, 'should': 1.0, 'a': 1.0, 'to': 2.0, 'was': 1.0, 'and': 1.0, 'getting': 1.0, 'picture': 1.0, 'overpriced': 1.0, 'i': 8.0, 'that': 1.0, 'thought': 1.0, 'regular': 1.0, 'really': 1.0}, {'anymore': 1.0, 'because': 1.0, 'am': 1.0, 'bend': 1.0, 'i': 1.0, 'tabs': 1.0, 'is': 1.0, 'said': 1.0, 'on': 1.0, 'ends': 1.0, 'pain': 1.0, 'them': 1.0, 'a': 1.0, 'which': 1.0, 'that': 2.0, 'easier': 1.0, 'pushing': 1.0, 'sides': 1.0, 'velcro': 2.0, 'older': 1.0, 'dislike': 1.0, 'work': 1.0, 'doesn': 1.0, 'diapers': 2.0, 't': 1.0, 'the': 2.0, 'my': 2.0, 'through': 2.0, 'sharp': 1.0, 'like': 1.0, 'pierce': 1.0}, {'with': 1.0, 'dog': 1.0, 'a': 1.0, 'bed': 1.0, 'for': 1.0, 'not': 2.0, 'strong': 1.0, 'material': 1.0, 'pinning': 1.0, 'expected': 1.0, 'as': 2.0, 'and': 1.0, 'bends': 1.0, 'needle': 1.0, 'is': 1.0, 'on': 1.0, 'right': 1.0, 'steel': 1.0, 'so': 1.0, 'am': 2.0, 'i': 3.0, 'easily': 1.0, 'happy': 1.0, 'color': 1.0, 'these': 2.0, 'the': 3.0, 'are': 1.0, 'diapers': 1.0, 'but': 1.0}, {'purpose': 1.0, 'no': 1.0, 'to': 2.0, 'useful': 1.0, 'have': 1.0, 'item': 1.0, 'this': 1.0, 'pins': 1.0, 'locally': 1.0, 'the': 1.0, 'are': 1.0, 'find': 1.0, 'hard': 1.0, 'a': 1.0, 'is': 1.0, 'matter': 1.0, 'diaper': 1.0}, {'off': 1.0, '2': 1.0, 'far': 1.0, 'actually': 1.0, 'difference': 1.0, 'ago': 1.0, 'could': 1.0, 't': 2.0, 'a': 1.0, 'made': 1.0, 'start': 1.0, 'hold': 1.0, 'numbers': 1.0, 'branches': 1.0, 'hand': 1.0, 'don': 1.0, 'up': 3.0, 'of': 1.0, 'sort': 1.0, 'have': 1.0, 'instruction': 1.0, 'all': 1.0, 'actual': 1.0, 'to': 3.0, 'any': 1.0, 'as': 3.0, 'about': 1.0, 'wall': 1.0, 'way': 1.0, 'seen': 1.0, 'am': 1.0, 'you': 2.0, 'weeks': 1.0, 'free': 1.0, 'they': 1.0, 'peeled': 1.0, 'compared': 1.0, 'so': 1.0, 'aligned': 1.0, 'together': 1.0, 'sense': 2.0, 'the': 5.0, 'an': 4.0, 'was': 1.0, 'doesn': 1.0, 'with': 2.0, 'it': 6.0, 'i': 4.0, 'be': 1.0, 'putting': 1.0, 'at': 1.0, 'bigger': 1.0, 'had': 2.0, 'picture': 2.0, 'pleased': 1.0, 'not': 1.0, 'give': 1.0, 'design': 1.0, 'half': 1.0, 'wish': 1.0, 'my': 1.0, 'just': 1.0, 'put': 1.0, 'make': 2.0}, {'them': 1.0, 'you': 1.0, 'soon': 1.0, 'as': 2.0, 'peel': 1.0, 'the': 2.0, 'start': 1.0, 'not': 1.0, 'wall': 2.0, 'to': 3.0, 'stick': 2.0, 'these': 1.0, 'they': 1.0, 'do': 1.0}, {'on': 1.0, 'waste': 1.0, 'wall': 1.0, 'frustrating': 1.0, 'very': 3.0, 'having': 1.0, 'pieces': 1.0, 'of': 1.0, 'up': 2.0, 'picking': 1.0, 'or': 1.0, 'off': 1.0, 'into': 1.0, 'time': 2.0, 'all': 1.0, 'glue': 1.0, 'is': 1.0, 'disappointing': 1.0, 'back': 1.0, 'wouldn': 1.0, 'excited': 1.0, 'this': 1.0, 'it': 3.0, 'i': 4.0, 'when': 1.0, 'bedroom': 2.0, 'money': 1.0, 'ended': 1.0, 'sticky': 1.0, 'baby': 1.0, 't': 1.0, 'the': 5.0, 'my': 1.0, 'was': 2.0, 'to': 3.0, 'floor': 1.0, 'product': 1.0, 'get': 1.0, 'girls': 1.0, 'super': 1.0, 'at': 1.0, 'walked': 1.0, 'not': 1.0, 'every': 1.0, 'got': 1.0, 'so': 1.0, 'for': 1.0}, {'would': 1.0, 'buy': 1.0, 'definitely': 1.0, 'devotion': 1.0, 'strong': 1.0, 'has': 1.0, 'or': 1.0, 'to': 1.0, 'as': 1.0, 'our': 2.0, 'copy': 1.0, 'undoer': 1.0, 'this': 3.0, 'lady': 1.0, 'along': 1.0, 'heart': 1.0, 'it': 4.0, 'whom': 1.0, 'my': 1.0, 'fathers': 1.0, 'between': 1.0, 'knotted': 1.0, 'crystal': 1.0, 'disappointed': 1.0, 'made': 1.0, 'again': 1.0, 'am': 1.0, 'recommend': 1.0, 'was': 1.0, 'beautiful': 1.0, 'in': 3.0, 'by': 1.0, 'just': 1.0, 'because': 1.0, 'not': 1.0, 'novena': 1.0, 'pope': 2.0, 'untier': 1.0, 'with': 2.0, 'looked': 1.0, 'francis': 2.0, 'is': 2.0, 'of': 3.0, 'photo': 1.0, 'the': 3.0, 'rosary': 2.0, 'ordered': 1.0, 'friend': 2.0, 'a': 4.0, 'blessed': 1.0, 'for': 2.0, 'beat': 1.0, 'lovely': 1.0, 'giving': 1.0, 'and': 3.0, 'knots': 1.0, 'i': 4.0}, {'all': 1.0, 'makes': 1.0, 'more': 1.0, 'the': 5.0, 'such': 1.0, 'a': 1.0, 'orattaching': 1.0, 'brown': 1.0, 'neck': 1.0, 'or': 1.0, 'wearing': 1.0, 'to': 1.0, 'precious': 1.0, 'quality': 1.0, 'an': 1.0, 'item': 1.0, 'right': 1.0, 'some': 1.0, 'blessing': 1.0, 'and': 2.0, 'scapular': 1.0, 'excellent': 1.0, 'just': 1.0, 'for': 2.0, 'price': 1.0, 'around': 1.0, 'value': 1.0}, {'beware': 1.0, 'be': 1.0, 'still': 1.0, 'tell': 1.0, 'would': 2.0, 'down': 1.0, 'there': 2.0, 'if': 3.0, 'know': 1.0, 'recognize': 1.0, 'even': 1.0, 'of': 1.0, 'once': 1.0, 'through': 1.0, 'play': 1.0, 'and': 3.0, 'too': 1.0, 'way': 2.0, 'nativity': 3.0, 'song': 2.0, 'but': 1.0, 'music': 4.0, 'don': 1.0, 'about': 1.0, 'me': 1.0, 'not': 3.0, 'item': 1.0, 'a': 2.0, 't': 1.0, 'the': 7.0, 'happy': 2.0, 'very': 1.0, 'fast': 1.0, 'someone': 1.0, 'am': 3.0, 'was': 1.0, 'beautiful': 2.0, '00': 1.0, 'is': 4.0, 'months': 1.0, 'slow': 1.0, 'excuse': 1.0, 'right': 1.0, 'look': 1.0, 'had': 3.0, 'as': 2.0, 'to': 5.0, '25': 1.0, 'get': 1.0, 'been': 2.0, 'box': 2.0, 'great': 1.0, 'excited': 2.0, 'spend': 1.0, 'with': 1.0, 'buyer': 1.0, 'wish': 1.0, 'this': 1.0, 'it': 4.0, 'so': 3.0, 'i': 10.0, 'watching': 1.0, 'have': 1.0, 'an': 1.0, 'finally': 1.0, 'love': 1.0, 'for': 1.0}, {'shipping': 1.0, 'fast': 1.0, 'overall': 1.0, 'over': 1.0, 'satisfied': 1.0, 'wrist': 1.0, 'kid': 1.0, 'wouldn': 1.0, 'got': 1.0, 'also': 1.0, 'stay': 1.0, 'product': 2.0, 'love': 1.0, 'for': 1.0, 'fit': 2.0, 'small': 3.0, 'snug': 1.0, 'have': 2.0, 'the': 3.0, 'hands': 1.0, 'bigger': 1.0, 'hair': 1.0, 'my': 1.0, 'get': 1.0, 'were': 1.0, 'whew': 1.0, 'but': 2.0, 'and': 2.0, 'tough': 2.0, 'lotion': 1.0, 'bangle': 1.0, 'them': 1.0, 'with': 3.0, 'fitting': 1.0, 'i': 5.0, 'like': 1.0, 'hand': 2.0, 'if': 1.0, 'was': 1.0, 'to': 3.0, 'had': 1.0, 'bit': 1.0, 'adult': 1.0, 'size': 1.0, 'slid': 1.0, 't': 1.0, 'a': 3.0, 'bangles': 1.0, 'however': 1.0, 'these': 1.0, 'are': 2.0, 'they': 4.0, 'large': 1.0, 'pleased': 1.0, 'on': 3.0, 'am': 1.0}, {'cooking': 1.0, 'set': 1.0, 'fun': 1.0, 'lot': 1.0, 'a': 1.0, 'of': 1.0, 'has': 1.0, 'she': 1.0, 'was': 1.0, 'granddaughter': 1.0, 'old': 1.0, 'yr': 1.0, 'and': 2.0, 'great': 1.0, 'the': 1.0, 'my': 1.0, 'playing': 1.0, 'for': 1.0, 'pretend': 1.0, 'with': 1.0, '2': 1.0, 'this': 1.0}, {'them': 1.0, 'also': 1.0, 'awesome': 1.0, 'is': 1.0, 'wash': 1.0, 'much': 1.0, 'those': 1.0, 'to': 1.0, 'useful': 1.0, 'my': 1.0, 'the': 1.0, 'are': 1.0, 'they': 1.0, 'easy': 1.0, 'price': 1.0, 'bibs': 1.0, 'friends': 1.0, 'dry': 1.0, 'and': 1.0, 'like': 2.0, 'very': 2.0, 'i': 1.0}, {'easy': 1.0, 'mouth': 1.0, 'the': 2.0, 'wash': 1.0, 'in': 1.0, 'fall': 1.0, 'elbows': 1.0, 'loved': 1.0, 'too': 1.0, 'when': 1.0, 'daughter': 1.0, 'pasta': 2.0, 'marinara': 1.0, 'his': 2.0, 'curls': 1.0, 'grandson': 1.0, 'who': 1.0, 'eat': 1.0, 'eaters': 1.0, 'boy': 1.0, 'beautiful': 1.0, 'fingers': 1.0, 'to': 2.0, 'protections': 1.0, 'old': 1.0, 'months': 1.0, '20': 1.0, 'or': 1.0, 'good': 1.0, 'loves': 1.0, 'with': 1.0, 'this': 2.0, 'my': 2.0, 'pocket': 1.0, 'bibs': 2.0, 'messy': 1.0, 'missing': 1.0, 'for': 1.0, 'front': 1.0, 'a': 1.0, 'very': 1.0, 'is': 1.0, 'provided': 1.0}, {'to': 2.0, 'it': 1.0, 'wait': 1.0, 'can': 1.0, 'my': 2.0, 'perfect': 1.0, 'ornament': 1.0, 'and': 1.0, 'for': 1.0, 'nativity': 2.0, 'i': 1.0, 'a': 1.0, 'add': 1.0, 'is': 2.0, 'such': 1.0, 'collection': 1.0, 'ornaments': 1.0, 'cute': 1.0, 'tree': 1.0, 'collect': 1.0, 't': 1.0, 'this': 2.0}, ... ]"
      ]
     },
     "execution_count": 8,
     "metadata": {},
     "output_type": "execute_result"
    }
   ],
   "source": [
    "products['word_count']"
   ]
  },
  {
   "cell_type": "markdown",
   "id": "3b4bee39",
   "metadata": {},
   "source": [
    "# Exploring the most popular product"
   ]
  },
  {
   "cell_type": "code",
   "execution_count": 9,
   "id": "29363638",
   "metadata": {},
   "outputs": [
    {
     "data": {
      "text/html": [
       "<pre>Materializing SFrame</pre>"
      ],
      "text/plain": [
       "Materializing SFrame"
      ]
     },
     "metadata": {},
     "output_type": "display_data"
    },
    {
     "data": {
      "text/html": [
       "<pre>Warning: Skipping column 'word_count'. Unable to show columns of type 'dictionary'; only [int, float, str] can be shown.</pre>"
      ],
      "text/plain": [
       "Warning: Skipping column 'word_count'. Unable to show columns of type 'dictionary'; only [int, float, str] can be shown."
      ]
     },
     "metadata": {},
     "output_type": "display_data"
    },
    {
     "data": {
      "text/html": [
       "<pre>Further warnings of unsupported type will be suppressed.</pre>"
      ],
      "text/plain": [
       "Further warnings of unsupported type will be suppressed."
      ]
     },
     "metadata": {},
     "output_type": "display_data"
    },
    {
     "data": {
      "text/html": [
       "<html>                 <body>                     <iframe style=\"border:0;margin:0\" width=\"1000\" height=\"1200\" srcdoc='<html lang=\"en\">                         <head>                             <script src=\"https://cdnjs.cloudflare.com/ajax/libs/vega/5.4.0/vega.js\"></script>                             <script src=\"https://cdnjs.cloudflare.com/ajax/libs/vega-embed/4.0.0/vega-embed.js\"></script>                             <script src=\"https://cdnjs.cloudflare.com/ajax/libs/vega-tooltip/0.5.1/vega-tooltip.min.js\"></script>                             <link rel=\"stylesheet\" type=\"text/css\" href=\"https://cdnjs.cloudflare.com/ajax/libs/vega-tooltip/0.5.1/vega-tooltip.min.css\">                             <style>                             .vega-actions > a{                                 color:white;                                 text-decoration: none;                                 font-family: \"Arial\";                                 cursor:pointer;                                 padding:5px;                                 background:#AAAAAA;                                 border-radius:4px;                                 padding-left:10px;                                 padding-right:10px;                                 margin-right:5px;                             }                             .vega-actions{                                 margin-top:20px;                                 text-align:center                             }                            .vega-actions > a{                                 background:#999999;                            }                             </style>                         </head>                         <body>                             <div id=\"vis\">                             </div>                             <script>                                 var vega_json = \"{\\\"$schema\\\": \\\"https://vega.github.io/schema/vega/v4.json\\\", \\\"metadata\\\": {\\\"bubbleOpts\\\": {\\\"showAllFields\\\": false, \\\"fields\\\": [{\\\"field\\\": \\\"left\\\"}, {\\\"field\\\": \\\"right\\\"}, {\\\"field\\\": \\\"count\\\"}, {\\\"field\\\": \\\"label\\\"}]}}, \\\"width\\\": 800, \\\"height\\\": 980, \\\"padding\\\": 8, \\\"data\\\": [{\\\"name\\\": \\\"pts_store\\\"}, {\\\"name\\\": \\\"source_2\\\", \\\"values\\\": [{\\\"a\\\": 0, \\\"title\\\": \\\"name\\\", \\\"num_row\\\": 183531, \\\"type\\\": \\\"str\\\", \\\"num_unique\\\": 32419, \\\"num_missing\\\": 284, \\\"categorical\\\": [{\\\"label\\\": \\\"Vulli Sophie the Giraffe Teether\\\", \\\"label_idx\\\": 0, \\\"count\\\": 785, \\\"percentage\\\": \\\"0.427721%\\\"}, {\\\"label\\\": \\\"Simple Wishes Hands-Free Breastpump Bra, Pink, XS-L\\\", \\\"label_idx\\\": 1, \\\"count\\\": 562, \\\"percentage\\\": \\\"0.306215%\\\"}, {\\\"label\\\": \\\"Infant Optics DXR-5 2.4 GHz Digital Video Baby Monitor with Night Vision\\\", \\\"label_idx\\\": 2, \\\"count\\\": 561, \\\"percentage\\\": \\\"0.30567%\\\"}, {\\\"label\\\": \\\"Baby Einstein Take Along Tunes\\\", \\\"label_idx\\\": 3, \\\"count\\\": 547, \\\"percentage\\\": \\\"0.298042%\\\"}, {\\\"label\\\": \\\"Cloud b Twilight Constellation Night Light, Turtle\\\", \\\"label_idx\\\": 4, \\\"count\\\": 520, \\\"percentage\\\": \\\"0.283331%\\\"}, {\\\"label\\\": \\\"Fisher-Price Booster Seat, Blue/Green/Gray\\\", \\\"label_idx\\\": 5, \\\"count\\\": 489, \\\"percentage\\\": \\\"0.26644%\\\"}, {\\\"label\\\": \\\"Fisher-Price Rainforest Jumperoo\\\", \\\"label_idx\\\": 6, \\\"count\\\": 450, \\\"percentage\\\": \\\"0.24519%\\\"}, {\\\"label\\\": \\\"Graco Nautilus 3-in-1 Car Seat, Matrix\\\", \\\"label_idx\\\": 7, \\\"count\\\": 419, \\\"percentage\\\": \\\"0.228299%\\\"}, {\\\"label\\\": \\\"Leachco Snoogle Total Body Pillow\\\", \\\"label_idx\\\": 8, \\\"count\\\": 388, \\\"percentage\\\": \\\"0.211408%\\\"}, {\\\"label\\\": \\\"Regalo Easy Step Walk Thru Gate, White\\\", \\\"label_idx\\\": 9, \\\"count\\\": 374, \\\"percentage\\\": \\\"0.20378%\\\"}, {\\\"label\\\": \\\"Other (32409 labels)\\\", \\\"label_idx\\\": 10, \\\"count\\\": 178436, \\\"percentage\\\": \\\"97.2239%\\\"}], \\\"numeric\\\": []}, {\\\"a\\\": 1, \\\"title\\\": \\\"review\\\", \\\"num_row\\\": 183531, \\\"type\\\": \\\"str\\\", \\\"num_unique\\\": 182643, \\\"num_missing\\\": 0, \\\"categorical\\\": [{\\\"label\\\": \\\"\\\", \\\"label_idx\\\": 0, \\\"count\\\": 829, \\\"percentage\\\": \\\"0.451695%\\\"}, {\\\"label\\\": \\\"Very good\\\", \\\"label_idx\\\": 1, \\\"count\\\": 5, \\\"percentage\\\": \\\"0.00272434%\\\"}, {\\\"label\\\": \\\"good\\\", \\\"label_idx\\\": 2, \\\"count\\\": 5, \\\"percentage\\\": \\\"0.00272434%\\\"}, {\\\"label\\\": \\\"very nice\\\", \\\"label_idx\\\": 3, \\\"count\\\": 5, \\\"percentage\\\": \\\"0.00272434%\\\"}, {\\\"label\\\": \\\"Excellent!\\\", \\\"label_idx\\\": 4, \\\"count\\\": 4, \\\"percentage\\\": \\\"0.00217947%\\\"}, {\\\"label\\\": \\\"Excellent product! It came perfectly organized in the box. It looks like the one in the picture, it&apos;s white so it can be for either boys or girls.\\\", \\\"label_idx\\\": 5, \\\"count\\\": 3, \\\"percentage\\\": \\\"0.0016346%\\\"}, {\\\"label\\\": \\\"Good\\\", \\\"label_idx\\\": 6, \\\"count\\\": 3, \\\"percentage\\\": \\\"0.0016346%\\\"}, {\\\"label\\\": \\\"Great\\\", \\\"label_idx\\\": 7, \\\"count\\\": 3, \\\"percentage\\\": \\\"0.0016346%\\\"}, {\\\"label\\\": \\\"Great product\\\", \\\"label_idx\\\": 8, \\\"count\\\": 3, \\\"percentage\\\": \\\"0.0016346%\\\"}, {\\\"label\\\": \\\"Great product!\\\", \\\"label_idx\\\": 9, \\\"count\\\": 3, \\\"percentage\\\": \\\"0.0016346%\\\"}, {\\\"label\\\": \\\"Other (182633 labels)\\\", \\\"label_idx\\\": 10, \\\"count\\\": 182668, \\\"percentage\\\": \\\"99.5298%\\\"}], \\\"numeric\\\": []}, {\\\"a\\\": 2, \\\"title\\\": \\\"rating\\\", \\\"num_row\\\": 183531, \\\"type\\\": \\\"float\\\", \\\"num_unique\\\": 5, \\\"num_missing\\\": 0, \\\"mean\\\": 4.120448, \\\"min\\\": 1.0, \\\"max\\\": 5.0, \\\"median\\\": 5.0, \\\"stdev\\\": 1.285014, \\\"numeric\\\": [{\\\"left\\\": 0.928, \\\"right\\\": 1.136, \\\"count\\\": 15183}, {\\\"left\\\": 1.136, \\\"right\\\": 1.344, \\\"count\\\": 0}, {\\\"left\\\": 1.344, \\\"right\\\": 1.552, \\\"count\\\": 0}, {\\\"left\\\": 1.552, \\\"right\\\": 1.76, \\\"count\\\": 0}, {\\\"left\\\": 1.76, \\\"right\\\": 1.968, \\\"count\\\": 0}, {\\\"left\\\": 1.968, \\\"right\\\": 2.176, \\\"count\\\": 11310}, {\\\"left\\\": 2.176, \\\"right\\\": 2.384, \\\"count\\\": 0}, {\\\"left\\\": 2.384, \\\"right\\\": 2.592, \\\"count\\\": 0}, {\\\"left\\\": 2.592, \\\"right\\\": 2.8, \\\"count\\\": 0}, {\\\"left\\\": 2.8, \\\"right\\\": 3.008, \\\"count\\\": 16779}, {\\\"left\\\": 3.008, \\\"right\\\": 3.216, \\\"count\\\": 0}, {\\\"left\\\": 3.216, \\\"right\\\": 3.424, \\\"count\\\": 0}, {\\\"left\\\": 3.424, \\\"right\\\": 3.632, \\\"count\\\": 0}, {\\\"left\\\": 3.632, \\\"right\\\": 3.84, \\\"count\\\": 0}, {\\\"left\\\": 3.84, \\\"right\\\": 4.048, \\\"count\\\": 33205}, {\\\"left\\\": 4.048, \\\"right\\\": 4.256, \\\"count\\\": 0}, {\\\"left\\\": 4.256, \\\"right\\\": 4.464, \\\"count\\\": 0}, {\\\"left\\\": 4.464, \\\"right\\\": 4.672, \\\"count\\\": 0}, {\\\"left\\\": 4.672, \\\"right\\\": 4.88, \\\"count\\\": 0}, {\\\"left\\\": 4.88, \\\"right\\\": 5.088, \\\"count\\\": 107054}, {\\\"start\\\": 0.928, \\\"stop\\\": 5.088, \\\"step\\\": 0.208}], \\\"categorical\\\": []}]}, {\\\"name\\\": \\\"data_2\\\", \\\"source\\\": \\\"source_2\\\", \\\"transform\\\": [{\\\"type\\\": \\\"formula\\\", \\\"expr\\\": \\\"20\\\", \\\"as\\\": \\\"c_x_axis_back\\\"}, {\\\"type\\\": \\\"formula\\\", \\\"expr\\\": \\\"toNumber(datum[\\\\\\\"a\\\\\\\"])*300+66\\\", \\\"as\\\": \\\"c_main_background\\\"}, {\\\"type\\\": \\\"formula\\\", \\\"expr\\\": \\\"toNumber(datum[\\\\\\\"a\\\\\\\"])*300+43\\\", \\\"as\\\": \\\"c_top_bar\\\"}, {\\\"type\\\": \\\"formula\\\", \\\"expr\\\": \\\"toNumber(datum[\\\\\\\"a\\\\\\\"])*300+59\\\", \\\"as\\\": \\\"c_top_title\\\"}, {\\\"type\\\": \\\"formula\\\", \\\"expr\\\": \\\"toNumber(datum[\\\\\\\"a\\\\\\\"])*300+58\\\", \\\"as\\\": \\\"c_top_type\\\"}, {\\\"type\\\": \\\"formula\\\", \\\"expr\\\": \\\"toNumber(datum[\\\\\\\"a\\\\\\\"])*300+178\\\", \\\"as\\\": \\\"c_rule\\\"}, {\\\"type\\\": \\\"formula\\\", \\\"expr\\\": \\\"toNumber(datum[\\\\\\\"a\\\\\\\"])*300+106\\\", \\\"as\\\": \\\"c_num_rows\\\"}, {\\\"type\\\": \\\"formula\\\", \\\"expr\\\": \\\"toNumber(datum[\\\\\\\"a\\\\\\\"])*300+130\\\", \\\"as\\\": \\\"c_num_unique\\\"}, {\\\"type\\\": \\\"formula\\\", \\\"expr\\\": \\\"toNumber(datum[\\\\\\\"a\\\\\\\"])*300+154\\\", \\\"as\\\": \\\"c_missing\\\"}, {\\\"type\\\": \\\"formula\\\", \\\"expr\\\": \\\"toNumber(datum[\\\\\\\"a\\\\\\\"])*300+105\\\", \\\"as\\\": \\\"c_num_rows_val\\\"}, {\\\"type\\\": \\\"formula\\\", \\\"expr\\\": \\\"toNumber(datum[\\\\\\\"a\\\\\\\"])*300+130\\\", \\\"as\\\": \\\"c_num_unique_val\\\"}, {\\\"type\\\": \\\"formula\\\", \\\"expr\\\": \\\"toNumber(datum[\\\\\\\"a\\\\\\\"])*300+154\\\", \\\"as\\\": \\\"c_missing_val\\\"}, {\\\"type\\\": \\\"formula\\\", \\\"expr\\\": \\\"toNumber(datum[\\\\\\\"a\\\\\\\"])*300+195\\\", \\\"as\\\": \\\"c_frequent_items\\\"}, {\\\"type\\\": \\\"formula\\\", \\\"expr\\\": \\\"toNumber(datum[\\\\\\\"a\\\\\\\"])*300+218\\\", \\\"as\\\": \\\"c_first_item\\\"}, {\\\"type\\\": \\\"formula\\\", \\\"expr\\\": \\\"toNumber(datum[\\\\\\\"a\\\\\\\"])*300+235\\\", \\\"as\\\": \\\"c_second_item\\\"}, {\\\"type\\\": \\\"formula\\\", \\\"expr\\\": \\\"toNumber(datum[\\\\\\\"a\\\\\\\"])*300+252\\\", \\\"as\\\": \\\"c_third_item\\\"}, {\\\"type\\\": \\\"formula\\\", \\\"expr\\\": \\\"toNumber(datum[\\\\\\\"a\\\\\\\"])*300+269\\\", \\\"as\\\": \\\"c_fourth_item\\\"}, {\\\"type\\\": \\\"formula\\\", \\\"expr\\\": \\\"toNumber(datum[\\\\\\\"a\\\\\\\"])*300+286\\\", \\\"as\\\": \\\"c_fifth_item\\\"}, {\\\"type\\\": \\\"formula\\\", \\\"expr\\\": \\\"toNumber(datum[\\\\\\\"a\\\\\\\"])*300+200\\\", \\\"as\\\": \\\"c_mean\\\"}, {\\\"type\\\": \\\"formula\\\", \\\"expr\\\": \\\"toNumber(datum[\\\\\\\"a\\\\\\\"])*300+220\\\", \\\"as\\\": \\\"c_min\\\"}, {\\\"type\\\": \\\"formula\\\", \\\"expr\\\": \\\"toNumber(datum[\\\\\\\"a\\\\\\\"])*300+240\\\", \\\"as\\\": \\\"c_max\\\"}, {\\\"type\\\": \\\"formula\\\", \\\"expr\\\": \\\"toNumber(datum[\\\\\\\"a\\\\\\\"])*300+260\\\", \\\"as\\\": \\\"c_median\\\"}, {\\\"type\\\": \\\"formula\\\", \\\"expr\\\": \\\"toNumber(datum[\\\\\\\"a\\\\\\\"])*300+280\\\", \\\"as\\\": \\\"c_stdev\\\"}, {\\\"type\\\": \\\"formula\\\", \\\"expr\\\": \\\"toNumber(datum[\\\\\\\"a\\\\\\\"])*300+198\\\", \\\"as\\\": \\\"c_mean_val\\\"}, {\\\"type\\\": \\\"formula\\\", \\\"expr\\\": \\\"toNumber(datum[\\\\\\\"a\\\\\\\"])*300+218\\\", \\\"as\\\": \\\"c_min_val\\\"}, {\\\"type\\\": \\\"formula\\\", \\\"expr\\\": \\\"toNumber(datum[\\\\\\\"a\\\\\\\"])*300+238\\\", \\\"as\\\": \\\"c_max_val\\\"}, {\\\"type\\\": \\\"formula\\\", \\\"expr\\\": \\\"toNumber(datum[\\\\\\\"a\\\\\\\"])*300+258\\\", \\\"as\\\": \\\"c_median_val\\\"}, {\\\"type\\\": \\\"formula\\\", \\\"expr\\\": \\\"toNumber(datum[\\\\\\\"a\\\\\\\"])*300+278\\\", \\\"as\\\": \\\"c_stdev_val\\\"}, {\\\"type\\\": \\\"formula\\\", \\\"expr\\\": \\\"toNumber(datum[\\\\\\\"a\\\\\\\"])*300+106\\\", \\\"as\\\": \\\"graph_offset\\\"}, {\\\"type\\\": \\\"formula\\\", \\\"expr\\\": \\\"toNumber(datum[\\\\\\\"a\\\\\\\"])*300+132\\\", \\\"as\\\": \\\"graph_offset_categorical\\\"}, {\\\"type\\\": \\\"formula\\\", \\\"expr\\\": \\\"(toString(datum[\\\\\\\"type\\\\\\\"]) == \\\\\\\"integer\\\\\\\" || toString(datum[\\\\\\\"type\\\\\\\"]) == \\\\\\\"float\\\\\\\")?false:true\\\", \\\"as\\\": \\\"c_clip_val\\\"}, {\\\"type\\\": \\\"formula\\\", \\\"expr\\\": \\\"(toString(datum[\\\\\\\"type\\\\\\\"]) == \\\\\\\"integer\\\\\\\" || toString(datum[\\\\\\\"type\\\\\\\"]) == \\\\\\\"float\\\\\\\")?250:0\\\", \\\"as\\\": \\\"c_width_numeric_val\\\"}, {\\\"type\\\": \\\"formula\\\", \\\"expr\\\": \\\"(toString(datum[\\\\\\\"type\\\\\\\"]) == \\\\\\\"str\\\\\\\")?false:true\\\", \\\"as\\\": \\\"c_clip_val_cat\\\"}, {\\\"type\\\": \\\"formula\\\", \\\"expr\\\": \\\"(toString(datum[\\\\\\\"type\\\\\\\"]) == \\\\\\\"str\\\\\\\")?250:0\\\", \\\"as\\\": \\\"c_width_numeric_val_cat\\\"}]}], \\\"marks\\\": [{\\\"encode\\\": {\\\"enter\\\": {\\\"x\\\": {\\\"value\\\": 0}, \\\"width\\\": {\\\"value\\\": 734}, \\\"y\\\": {\\\"value\\\": 0}, \\\"height\\\": {\\\"value\\\": 366}, \\\"clip\\\": {\\\"value\\\": 0}, \\\"fill\\\": {\\\"value\\\": \\\"#ffffff\\\"}, \\\"fillOpacity\\\": {\\\"value\\\": 0}, \\\"stroke\\\": {\\\"value\\\": \\\"#000000\\\"}, \\\"strokeWidth\\\": {\\\"value\\\": 0}}}, \\\"marks\\\": [{\\\"encode\\\": {\\\"enter\\\": {\\\"x\\\": {\\\"value\\\": 0}, \\\"width\\\": {\\\"value\\\": 734}, \\\"y\\\": {\\\"value\\\": 0}, \\\"height\\\": {\\\"value\\\": 366}, \\\"clip\\\": {\\\"value\\\": 0}, \\\"fill\\\": {\\\"value\\\": \\\"#ffffff\\\"}, \\\"fillOpacity\\\": {\\\"value\\\": 0}, \\\"stroke\\\": {\\\"value\\\": \\\"#000000\\\"}, \\\"strokeWidth\\\": {\\\"value\\\": 0}}}, \\\"scales\\\": [], \\\"axes\\\": [], \\\"marks\\\": [{\\\"from\\\": {\\\"data\\\": \\\"data_2\\\"}, \\\"encode\\\": {\\\"enter\\\": {\\\"x\\\": {\\\"value\\\": 33}, \\\"width\\\": {\\\"value\\\": 700}, \\\"y\\\": {\\\"value\\\": 66}, \\\"height\\\": {\\\"value\\\": 250}, \\\"fill\\\": {\\\"value\\\": \\\"#FEFEFE\\\"}, \\\"fillOpacity\\\": {\\\"value\\\": 1}, \\\"stroke\\\": {\\\"value\\\": \\\"#DEDEDE\\\"}, \\\"strokeWidth\\\": {\\\"value\\\": 0.5}}, \\\"update\\\": {\\\"x\\\": {\\\"signal\\\": \\\"datum[\\\\\\\"c_x_axis_back\\\\\\\"]\\\"}, \\\"y\\\": {\\\"field\\\": \\\"c_main_background\\\"}}}, \\\"type\\\": \\\"rect\\\"}, {\\\"from\\\": {\\\"data\\\": \\\"data_2\\\"}, \\\"encode\\\": {\\\"enter\\\": {\\\"x\\\": {\\\"value\\\": 33}, \\\"width\\\": {\\\"value\\\": 700}, \\\"y\\\": {\\\"value\\\": 43}, \\\"height\\\": {\\\"value\\\": 30}, \\\"fill\\\": {\\\"value\\\": \\\"#F5F5F5\\\"}, \\\"fillOpacity\\\": {\\\"value\\\": 1}, \\\"stroke\\\": {\\\"value\\\": \\\"#DEDEDE\\\"}, \\\"strokeWidth\\\": {\\\"value\\\": 0.5}}, \\\"update\\\": {\\\"x\\\": {\\\"signal\\\": \\\"datum[\\\\\\\"c_x_axis_back\\\\\\\"]\\\"}, \\\"y\\\": {\\\"field\\\": \\\"c_top_bar\\\"}}}, \\\"type\\\": \\\"rect\\\"}, {\\\"from\\\": {\\\"data\\\": \\\"data_2\\\"}, \\\"encode\\\": {\\\"enter\\\": {\\\"x\\\": {\\\"value\\\": 720}, \\\"y\\\": {\\\"value\\\": 58}, \\\"text\\\": {\\\"signal\\\": \\\"&apos;&apos;+datum[\\\\\\\"type\\\\\\\"]\\\"}, \\\"align\\\": {\\\"value\\\": \\\"right\\\"}, \\\"baseline\\\": {\\\"value\\\": \\\"middle\\\"}, \\\"dx\\\": {\\\"value\\\": 0, \\\"offset\\\": 0}, \\\"dy\\\": {\\\"value\\\": 0, \\\"offset\\\": 0}, \\\"angle\\\": {\\\"value\\\": 0}, \\\"font\\\": {\\\"value\\\": \\\"AvenirNext-Medium\\\"}, \\\"fontSize\\\": {\\\"value\\\": 12}, \\\"fontWeight\\\": {\\\"value\\\": \\\"normal\\\"}, \\\"fontStyle\\\": {\\\"value\\\": \\\"normal\\\"}, \\\"fill\\\": {\\\"value\\\": \\\"#595859\\\"}}, \\\"update\\\": {\\\"x\\\": {\\\"signal\\\": \\\"datum[\\\\\\\"c_x_axis_back\\\\\\\"]+687\\\"}, \\\"y\\\": {\\\"field\\\": \\\"c_top_type\\\"}}}, \\\"type\\\": \\\"text\\\"}, {\\\"from\\\": {\\\"data\\\": \\\"data_2\\\"}, \\\"encode\\\": {\\\"enter\\\": {\\\"x\\\": {\\\"value\\\": 44}, \\\"y\\\": {\\\"value\\\": 59}, \\\"text\\\": {\\\"signal\\\": \\\"&apos;&apos;+datum[\\\\\\\"title\\\\\\\"]\\\"}, \\\"align\\\": {\\\"value\\\": \\\"left\\\"}, \\\"baseline\\\": {\\\"value\\\": \\\"middle\\\"}, \\\"dx\\\": {\\\"value\\\": 0, \\\"offset\\\": 0}, \\\"dy\\\": {\\\"value\\\": 0, \\\"offset\\\": 0}, \\\"angle\\\": {\\\"value\\\": 0}, \\\"font\\\": {\\\"value\\\": \\\"AvenirNext-Medium\\\"}, \\\"fontSize\\\": {\\\"value\\\": 15}, \\\"fontWeight\\\": {\\\"value\\\": \\\"normal\\\"}, \\\"fontStyle\\\": {\\\"value\\\": \\\"normal\\\"}, \\\"fill\\\": {\\\"value\\\": \\\"#9B9B9B\\\"}}, \\\"update\\\": {\\\"x\\\": {\\\"signal\\\": \\\"datum[\\\\\\\"c_x_axis_back\\\\\\\"]+11\\\"}, \\\"y\\\": {\\\"field\\\": \\\"c_top_title\\\"}}}, \\\"type\\\": \\\"text\\\"}, {\\\"from\\\": {\\\"data\\\": \\\"data_2\\\"}, \\\"encode\\\": {\\\"enter\\\": {\\\"x\\\": {\\\"value\\\": 500}, \\\"y\\\": {\\\"value\\\": 178}, \\\"stroke\\\": {\\\"value\\\": \\\"#EDEDEB\\\"}, \\\"strokeWidth\\\": {\\\"value\\\": 1}, \\\"strokeCap\\\": {\\\"value\\\": \\\"butt\\\"}, \\\"x2\\\": {\\\"value\\\": 720}, \\\"y2\\\": {\\\"value\\\": 178}}, \\\"update\\\": {\\\"x\\\": {\\\"signal\\\": \\\"datum[\\\\\\\"c_x_axis_back\\\\\\\"]+467\\\"}, \\\"x2\\\": {\\\"signal\\\": \\\"datum[\\\\\\\"c_x_axis_back\\\\\\\"]+687\\\"}, \\\"y\\\": {\\\"field\\\": \\\"c_rule\\\"}, \\\"y2\\\": {\\\"field\\\": \\\"c_rule\\\"}}}, \\\"type\\\": \\\"rule\\\"}, {\\\"from\\\": {\\\"data\\\": \\\"data_2\\\"}, \\\"encode\\\": {\\\"enter\\\": {\\\"x\\\": {\\\"value\\\": 500}, \\\"y\\\": {\\\"value\\\": 106}, \\\"text\\\": {\\\"value\\\": \\\"Num. Rows:\\\"}, \\\"align\\\": {\\\"value\\\": \\\"left\\\"}, \\\"baseline\\\": {\\\"value\\\": \\\"middle\\\"}, \\\"dx\\\": {\\\"value\\\": 0, \\\"offset\\\": 0}, \\\"dy\\\": {\\\"value\\\": 0, \\\"offset\\\": 0}, \\\"angle\\\": {\\\"value\\\": 0}, \\\"font\\\": {\\\"value\\\": \\\"AvenirNext-Medium\\\"}, \\\"fontSize\\\": {\\\"value\\\": 12}, \\\"fontWeight\\\": {\\\"value\\\": \\\"normal\\\"}, \\\"fontStyle\\\": {\\\"value\\\": \\\"normal\\\"}, \\\"fill\\\": {\\\"value\\\": \\\"#4A4A4A\\\"}}, \\\"update\\\": {\\\"x\\\": {\\\"signal\\\": \\\"datum[\\\\\\\"c_x_axis_back\\\\\\\"]+467\\\"}, \\\"y\\\": {\\\"field\\\": \\\"c_num_rows\\\"}}}, \\\"type\\\": \\\"text\\\"}, {\\\"from\\\": {\\\"data\\\": \\\"data_2\\\"}, \\\"encode\\\": {\\\"enter\\\": {\\\"x\\\": {\\\"value\\\": 500}, \\\"y\\\": {\\\"value\\\": 130}, \\\"text\\\": {\\\"value\\\": \\\"Num. Unique:\\\"}, \\\"align\\\": {\\\"value\\\": \\\"left\\\"}, \\\"baseline\\\": {\\\"value\\\": \\\"middle\\\"}, \\\"dx\\\": {\\\"value\\\": 0, \\\"offset\\\": 0}, \\\"dy\\\": {\\\"value\\\": 0, \\\"offset\\\": 0}, \\\"angle\\\": {\\\"value\\\": 0}, \\\"font\\\": {\\\"value\\\": \\\"AvenirNext-Medium\\\"}, \\\"fontSize\\\": {\\\"value\\\": 12}, \\\"fontWeight\\\": {\\\"value\\\": \\\"normal\\\"}, \\\"fontStyle\\\": {\\\"value\\\": \\\"normal\\\"}, \\\"fill\\\": {\\\"value\\\": \\\"#4A4A4A\\\"}}, \\\"update\\\": {\\\"x\\\": {\\\"signal\\\": \\\"datum[\\\\\\\"c_x_axis_back\\\\\\\"]+467\\\"}, \\\"y\\\": {\\\"field\\\": \\\"c_num_unique\\\"}}}, \\\"type\\\": \\\"text\\\"}, {\\\"from\\\": {\\\"data\\\": \\\"data_2\\\"}, \\\"encode\\\": {\\\"enter\\\": {\\\"x\\\": {\\\"value\\\": 500}, \\\"y\\\": {\\\"value\\\": 154}, \\\"text\\\": {\\\"value\\\": \\\"Missing:\\\"}, \\\"align\\\": {\\\"value\\\": \\\"left\\\"}, \\\"baseline\\\": {\\\"value\\\": \\\"middle\\\"}, \\\"dx\\\": {\\\"value\\\": 0, \\\"offset\\\": 0}, \\\"dy\\\": {\\\"value\\\": 0, \\\"offset\\\": 0}, \\\"angle\\\": {\\\"value\\\": 0}, \\\"font\\\": {\\\"value\\\": \\\"AvenirNext-Medium\\\"}, \\\"fontSize\\\": {\\\"value\\\": 12}, \\\"fontWeight\\\": {\\\"value\\\": \\\"normal\\\"}, \\\"fontStyle\\\": {\\\"value\\\": \\\"normal\\\"}, \\\"fill\\\": {\\\"value\\\": \\\"#4A4A4A\\\"}}, \\\"update\\\": {\\\"x\\\": {\\\"signal\\\": \\\"datum[\\\\\\\"c_x_axis_back\\\\\\\"]+467\\\"}, \\\"y\\\": {\\\"field\\\": \\\"c_missing\\\"}}}, \\\"type\\\": \\\"text\\\"}, {\\\"from\\\": {\\\"data\\\": \\\"data_2\\\"}, \\\"encode\\\": {\\\"enter\\\": {\\\"x\\\": {\\\"value\\\": 700}, \\\"y\\\": {\\\"value\\\": 105}, \\\"text\\\": {\\\"signal\\\": \\\"toString(format(datum[\\\\\\\"num_row\\\\\\\"], \\\\\\\",\\\\\\\"))\\\"}, \\\"align\\\": {\\\"value\\\": \\\"right\\\"}, \\\"baseline\\\": {\\\"value\\\": \\\"middle\\\"}, \\\"dx\\\": {\\\"value\\\": 0, \\\"offset\\\": 0}, \\\"dy\\\": {\\\"value\\\": 0, \\\"offset\\\": 0}, \\\"angle\\\": {\\\"value\\\": 0}, \\\"font\\\": {\\\"value\\\": \\\"AvenirNext-Medium\\\"}, \\\"fontSize\\\": {\\\"value\\\": 12}, \\\"fontWeight\\\": {\\\"value\\\": \\\"normal\\\"}, \\\"fontStyle\\\": {\\\"value\\\": \\\"normal\\\"}, \\\"fill\\\": {\\\"value\\\": \\\"#5A5A5A\\\"}}, \\\"update\\\": {\\\"x\\\": {\\\"signal\\\": \\\"datum[\\\\\\\"c_x_axis_back\\\\\\\"]+667\\\"}, \\\"y\\\": {\\\"field\\\": \\\"c_num_rows_val\\\"}}}, \\\"type\\\": \\\"text\\\"}, {\\\"from\\\": {\\\"data\\\": \\\"data_2\\\"}, \\\"encode\\\": {\\\"enter\\\": {\\\"x\\\": {\\\"value\\\": 700}, \\\"y\\\": {\\\"value\\\": 130}, \\\"text\\\": {\\\"signal\\\": \\\"toString(format(datum[\\\\\\\"num_unique\\\\\\\"], \\\\\\\",\\\\\\\"))\\\"}, \\\"align\\\": {\\\"value\\\": \\\"right\\\"}, \\\"baseline\\\": {\\\"value\\\": \\\"middle\\\"}, \\\"dx\\\": {\\\"value\\\": 0, \\\"offset\\\": 0}, \\\"dy\\\": {\\\"value\\\": 0, \\\"offset\\\": 0}, \\\"angle\\\": {\\\"value\\\": 0}, \\\"font\\\": {\\\"value\\\": \\\"AvenirNext-Medium\\\"}, \\\"fontSize\\\": {\\\"value\\\": 12}, \\\"fontWeight\\\": {\\\"value\\\": \\\"normal\\\"}, \\\"fontStyle\\\": {\\\"value\\\": \\\"normal\\\"}, \\\"fill\\\": {\\\"value\\\": \\\"#5A5A5A\\\"}}, \\\"update\\\": {\\\"x\\\": {\\\"signal\\\": \\\"datum[\\\\\\\"c_x_axis_back\\\\\\\"]+667\\\"}, \\\"y\\\": {\\\"field\\\": \\\"c_num_unique_val\\\"}}}, \\\"type\\\": \\\"text\\\"}, {\\\"from\\\": {\\\"data\\\": \\\"data_2\\\"}, \\\"encode\\\": {\\\"enter\\\": {\\\"x\\\": {\\\"value\\\": 700}, \\\"y\\\": {\\\"value\\\": 154}, \\\"text\\\": {\\\"signal\\\": \\\"toString(format(datum[\\\\\\\"num_missing\\\\\\\"], \\\\\\\",\\\\\\\"))\\\"}, \\\"align\\\": {\\\"value\\\": \\\"right\\\"}, \\\"baseline\\\": {\\\"value\\\": \\\"middle\\\"}, \\\"dx\\\": {\\\"value\\\": 0, \\\"offset\\\": 0}, \\\"dy\\\": {\\\"value\\\": 0, \\\"offset\\\": 0}, \\\"angle\\\": {\\\"value\\\": 0}, \\\"font\\\": {\\\"value\\\": \\\"AvenirNext-Medium\\\"}, \\\"fontSize\\\": {\\\"value\\\": 12}, \\\"fontWeight\\\": {\\\"value\\\": \\\"normal\\\"}, \\\"fontStyle\\\": {\\\"value\\\": \\\"normal\\\"}, \\\"fill\\\": {\\\"value\\\": \\\"#5A5A5A\\\"}}, \\\"update\\\": {\\\"x\\\": {\\\"signal\\\": \\\"datum[\\\\\\\"c_x_axis_back\\\\\\\"]+667\\\"}, \\\"y\\\": {\\\"field\\\": \\\"c_missing_val\\\"}}}, \\\"type\\\": \\\"text\\\"}, {\\\"from\\\": {\\\"data\\\": \\\"data_2\\\"}, \\\"encode\\\": {\\\"enter\\\": {\\\"x\\\": {\\\"value\\\": 500}, \\\"y\\\": {\\\"value\\\": 200}, \\\"text\\\": {\\\"signal\\\": \\\"(toString(datum[\\\\\\\"type\\\\\\\"]) == \\\\\\\"str\\\\\\\")? \\\\\\\"Frequent Items\\\\\\\":\\\\\\\"\\\\\\\"\\\"}, \\\"align\\\": {\\\"value\\\": \\\"left\\\"}, \\\"baseline\\\": {\\\"value\\\": \\\"middle\\\"}, \\\"dx\\\": {\\\"value\\\": 0, \\\"offset\\\": 0}, \\\"dy\\\": {\\\"value\\\": 0, \\\"offset\\\": 0}, \\\"angle\\\": {\\\"value\\\": 0}, \\\"clip\\\": {\\\"value\\\": true}, \\\"font\\\": {\\\"value\\\": \\\"AvenirNext-Medium\\\"}, \\\"fontSize\\\": {\\\"value\\\": 11}, \\\"fontWeight\\\": {\\\"value\\\": \\\"bold\\\"}, \\\"fontStyle\\\": {\\\"value\\\": \\\"normal\\\"}, \\\"fill\\\": {\\\"value\\\": \\\"#4A4A4A\\\"}}, \\\"update\\\": {\\\"x\\\": {\\\"signal\\\": \\\"datum[\\\\\\\"c_x_axis_back\\\\\\\"]+467\\\"}, \\\"y\\\": {\\\"field\\\": \\\"c_frequent_items\\\"}}}, \\\"type\\\": \\\"text\\\"}, {\\\"from\\\": {\\\"data\\\": \\\"data_2\\\"}, \\\"encode\\\": {\\\"enter\\\": {\\\"x\\\": {\\\"value\\\": 520}, \\\"y\\\": {\\\"value\\\": 200}, \\\"text\\\": {\\\"signal\\\": \\\"((datum[\\\\\\\"categorical\\\\\\\"].length >= 1) &amp;&amp; (toString(datum[\\\\\\\"type\\\\\\\"]) == \\\\\\\"str\\\\\\\"))? toString(datum[\\\\\\\"categorical\\\\\\\"][0][\\\\\\\"label\\\\\\\"]):\\\\\\\"\\\\\\\"\\\"}, \\\"align\\\": {\\\"value\\\": \\\"left\\\"}, \\\"baseline\\\": {\\\"value\\\": \\\"middle\\\"}, \\\"dx\\\": {\\\"value\\\": 0, \\\"offset\\\": 0}, \\\"dy\\\": {\\\"value\\\": 0, \\\"offset\\\": 0}, \\\"angle\\\": {\\\"value\\\": 0}, \\\"clip\\\": {\\\"value\\\": true}, \\\"font\\\": {\\\"value\\\": \\\"AvenirNext-Medium\\\"}, \\\"fontSize\\\": {\\\"value\\\": 11}, \\\"fontWeight\\\": {\\\"value\\\": \\\"normal\\\"}, \\\"fontStyle\\\": {\\\"value\\\": \\\"normal\\\"}, \\\"fill\\\": {\\\"value\\\": \\\"#4A4A4A\\\"}}, \\\"update\\\": {\\\"x\\\": {\\\"signal\\\": \\\"datum[\\\\\\\"c_x_axis_back\\\\\\\"]+487\\\"}, \\\"y\\\": {\\\"field\\\": \\\"c_first_item\\\"}}}, \\\"type\\\": \\\"text\\\"}, {\\\"from\\\": {\\\"data\\\": \\\"data_2\\\"}, \\\"encode\\\": {\\\"enter\\\": {\\\"x\\\": {\\\"value\\\": 520}, \\\"y\\\": {\\\"value\\\": 200}, \\\"text\\\": {\\\"signal\\\": \\\"((datum[\\\\\\\"categorical\\\\\\\"].length >= 2) &amp;&amp; (toString(datum[\\\\\\\"type\\\\\\\"]) == \\\\\\\"str\\\\\\\"))? toString(datum[\\\\\\\"categorical\\\\\\\"][1][\\\\\\\"label\\\\\\\"]):\\\\\\\"\\\\\\\"\\\"}, \\\"align\\\": {\\\"value\\\": \\\"left\\\"}, \\\"baseline\\\": {\\\"value\\\": \\\"middle\\\"}, \\\"dx\\\": {\\\"value\\\": 0, \\\"offset\\\": 0}, \\\"dy\\\": {\\\"value\\\": 0, \\\"offset\\\": 0}, \\\"angle\\\": {\\\"value\\\": 0}, \\\"clip\\\": {\\\"value\\\": true}, \\\"font\\\": {\\\"value\\\": \\\"AvenirNext-Medium\\\"}, \\\"fontSize\\\": {\\\"value\\\": 11}, \\\"fontWeight\\\": {\\\"value\\\": \\\"normal\\\"}, \\\"fontStyle\\\": {\\\"value\\\": \\\"normal\\\"}, \\\"fill\\\": {\\\"value\\\": \\\"#4A4A4A\\\"}}, \\\"update\\\": {\\\"x\\\": {\\\"signal\\\": \\\"datum[\\\\\\\"c_x_axis_back\\\\\\\"]+487\\\"}, \\\"y\\\": {\\\"field\\\": \\\"c_second_item\\\"}}}, \\\"type\\\": \\\"text\\\"}, {\\\"from\\\": {\\\"data\\\": \\\"data_2\\\"}, \\\"encode\\\": {\\\"enter\\\": {\\\"x\\\": {\\\"value\\\": 520}, \\\"y\\\": {\\\"value\\\": 200}, \\\"text\\\": {\\\"signal\\\": \\\"((datum[\\\\\\\"categorical\\\\\\\"].length >= 3) &amp;&amp; (toString(datum[\\\\\\\"type\\\\\\\"]) == \\\\\\\"str\\\\\\\"))? toString(datum[\\\\\\\"categorical\\\\\\\"][2][\\\\\\\"label\\\\\\\"]):\\\\\\\"\\\\\\\"\\\"}, \\\"align\\\": {\\\"value\\\": \\\"left\\\"}, \\\"baseline\\\": {\\\"value\\\": \\\"middle\\\"}, \\\"dx\\\": {\\\"value\\\": 0, \\\"offset\\\": 0}, \\\"dy\\\": {\\\"value\\\": 0, \\\"offset\\\": 0}, \\\"angle\\\": {\\\"value\\\": 0}, \\\"clip\\\": {\\\"value\\\": true}, \\\"font\\\": {\\\"value\\\": \\\"AvenirNext-Medium\\\"}, \\\"fontSize\\\": {\\\"value\\\": 11}, \\\"fontWeight\\\": {\\\"value\\\": \\\"normal\\\"}, \\\"fontStyle\\\": {\\\"value\\\": \\\"normal\\\"}, \\\"fill\\\": {\\\"value\\\": \\\"#4A4A4A\\\"}}, \\\"update\\\": {\\\"x\\\": {\\\"signal\\\": \\\"datum[\\\\\\\"c_x_axis_back\\\\\\\"]+487\\\"}, \\\"y\\\": {\\\"field\\\": \\\"c_third_item\\\"}}}, \\\"type\\\": \\\"text\\\"}, {\\\"from\\\": {\\\"data\\\": \\\"data_2\\\"}, \\\"encode\\\": {\\\"enter\\\": {\\\"x\\\": {\\\"value\\\": 520}, \\\"y\\\": {\\\"value\\\": 200}, \\\"text\\\": {\\\"signal\\\": \\\"((datum[\\\\\\\"categorical\\\\\\\"].length >= 4) &amp;&amp; (toString(datum[\\\\\\\"type\\\\\\\"]) == \\\\\\\"str\\\\\\\"))? toString(datum[\\\\\\\"categorical\\\\\\\"][3][\\\\\\\"label\\\\\\\"]):\\\\\\\"\\\\\\\"\\\"}, \\\"align\\\": {\\\"value\\\": \\\"left\\\"}, \\\"baseline\\\": {\\\"value\\\": \\\"middle\\\"}, \\\"dx\\\": {\\\"value\\\": 0, \\\"offset\\\": 0}, \\\"dy\\\": {\\\"value\\\": 0, \\\"offset\\\": 0}, \\\"angle\\\": {\\\"value\\\": 0}, \\\"clip\\\": {\\\"value\\\": true}, \\\"font\\\": {\\\"value\\\": \\\"AvenirNext-Medium\\\"}, \\\"fontSize\\\": {\\\"value\\\": 11}, \\\"fontWeight\\\": {\\\"value\\\": \\\"normal\\\"}, \\\"fontStyle\\\": {\\\"value\\\": \\\"normal\\\"}, \\\"fill\\\": {\\\"value\\\": \\\"#4A4A4A\\\"}}, \\\"update\\\": {\\\"x\\\": {\\\"signal\\\": \\\"datum[\\\\\\\"c_x_axis_back\\\\\\\"]+487\\\"}, \\\"y\\\": {\\\"field\\\": \\\"c_fourth_item\\\"}}}, \\\"type\\\": \\\"text\\\"}, {\\\"from\\\": {\\\"data\\\": \\\"data_2\\\"}, \\\"encode\\\": {\\\"enter\\\": {\\\"x\\\": {\\\"value\\\": 520}, \\\"y\\\": {\\\"value\\\": 200}, \\\"text\\\": {\\\"signal\\\": \\\"((datum[\\\\\\\"categorical\\\\\\\"].length >= 5) &amp;&amp; (toString(datum[\\\\\\\"type\\\\\\\"]) == \\\\\\\"str\\\\\\\"))? toString(datum[\\\\\\\"categorical\\\\\\\"][4][\\\\\\\"label\\\\\\\"]):\\\\\\\"\\\\\\\"\\\"}, \\\"align\\\": {\\\"value\\\": \\\"left\\\"}, \\\"baseline\\\": {\\\"value\\\": \\\"middle\\\"}, \\\"dx\\\": {\\\"value\\\": 0, \\\"offset\\\": 0}, \\\"dy\\\": {\\\"value\\\": 0, \\\"offset\\\": 0}, \\\"angle\\\": {\\\"value\\\": 0}, \\\"clip\\\": {\\\"value\\\": true}, \\\"font\\\": {\\\"value\\\": \\\"AvenirNext-Medium\\\"}, \\\"fontSize\\\": {\\\"value\\\": 11}, \\\"fontWeight\\\": {\\\"value\\\": \\\"normal\\\"}, \\\"fontStyle\\\": {\\\"value\\\": \\\"normal\\\"}, \\\"fill\\\": {\\\"value\\\": \\\"#4A4A4A\\\"}}, \\\"update\\\": {\\\"x\\\": {\\\"signal\\\": \\\"datum[\\\\\\\"c_x_axis_back\\\\\\\"]+487\\\"}, \\\"y\\\": {\\\"field\\\": \\\"c_fifth_item\\\"}}}, \\\"type\\\": \\\"text\\\"}, {\\\"from\\\": {\\\"data\\\": \\\"data_2\\\"}, \\\"encode\\\": {\\\"enter\\\": {\\\"x\\\": {\\\"value\\\": 700}, \\\"y\\\": {\\\"value\\\": 200}, \\\"text\\\": {\\\"signal\\\": \\\"((datum[\\\\\\\"categorical\\\\\\\"].length >= 1) &amp;&amp; (toString(datum[\\\\\\\"type\\\\\\\"]) == \\\\\\\"str\\\\\\\"))? toString(datum[\\\\\\\"categorical\\\\\\\"][0][\\\\\\\"count\\\\\\\"]):\\\\\\\"\\\\\\\"\\\"}, \\\"align\\\": {\\\"value\\\": \\\"right\\\"}, \\\"baseline\\\": {\\\"value\\\": \\\"middle\\\"}, \\\"dx\\\": {\\\"value\\\": 0, \\\"offset\\\": 0}, \\\"dy\\\": {\\\"value\\\": 0, \\\"offset\\\": 0}, \\\"angle\\\": {\\\"value\\\": 0}, \\\"clip\\\": {\\\"value\\\": true}, \\\"font\\\": {\\\"value\\\": \\\"AvenirNext-Medium\\\"}, \\\"fontSize\\\": {\\\"value\\\": 11}, \\\"fontWeight\\\": {\\\"value\\\": \\\"normal\\\"}, \\\"fontStyle\\\": {\\\"value\\\": \\\"normal\\\"}, \\\"fill\\\": {\\\"value\\\": \\\"#7A7A7A\\\"}}, \\\"update\\\": {\\\"x\\\": {\\\"signal\\\": \\\"datum[\\\\\\\"c_x_axis_back\\\\\\\"]+667\\\"}, \\\"y\\\": {\\\"field\\\": \\\"c_first_item\\\"}}}, \\\"type\\\": \\\"text\\\"}, {\\\"from\\\": {\\\"data\\\": \\\"data_2\\\"}, \\\"encode\\\": {\\\"enter\\\": {\\\"x\\\": {\\\"value\\\": 700}, \\\"y\\\": {\\\"value\\\": 200}, \\\"text\\\": {\\\"signal\\\": \\\"((datum[\\\\\\\"categorical\\\\\\\"].length >= 2) &amp;&amp; (toString(datum[\\\\\\\"type\\\\\\\"]) == \\\\\\\"str\\\\\\\"))? toString(datum[\\\\\\\"categorical\\\\\\\"][1][\\\\\\\"count\\\\\\\"]):\\\\\\\"\\\\\\\"\\\"}, \\\"align\\\": {\\\"value\\\": \\\"right\\\"}, \\\"baseline\\\": {\\\"value\\\": \\\"middle\\\"}, \\\"dx\\\": {\\\"value\\\": 0, \\\"offset\\\": 0}, \\\"dy\\\": {\\\"value\\\": 0, \\\"offset\\\": 0}, \\\"angle\\\": {\\\"value\\\": 0}, \\\"clip\\\": {\\\"value\\\": true}, \\\"font\\\": {\\\"value\\\": \\\"AvenirNext-Medium\\\"}, \\\"fontSize\\\": {\\\"value\\\": 10}, \\\"fontWeight\\\": {\\\"value\\\": \\\"normal\\\"}, \\\"fontStyle\\\": {\\\"value\\\": \\\"normal\\\"}, \\\"fill\\\": {\\\"value\\\": \\\"#7A7A7A\\\"}}, \\\"update\\\": {\\\"x\\\": {\\\"signal\\\": \\\"datum[\\\\\\\"c_x_axis_back\\\\\\\"]+667\\\"}, \\\"y\\\": {\\\"field\\\": \\\"c_second_item\\\"}}}, \\\"type\\\": \\\"text\\\"}, {\\\"from\\\": {\\\"data\\\": \\\"data_2\\\"}, \\\"encode\\\": {\\\"enter\\\": {\\\"x\\\": {\\\"value\\\": 700}, \\\"y\\\": {\\\"value\\\": 200}, \\\"text\\\": {\\\"signal\\\": \\\"((datum[\\\\\\\"categorical\\\\\\\"].length >= 3) &amp;&amp; (toString(datum[\\\\\\\"type\\\\\\\"]) == \\\\\\\"str\\\\\\\"))? toString(datum[\\\\\\\"categorical\\\\\\\"][2][\\\\\\\"count\\\\\\\"]):\\\\\\\"\\\\\\\"\\\"}, \\\"align\\\": {\\\"value\\\": \\\"right\\\"}, \\\"baseline\\\": {\\\"value\\\": \\\"middle\\\"}, \\\"dx\\\": {\\\"value\\\": 0, \\\"offset\\\": 0}, \\\"dy\\\": {\\\"value\\\": 0, \\\"offset\\\": 0}, \\\"angle\\\": {\\\"value\\\": 0}, \\\"clip\\\": {\\\"value\\\": true}, \\\"font\\\": {\\\"value\\\": \\\"AvenirNext-Medium\\\"}, \\\"fontSize\\\": {\\\"value\\\": 10}, \\\"fontWeight\\\": {\\\"value\\\": \\\"normal\\\"}, \\\"fontStyle\\\": {\\\"value\\\": \\\"normal\\\"}, \\\"fill\\\": {\\\"value\\\": \\\"#7A7A7A\\\"}}, \\\"update\\\": {\\\"x\\\": {\\\"signal\\\": \\\"datum[\\\\\\\"c_x_axis_back\\\\\\\"]+667\\\"}, \\\"y\\\": {\\\"field\\\": \\\"c_third_item\\\"}}}, \\\"type\\\": \\\"text\\\"}, {\\\"from\\\": {\\\"data\\\": \\\"data_2\\\"}, \\\"encode\\\": {\\\"enter\\\": {\\\"x\\\": {\\\"value\\\": 700}, \\\"y\\\": {\\\"value\\\": 200}, \\\"text\\\": {\\\"signal\\\": \\\"((datum[\\\\\\\"categorical\\\\\\\"].length >= 4) &amp;&amp; (toString(datum[\\\\\\\"type\\\\\\\"]) == \\\\\\\"str\\\\\\\"))? toString(datum[\\\\\\\"categorical\\\\\\\"][3][\\\\\\\"count\\\\\\\"]):\\\\\\\"\\\\\\\"\\\"}, \\\"align\\\": {\\\"value\\\": \\\"right\\\"}, \\\"baseline\\\": {\\\"value\\\": \\\"middle\\\"}, \\\"dx\\\": {\\\"value\\\": 0, \\\"offset\\\": 0}, \\\"dy\\\": {\\\"value\\\": 0, \\\"offset\\\": 0}, \\\"angle\\\": {\\\"value\\\": 0}, \\\"clip\\\": {\\\"value\\\": true}, \\\"font\\\": {\\\"value\\\": \\\"AvenirNext-Medium\\\"}, \\\"fontSize\\\": {\\\"value\\\": 10}, \\\"fontWeight\\\": {\\\"value\\\": \\\"normal\\\"}, \\\"fontStyle\\\": {\\\"value\\\": \\\"normal\\\"}, \\\"fill\\\": {\\\"value\\\": \\\"#7A7A7A\\\"}}, \\\"update\\\": {\\\"x\\\": {\\\"signal\\\": \\\"datum[\\\\\\\"c_x_axis_back\\\\\\\"]+667\\\"}, \\\"y\\\": {\\\"field\\\": \\\"c_fourth_item\\\"}}}, \\\"type\\\": \\\"text\\\"}, {\\\"from\\\": {\\\"data\\\": \\\"data_2\\\"}, \\\"encode\\\": {\\\"enter\\\": {\\\"x\\\": {\\\"value\\\": 700}, \\\"y\\\": {\\\"value\\\": 200}, \\\"text\\\": {\\\"signal\\\": \\\"((datum[\\\\\\\"categorical\\\\\\\"].length >= 5) &amp;&amp; (toString(datum[\\\\\\\"type\\\\\\\"]) == \\\\\\\"str\\\\\\\"))? toString(datum[\\\\\\\"categorical\\\\\\\"][4][\\\\\\\"count\\\\\\\"]):\\\\\\\"\\\\\\\"\\\"}, \\\"align\\\": {\\\"value\\\": \\\"right\\\"}, \\\"baseline\\\": {\\\"value\\\": \\\"middle\\\"}, \\\"dx\\\": {\\\"value\\\": 0, \\\"offset\\\": 0}, \\\"dy\\\": {\\\"value\\\": 0, \\\"offset\\\": 0}, \\\"angle\\\": {\\\"value\\\": 0}, \\\"clip\\\": {\\\"value\\\": true}, \\\"font\\\": {\\\"value\\\": \\\"AvenirNext-Medium\\\"}, \\\"fontSize\\\": {\\\"value\\\": 10}, \\\"fontWeight\\\": {\\\"value\\\": \\\"normal\\\"}, \\\"fontStyle\\\": {\\\"value\\\": \\\"normal\\\"}, \\\"fill\\\": {\\\"value\\\": \\\"#7A7A7A\\\"}}, \\\"update\\\": {\\\"x\\\": {\\\"signal\\\": \\\"datum[\\\\\\\"c_x_axis_back\\\\\\\"]+667\\\"}, \\\"y\\\": {\\\"field\\\": \\\"c_fifth_item\\\"}}}, \\\"type\\\": \\\"text\\\"}, {\\\"from\\\": {\\\"data\\\": \\\"data_2\\\"}, \\\"encode\\\": {\\\"enter\\\": {\\\"x\\\": {\\\"value\\\": 500}, \\\"y\\\": {\\\"value\\\": 200}, \\\"text\\\": {\\\"signal\\\": \\\"(toString(datum[\\\\\\\"type\\\\\\\"]) == \\\\\\\"integer\\\\\\\" || toString(datum[\\\\\\\"type\\\\\\\"]) == \\\\\\\"float\\\\\\\")? \\\\\\\"Mean:\\\\\\\":\\\\\\\"\\\\\\\"\\\"}, \\\"align\\\": {\\\"value\\\": \\\"left\\\"}, \\\"baseline\\\": {\\\"value\\\": \\\"middle\\\"}, \\\"dx\\\": {\\\"value\\\": 0, \\\"offset\\\": 0}, \\\"dy\\\": {\\\"value\\\": 0, \\\"offset\\\": 0}, \\\"angle\\\": {\\\"value\\\": 0}, \\\"clip\\\": {\\\"value\\\": true}, \\\"font\\\": {\\\"value\\\": \\\"AvenirNext-Medium\\\"}, \\\"fontSize\\\": {\\\"value\\\": 11}, \\\"fontWeight\\\": {\\\"value\\\": \\\"bold\\\"}, \\\"fontStyle\\\": {\\\"value\\\": \\\"normal\\\"}, \\\"fill\\\": {\\\"value\\\": \\\"#4A4A4A\\\"}}, \\\"update\\\": {\\\"x\\\": {\\\"signal\\\": \\\"datum[\\\\\\\"c_x_axis_back\\\\\\\"]+467\\\"}, \\\"y\\\": {\\\"field\\\": \\\"c_mean\\\"}}}, \\\"type\\\": \\\"text\\\"}, {\\\"from\\\": {\\\"data\\\": \\\"data_2\\\"}, \\\"encode\\\": {\\\"enter\\\": {\\\"x\\\": {\\\"value\\\": 500}, \\\"y\\\": {\\\"value\\\": 220}, \\\"text\\\": {\\\"signal\\\": \\\"(toString(datum[\\\\\\\"type\\\\\\\"]) == \\\\\\\"integer\\\\\\\" || toString(datum[\\\\\\\"type\\\\\\\"]) == \\\\\\\"float\\\\\\\")? \\\\\\\"Min:\\\\\\\":\\\\\\\"\\\\\\\"\\\"}, \\\"align\\\": {\\\"value\\\": \\\"left\\\"}, \\\"baseline\\\": {\\\"value\\\": \\\"middle\\\"}, \\\"dx\\\": {\\\"value\\\": 0, \\\"offset\\\": 0}, \\\"dy\\\": {\\\"value\\\": 0, \\\"offset\\\": 0}, \\\"angle\\\": {\\\"value\\\": 0}, \\\"font\\\": {\\\"value\\\": \\\"AvenirNext-Medium\\\"}, \\\"fontSize\\\": {\\\"value\\\": 11}, \\\"fontWeight\\\": {\\\"value\\\": \\\"bold\\\"}, \\\"fontStyle\\\": {\\\"value\\\": \\\"normal\\\"}, \\\"fill\\\": {\\\"value\\\": \\\"#4A4A4A\\\"}}, \\\"update\\\": {\\\"x\\\": {\\\"signal\\\": \\\"datum[\\\\\\\"c_x_axis_back\\\\\\\"]+467\\\"}, \\\"y\\\": {\\\"field\\\": \\\"c_min\\\"}}}, \\\"type\\\": \\\"text\\\"}, {\\\"from\\\": {\\\"data\\\": \\\"data_2\\\"}, \\\"encode\\\": {\\\"enter\\\": {\\\"x\\\": {\\\"value\\\": 500}, \\\"y\\\": {\\\"value\\\": 240}, \\\"text\\\": {\\\"signal\\\": \\\"(toString(datum[\\\\\\\"type\\\\\\\"]) == \\\\\\\"integer\\\\\\\" || toString(datum[\\\\\\\"type\\\\\\\"]) == \\\\\\\"float\\\\\\\")? \\\\\\\"Max:\\\\\\\":\\\\\\\"\\\\\\\"\\\"}, \\\"align\\\": {\\\"value\\\": \\\"left\\\"}, \\\"baseline\\\": {\\\"value\\\": \\\"middle\\\"}, \\\"dx\\\": {\\\"value\\\": 0, \\\"offset\\\": 0}, \\\"dy\\\": {\\\"value\\\": 0, \\\"offset\\\": 0}, \\\"angle\\\": {\\\"value\\\": 0}, \\\"font\\\": {\\\"value\\\": \\\"AvenirNext-Medium\\\"}, \\\"fontSize\\\": {\\\"value\\\": 11}, \\\"fontWeight\\\": {\\\"value\\\": \\\"bold\\\"}, \\\"fontStyle\\\": {\\\"value\\\": \\\"normal\\\"}, \\\"fill\\\": {\\\"value\\\": \\\"#4A4A4A\\\"}}, \\\"update\\\": {\\\"x\\\": {\\\"signal\\\": \\\"datum[\\\\\\\"c_x_axis_back\\\\\\\"]+467\\\"}, \\\"y\\\": {\\\"field\\\": \\\"c_max\\\"}}}, \\\"type\\\": \\\"text\\\"}, {\\\"from\\\": {\\\"data\\\": \\\"data_2\\\"}, \\\"encode\\\": {\\\"enter\\\": {\\\"x\\\": {\\\"value\\\": 500}, \\\"y\\\": {\\\"value\\\": 260}, \\\"text\\\": {\\\"signal\\\": \\\"(toString(datum[\\\\\\\"type\\\\\\\"]) == \\\\\\\"integer\\\\\\\" || toString(datum[\\\\\\\"type\\\\\\\"]) == \\\\\\\"float\\\\\\\")? \\\\\\\"Median:\\\\\\\":\\\\\\\"\\\\\\\"\\\"}, \\\"align\\\": {\\\"value\\\": \\\"left\\\"}, \\\"baseline\\\": {\\\"value\\\": \\\"middle\\\"}, \\\"dx\\\": {\\\"value\\\": 0, \\\"offset\\\": 0}, \\\"dy\\\": {\\\"value\\\": 0, \\\"offset\\\": 0}, \\\"angle\\\": {\\\"value\\\": 0}, \\\"font\\\": {\\\"value\\\": \\\"AvenirNext-Medium\\\"}, \\\"fontSize\\\": {\\\"value\\\": 11}, \\\"fontWeight\\\": {\\\"value\\\": \\\"bold\\\"}, \\\"fontStyle\\\": {\\\"value\\\": \\\"normal\\\"}, \\\"fill\\\": {\\\"value\\\": \\\"#4A4A4A\\\"}}, \\\"update\\\": {\\\"x\\\": {\\\"signal\\\": \\\"datum[\\\\\\\"c_x_axis_back\\\\\\\"]+467\\\"}, \\\"y\\\": {\\\"field\\\": \\\"c_median\\\"}}}, \\\"type\\\": \\\"text\\\"}, {\\\"from\\\": {\\\"data\\\": \\\"data_2\\\"}, \\\"encode\\\": {\\\"enter\\\": {\\\"x\\\": {\\\"value\\\": 500}, \\\"y\\\": {\\\"value\\\": 280}, \\\"text\\\": {\\\"signal\\\": \\\"(toString(datum[\\\\\\\"type\\\\\\\"]) == \\\\\\\"integer\\\\\\\" || toString(datum[\\\\\\\"type\\\\\\\"]) == \\\\\\\"float\\\\\\\")? \\\\\\\"St. Dev:\\\\\\\":\\\\\\\"\\\\\\\"\\\"}, \\\"align\\\": {\\\"value\\\": \\\"left\\\"}, \\\"baseline\\\": {\\\"value\\\": \\\"middle\\\"}, \\\"dx\\\": {\\\"value\\\": 0, \\\"offset\\\": 0}, \\\"dy\\\": {\\\"value\\\": 0, \\\"offset\\\": 0}, \\\"angle\\\": {\\\"value\\\": 0}, \\\"font\\\": {\\\"value\\\": \\\"AvenirNext-Medium\\\"}, \\\"fontSize\\\": {\\\"value\\\": 11}, \\\"fontWeight\\\": {\\\"value\\\": \\\"bold\\\"}, \\\"fontStyle\\\": {\\\"value\\\": \\\"normal\\\"}, \\\"fill\\\": {\\\"value\\\": \\\"#4A4A4A\\\"}}, \\\"update\\\": {\\\"x\\\": {\\\"signal\\\": \\\"datum[\\\\\\\"c_x_axis_back\\\\\\\"]+467\\\"}, \\\"y\\\": {\\\"field\\\": \\\"c_stdev\\\"}}}, \\\"type\\\": \\\"text\\\"}, {\\\"from\\\": {\\\"data\\\": \\\"data_2\\\"}, \\\"encode\\\": {\\\"enter\\\": {\\\"x\\\": {\\\"value\\\": 700}, \\\"y\\\": {\\\"value\\\": 198}, \\\"text\\\": {\\\"signal\\\": \\\"(toString(datum[\\\\\\\"type\\\\\\\"]) == \\\\\\\"integer\\\\\\\" || toString(datum[\\\\\\\"type\\\\\\\"]) == \\\\\\\"float\\\\\\\")?toString(format(datum[\\\\\\\"mean\\\\\\\"], \\\\\\\",\\\\\\\")):\\\\\\\"\\\\\\\"\\\"}, \\\"align\\\": {\\\"value\\\": \\\"right\\\"}, \\\"baseline\\\": {\\\"value\\\": \\\"middle\\\"}, \\\"dx\\\": {\\\"value\\\": 0, \\\"offset\\\": 0}, \\\"dy\\\": {\\\"value\\\": 0, \\\"offset\\\": 0}, \\\"angle\\\": {\\\"value\\\": 0}, \\\"font\\\": {\\\"value\\\": \\\"AvenirNext-Medium\\\"}, \\\"fontSize\\\": {\\\"value\\\": 10}, \\\"fontWeight\\\": {\\\"value\\\": \\\"normal\\\"}, \\\"fontStyle\\\": {\\\"value\\\": \\\"normal\\\"}, \\\"fill\\\": {\\\"value\\\": \\\"#6A6A6A\\\"}}, \\\"update\\\": {\\\"x\\\": {\\\"signal\\\": \\\"datum[\\\\\\\"c_x_axis_back\\\\\\\"]+667\\\"}, \\\"y\\\": {\\\"field\\\": \\\"c_mean_val\\\"}}}, \\\"type\\\": \\\"text\\\"}, {\\\"from\\\": {\\\"data\\\": \\\"data_2\\\"}, \\\"encode\\\": {\\\"enter\\\": {\\\"x\\\": {\\\"value\\\": 700}, \\\"y\\\": {\\\"value\\\": 218}, \\\"text\\\": {\\\"signal\\\": \\\"(toString(datum[\\\\\\\"type\\\\\\\"]) == \\\\\\\"integer\\\\\\\" || toString(datum[\\\\\\\"type\\\\\\\"]) == \\\\\\\"float\\\\\\\")?toString(format(datum[\\\\\\\"min\\\\\\\"], \\\\\\\",\\\\\\\")):\\\\\\\"\\\\\\\"\\\"}, \\\"align\\\": {\\\"value\\\": \\\"right\\\"}, \\\"baseline\\\": {\\\"value\\\": \\\"middle\\\"}, \\\"dx\\\": {\\\"value\\\": 0, \\\"offset\\\": 0}, \\\"dy\\\": {\\\"value\\\": 0, \\\"offset\\\": 0}, \\\"angle\\\": {\\\"value\\\": 0}, \\\"font\\\": {\\\"value\\\": \\\"AvenirNext-Medium\\\"}, \\\"fontSize\\\": {\\\"value\\\": 10}, \\\"fontWeight\\\": {\\\"value\\\": \\\"normal\\\"}, \\\"fontStyle\\\": {\\\"value\\\": \\\"normal\\\"}, \\\"fill\\\": {\\\"value\\\": \\\"#6A6A6A\\\"}}, \\\"update\\\": {\\\"x\\\": {\\\"signal\\\": \\\"datum[\\\\\\\"c_x_axis_back\\\\\\\"]+667\\\"}, \\\"y\\\": {\\\"field\\\": \\\"c_min_val\\\"}}}, \\\"type\\\": \\\"text\\\"}, {\\\"from\\\": {\\\"data\\\": \\\"data_2\\\"}, \\\"encode\\\": {\\\"enter\\\": {\\\"x\\\": {\\\"value\\\": 700}, \\\"y\\\": {\\\"value\\\": 238}, \\\"text\\\": {\\\"signal\\\": \\\"(toString(datum[\\\\\\\"type\\\\\\\"]) == \\\\\\\"integer\\\\\\\" || toString(datum[\\\\\\\"type\\\\\\\"]) == \\\\\\\"float\\\\\\\")?toString(format(datum[\\\\\\\"max\\\\\\\"], \\\\\\\",\\\\\\\")):\\\\\\\"\\\\\\\"\\\"}, \\\"align\\\": {\\\"value\\\": \\\"right\\\"}, \\\"baseline\\\": {\\\"value\\\": \\\"middle\\\"}, \\\"dx\\\": {\\\"value\\\": 0, \\\"offset\\\": 0}, \\\"dy\\\": {\\\"value\\\": 0, \\\"offset\\\": 0}, \\\"angle\\\": {\\\"value\\\": 0}, \\\"font\\\": {\\\"value\\\": \\\"AvenirNext-Medium\\\"}, \\\"fontSize\\\": {\\\"value\\\": 10}, \\\"fontWeight\\\": {\\\"value\\\": \\\"normal\\\"}, \\\"fontStyle\\\": {\\\"value\\\": \\\"normal\\\"}, \\\"fill\\\": {\\\"value\\\": \\\"#6A6A6A\\\"}}, \\\"update\\\": {\\\"x\\\": {\\\"signal\\\": \\\"datum[\\\\\\\"c_x_axis_back\\\\\\\"]+667\\\"}, \\\"y\\\": {\\\"field\\\": \\\"c_max_val\\\"}}}, \\\"type\\\": \\\"text\\\"}, {\\\"from\\\": {\\\"data\\\": \\\"data_2\\\"}, \\\"encode\\\": {\\\"enter\\\": {\\\"x\\\": {\\\"value\\\": 700}, \\\"y\\\": {\\\"value\\\": 258}, \\\"text\\\": {\\\"signal\\\": \\\"(toString(datum[\\\\\\\"type\\\\\\\"]) == \\\\\\\"integer\\\\\\\" || toString(datum[\\\\\\\"type\\\\\\\"]) == \\\\\\\"float\\\\\\\")?toString(format(datum[\\\\\\\"median\\\\\\\"], \\\\\\\",\\\\\\\")):\\\\\\\"\\\\\\\"\\\"}, \\\"align\\\": {\\\"value\\\": \\\"right\\\"}, \\\"baseline\\\": {\\\"value\\\": \\\"middle\\\"}, \\\"dx\\\": {\\\"value\\\": 0, \\\"offset\\\": 0}, \\\"dy\\\": {\\\"value\\\": 0, \\\"offset\\\": 0}, \\\"angle\\\": {\\\"value\\\": 0}, \\\"font\\\": {\\\"value\\\": \\\"AvenirNext-Medium\\\"}, \\\"fontSize\\\": {\\\"value\\\": 10}, \\\"fontWeight\\\": {\\\"value\\\": \\\"normal\\\"}, \\\"fontStyle\\\": {\\\"value\\\": \\\"normal\\\"}, \\\"fill\\\": {\\\"value\\\": \\\"#6A6A6A\\\"}}, \\\"update\\\": {\\\"x\\\": {\\\"signal\\\": \\\"datum[\\\\\\\"c_x_axis_back\\\\\\\"]+667\\\"}, \\\"y\\\": {\\\"field\\\": \\\"c_median_val\\\"}}}, \\\"type\\\": \\\"text\\\"}, {\\\"from\\\": {\\\"data\\\": \\\"data_2\\\"}, \\\"encode\\\": {\\\"enter\\\": {\\\"x\\\": {\\\"value\\\": 700}, \\\"y\\\": {\\\"value\\\": 278}, \\\"text\\\": {\\\"signal\\\": \\\"(toString(datum[\\\\\\\"type\\\\\\\"]) == \\\\\\\"integer\\\\\\\" || toString(datum[\\\\\\\"type\\\\\\\"]) == \\\\\\\"float\\\\\\\")?toString(format(datum[\\\\\\\"stdev\\\\\\\"], \\\\\\\",\\\\\\\")):\\\\\\\"\\\\\\\"\\\"}, \\\"align\\\": {\\\"value\\\": \\\"right\\\"}, \\\"baseline\\\": {\\\"value\\\": \\\"middle\\\"}, \\\"dx\\\": {\\\"value\\\": 0, \\\"offset\\\": 0}, \\\"dy\\\": {\\\"value\\\": 0, \\\"offset\\\": 0}, \\\"angle\\\": {\\\"value\\\": 0}, \\\"font\\\": {\\\"value\\\": \\\"AvenirNext-Medium\\\"}, \\\"fontSize\\\": {\\\"value\\\": 10}, \\\"fontWeight\\\": {\\\"value\\\": \\\"normal\\\"}, \\\"fontStyle\\\": {\\\"value\\\": \\\"normal\\\"}, \\\"fill\\\": {\\\"value\\\": \\\"#6A6A6A\\\"}}, \\\"update\\\": {\\\"x\\\": {\\\"signal\\\": \\\"datum[\\\\\\\"c_x_axis_back\\\\\\\"]+667\\\"}, \\\"y\\\": {\\\"field\\\": \\\"c_stdev_val\\\"}}}, \\\"type\\\": \\\"text\\\"}, {\\\"from\\\": {\\\"facet\\\": {\\\"name\\\": \\\"new_data\\\", \\\"data\\\": \\\"data_2\\\", \\\"field\\\": \\\"numeric\\\"}}, \\\"encode\\\": {\\\"enter\\\": {\\\"x\\\": {\\\"value\\\": 120}, \\\"width\\\": {\\\"value\\\": 250}, \\\"y\\\": {\\\"field\\\": \\\"graph_offset\\\"}, \\\"height\\\": {\\\"value\\\": 150}, \\\"fill\\\": {\\\"value\\\": \\\"#ffffff\\\"}, \\\"fillOpacity\\\": {\\\"value\\\": 0}, \\\"stroke\\\": {\\\"value\\\": \\\"#000000\\\"}, \\\"strokeWidth\\\": {\\\"value\\\": 0}}, \\\"update\\\": {\\\"x\\\": {\\\"signal\\\": \\\"datum[\\\\\\\"c_x_axis_back\\\\\\\"]+87\\\"}, \\\"clip\\\": {\\\"field\\\": \\\"c_clip_val\\\"}, \\\"width\\\": {\\\"field\\\": \\\"c_width_numeric_val\\\"}}}, \\\"type\\\": \\\"group\\\", \\\"scales\\\": [{\\\"name\\\": \\\"x\\\", \\\"type\\\": \\\"linear\\\", \\\"domain\\\": {\\\"data\\\": \\\"new_data\\\", \\\"fields\\\": [\\\"left\\\", \\\"right\\\"], \\\"sort\\\": true}, \\\"range\\\": [0, {\\\"signal\\\": \\\"width\\\"}], \\\"nice\\\": true, \\\"zero\\\": true}, {\\\"name\\\": \\\"y\\\", \\\"type\\\": \\\"linear\\\", \\\"domain\\\": {\\\"data\\\": \\\"new_data\\\", \\\"field\\\": \\\"count\\\"}, \\\"range\\\": [{\\\"signal\\\": \\\"height\\\"}, 0], \\\"nice\\\": true, \\\"zero\\\": true}], \\\"axes\\\": [{\\\"title\\\": \\\"Values\\\", \\\"scale\\\": \\\"x\\\", \\\"labelOverlap\\\": true, \\\"orient\\\": \\\"bottom\\\", \\\"tickCount\\\": {\\\"signal\\\": \\\"ceil(width/40)\\\"}, \\\"zindex\\\": 1}, {\\\"scale\\\": \\\"x\\\", \\\"domain\\\": false, \\\"grid\\\": true, \\\"labels\\\": false, \\\"maxExtent\\\": 0, \\\"minExtent\\\": 0, \\\"orient\\\": \\\"bottom\\\", \\\"tickCount\\\": {\\\"signal\\\": \\\"ceil(width/40)\\\"}, \\\"ticks\\\": false, \\\"zindex\\\": 0, \\\"gridScale\\\": \\\"y\\\"}, {\\\"title\\\": \\\"Count\\\", \\\"scale\\\": \\\"y\\\", \\\"labelOverlap\\\": true, \\\"orient\\\": \\\"left\\\", \\\"tickCount\\\": {\\\"signal\\\": \\\"ceil(height/40)\\\"}, \\\"zindex\\\": 1}, {\\\"scale\\\": \\\"y\\\", \\\"domain\\\": false, \\\"grid\\\": true, \\\"labels\\\": false, \\\"maxExtent\\\": 0, \\\"minExtent\\\": 0, \\\"orient\\\": \\\"left\\\", \\\"tickCount\\\": {\\\"signal\\\": \\\"ceil(height/40)\\\"}, \\\"ticks\\\": false, \\\"zindex\\\": 0, \\\"gridScale\\\": \\\"x\\\"}], \\\"style\\\": \\\"cell\\\", \\\"signals\\\": [{\\\"name\\\": \\\"width\\\", \\\"update\\\": \\\"250\\\"}, {\\\"name\\\": \\\"height\\\", \\\"update\\\": \\\"150\\\"}], \\\"marks\\\": [{\\\"name\\\": \\\"marks\\\", \\\"type\\\": \\\"rect\\\", \\\"style\\\": [\\\"rect\\\"], \\\"from\\\": {\\\"data\\\": \\\"new_data\\\"}, \\\"encode\\\": {\\\"hover\\\": {\\\"fill\\\": {\\\"value\\\": \\\"#7EC2F3\\\"}}, \\\"update\\\": {\\\"x\\\": {\\\"scale\\\": \\\"x\\\", \\\"field\\\": \\\"left\\\"}, \\\"x2\\\": {\\\"scale\\\": \\\"x\\\", \\\"field\\\": \\\"right\\\"}, \\\"y\\\": {\\\"scale\\\": \\\"y\\\", \\\"field\\\": \\\"count\\\"}, \\\"y2\\\": {\\\"scale\\\": \\\"y\\\", \\\"value\\\": 0}, \\\"fill\\\": {\\\"value\\\": \\\"#108EE9\\\"}}}}]}, {\\\"from\\\": {\\\"facet\\\": {\\\"name\\\": \\\"data_5\\\", \\\"data\\\": \\\"data_2\\\", \\\"field\\\": \\\"categorical\\\"}}, \\\"encode\\\": {\\\"enter\\\": {\\\"x\\\": {\\\"value\\\": 170}, \\\"width\\\": {\\\"value\\\": 250}, \\\"y\\\": {\\\"field\\\": \\\"graph_offset_categorical\\\"}, \\\"height\\\": {\\\"value\\\": 150}, \\\"fill\\\": {\\\"value\\\": \\\"#ffffff\\\"}, \\\"fillOpacity\\\": {\\\"value\\\": 0}, \\\"stroke\\\": {\\\"value\\\": \\\"#000000\\\"}, \\\"strokeWidth\\\": {\\\"value\\\": 0}}, \\\"update\\\": {\\\"x\\\": {\\\"signal\\\": \\\"datum[\\\\\\\"c_x_axis_back\\\\\\\"]+137\\\"}, \\\"clip\\\": {\\\"field\\\": \\\"c_clip_val_cat\\\"}, \\\"width\\\": {\\\"field\\\": \\\"c_width_numeric_val_cat\\\"}}}, \\\"type\\\": \\\"group\\\", \\\"style\\\": \\\"cell\\\", \\\"signals\\\": [{\\\"name\\\": \\\"unit\\\", \\\"value\\\": {}, \\\"on\\\": [{\\\"events\\\": \\\"mousemove\\\", \\\"update\\\": \\\"isTuple(group()) ? group() : unit\\\"}]}, {\\\"name\\\": \\\"pts\\\", \\\"update\\\": \\\"data(\\\\\\\"pts_store\\\\\\\").length &amp;&amp; {count: data(\\\\\\\"pts_store\\\\\\\")[0].values[0]}\\\"}, {\\\"name\\\": \\\"pts_tuple\\\", \\\"value\\\": {}, \\\"on\\\": [{\\\"events\\\": [{\\\"source\\\": \\\"scope\\\", \\\"type\\\": \\\"click\\\"}], \\\"update\\\": \\\"datum &amp;&amp; item().mark.marktype !== &apos;group&apos; ? {unit: \\\\\\\"\\\\\\\", encodings: [\\\\\\\"x\\\\\\\"], fields: [\\\\\\\"count\\\\\\\"], values: [datum[\\\\\\\"count\\\\\\\"]]} : null\\\", \\\"force\\\": true}]}, {\\\"name\\\": \\\"pts_modify\\\", \\\"on\\\": [{\\\"events\\\": {\\\"signal\\\": \\\"pts_tuple\\\"}, \\\"update\\\": \\\"modify(\\\\\\\"pts_store\\\\\\\", pts_tuple, true)\\\"}]}], \\\"marks\\\": [{\\\"name\\\": \\\"marks\\\", \\\"type\\\": \\\"rect\\\", \\\"style\\\": [\\\"bar\\\"], \\\"from\\\": {\\\"data\\\": \\\"data_5\\\"}, \\\"encode\\\": {\\\"hover\\\": {\\\"fill\\\": {\\\"value\\\": \\\"#7EC2F3\\\"}}, \\\"update\\\": {\\\"x\\\": {\\\"scale\\\": \\\"x\\\", \\\"field\\\": \\\"count\\\"}, \\\"x2\\\": {\\\"scale\\\": \\\"x\\\", \\\"value\\\": 0}, \\\"y\\\": {\\\"scale\\\": \\\"y\\\", \\\"field\\\": \\\"label\\\"}, \\\"height\\\": {\\\"scale\\\": \\\"y\\\", \\\"band\\\": true}, \\\"fill\\\": {\\\"value\\\": \\\"#108EE9\\\"}}}}], \\\"scales\\\": [{\\\"name\\\": \\\"x\\\", \\\"type\\\": \\\"linear\\\", \\\"domain\\\": {\\\"data\\\": \\\"data_5\\\", \\\"field\\\": \\\"count\\\"}, \\\"range\\\": [0, 250], \\\"nice\\\": true, \\\"zero\\\": true}, {\\\"name\\\": \\\"y\\\", \\\"type\\\": \\\"band\\\", \\\"domain\\\": {\\\"data\\\": \\\"data_5\\\", \\\"field\\\": \\\"label\\\", \\\"sort\\\": {\\\"op\\\": \\\"mean\\\", \\\"field\\\": \\\"label_idx\\\", \\\"order\\\": \\\"descending\\\"}}, \\\"range\\\": [150, 0], \\\"paddingInner\\\": 0.1, \\\"paddingOuter\\\": 0.05}], \\\"axes\\\": [{\\\"orient\\\": \\\"top\\\", \\\"scale\\\": \\\"x\\\", \\\"labelOverlap\\\": true, \\\"tickCount\\\": {\\\"signal\\\": \\\"ceil(width/40)\\\"}, \\\"title\\\": \\\"Count\\\", \\\"zindex\\\": 1}, {\\\"orient\\\": \\\"top\\\", \\\"scale\\\": \\\"x\\\", \\\"domain\\\": false, \\\"grid\\\": true, \\\"labels\\\": false, \\\"maxExtent\\\": 0, \\\"minExtent\\\": 0, \\\"tickCount\\\": {\\\"signal\\\": \\\"ceil(width/40)\\\"}, \\\"ticks\\\": false, \\\"zindex\\\": 0, \\\"gridScale\\\": \\\"y\\\"}, {\\\"scale\\\": \\\"y\\\", \\\"labelOverlap\\\": true, \\\"orient\\\": \\\"left\\\", \\\"title\\\": \\\"Label\\\", \\\"zindex\\\": 1}]}], \\\"type\\\": \\\"group\\\"}], \\\"type\\\": \\\"group\\\"}], \\\"config\\\": {\\\"axis\\\": {\\\"labelFont\\\": \\\"HelveticaNeue-Light, Arial\\\", \\\"labelFontSize\\\": 7, \\\"labelPadding\\\": 10, \\\"labelColor\\\": \\\"#595959\\\", \\\"titleFont\\\": \\\"HelveticaNeue-Light, Arial\\\", \\\"titleFontWeight\\\": \\\"normal\\\", \\\"titlePadding\\\": 9, \\\"titleFontSize\\\": 12, \\\"titleColor\\\": \\\"#595959\\\"}, \\\"axisY\\\": {\\\"minExtent\\\": 30}, \\\"style\\\": {\\\"rect\\\": {\\\"stroke\\\": \\\"rgba(200, 200, 200, 0.5)\\\"}, \\\"group-title\\\": {\\\"fontSize\\\": 20, \\\"font\\\": \\\"HelveticaNeue-Light, Arial\\\", \\\"fontWeight\\\": \\\"normal\\\", \\\"fill\\\": \\\"#595959\\\"}}}}\";                                 var vega_json_parsed = JSON.parse(vega_json);                                 var toolTipOpts = {                                     showAllFields: true                                 };                                 if(vega_json_parsed[\"metadata\"] != null){                                     if(vega_json_parsed[\"metadata\"][\"bubbleOpts\"] != null){                                         toolTipOpts = vega_json_parsed[\"metadata\"][\"bubbleOpts\"];                                     };                                 };                                 vegaEmbed(\"#vis\", vega_json_parsed).then(function (result) {                                     vegaTooltip.vega(result.view, toolTipOpts);                                  });                             </script>                         </body>                     </html>' src=\"demo_iframe_srcdoc.htm\">                         <p>Your browser does not support iframes.</p>                     </iframe>                 </body>             </html>"
      ],
      "text/plain": [
       "<IPython.core.display.HTML object>"
      ]
     },
     "metadata": {},
     "output_type": "display_data"
    }
   ],
   "source": [
    "products.show()"
   ]
  },
  {
   "cell_type": "markdown",
   "id": "691abc19",
   "metadata": {},
   "source": [
    "# Explore Vulli Sophie"
   ]
  },
  {
   "cell_type": "code",
   "execution_count": 10,
   "id": "86a8b58b",
   "metadata": {},
   "outputs": [],
   "source": [
    "# specific_reviews -> sp_rv\n",
    "sp_rv = products[products['name'] == 'Vulli Sophie the Giraffe Teether']"
   ]
  },
  {
   "cell_type": "code",
   "execution_count": 11,
   "id": "2f54baaf",
   "metadata": {},
   "outputs": [
    {
     "data": {
      "text/html": [
       "<div style=\"max-height:1000px;max-width:1500px;overflow:auto;\"><table frame=\"box\" rules=\"cols\">\n",
       "    <tr>\n",
       "        <th style=\"padding-left: 1em; padding-right: 1em; text-align: center\">name</th>\n",
       "        <th style=\"padding-left: 1em; padding-right: 1em; text-align: center\">review</th>\n",
       "        <th style=\"padding-left: 1em; padding-right: 1em; text-align: center\">rating</th>\n",
       "        <th style=\"padding-left: 1em; padding-right: 1em; text-align: center\">word_count</th>\n",
       "    </tr>\n",
       "    <tr>\n",
       "        <td style=\"padding-left: 1em; padding-right: 1em; text-align: center; vertical-align: top\">Vulli Sophie the Giraffe<br>Teether ...</td>\n",
       "        <td style=\"padding-left: 1em; padding-right: 1em; text-align: center; vertical-align: top\">He likes chewing on all<br>the parts especially the ...</td>\n",
       "        <td style=\"padding-left: 1em; padding-right: 1em; text-align: center; vertical-align: top\">5.0</td>\n",
       "        <td style=\"padding-left: 1em; padding-right: 1em; text-align: center; vertical-align: top\">{&#x27;purchase&#x27;: 1.0,<br>&#x27;teething&#x27;: 1.0, ...</td>\n",
       "    </tr>\n",
       "    <tr>\n",
       "        <td style=\"padding-left: 1em; padding-right: 1em; text-align: center; vertical-align: top\">Vulli Sophie the Giraffe<br>Teether ...</td>\n",
       "        <td style=\"padding-left: 1em; padding-right: 1em; text-align: center; vertical-align: top\">My son loves this toy and<br>fits great in the diaper ...</td>\n",
       "        <td style=\"padding-left: 1em; padding-right: 1em; text-align: center; vertical-align: top\">5.0</td>\n",
       "        <td style=\"padding-left: 1em; padding-right: 1em; text-align: center; vertical-align: top\">{&#x27;a&#x27;: 1.0, &#x27;is&#x27;: 1.0,<br>&#x27;when&#x27;: 1.0, &#x27;him&#x27;: 1.0, ...</td>\n",
       "    </tr>\n",
       "    <tr>\n",
       "        <td style=\"padding-left: 1em; padding-right: 1em; text-align: center; vertical-align: top\">Vulli Sophie the Giraffe<br>Teether ...</td>\n",
       "        <td style=\"padding-left: 1em; padding-right: 1em; text-align: center; vertical-align: top\">There really should be a<br>large warning on the  ...</td>\n",
       "        <td style=\"padding-left: 1em; padding-right: 1em; text-align: center; vertical-align: top\">1.0</td>\n",
       "        <td style=\"padding-left: 1em; padding-right: 1em; text-align: center; vertical-align: top\">{&#x27;made&#x27;: 1.0, &#x27;of&#x27;: 1.0,<br>&#x27;packaging&#x27;: 1.0, &#x27;no&#x27;: ...</td>\n",
       "    </tr>\n",
       "    <tr>\n",
       "        <td style=\"padding-left: 1em; padding-right: 1em; text-align: center; vertical-align: top\">Vulli Sophie the Giraffe<br>Teether ...</td>\n",
       "        <td style=\"padding-left: 1em; padding-right: 1em; text-align: center; vertical-align: top\">All the moms in my moms&#x27;<br>group got Sophie for ...</td>\n",
       "        <td style=\"padding-left: 1em; padding-right: 1em; text-align: center; vertical-align: top\">5.0</td>\n",
       "        <td style=\"padding-left: 1em; padding-right: 1em; text-align: center; vertical-align: top\">{&#x27;another&#x27;: 1.0, &#x27;out&#x27;:<br>1.0, &#x27;run&#x27;: 1.0, &#x27;lost&#x27;: ...</td>\n",
       "    </tr>\n",
       "    <tr>\n",
       "        <td style=\"padding-left: 1em; padding-right: 1em; text-align: center; vertical-align: top\">Vulli Sophie the Giraffe<br>Teether ...</td>\n",
       "        <td style=\"padding-left: 1em; padding-right: 1em; text-align: center; vertical-align: top\">I was a little skeptical<br>on whether Sophie was ...</td>\n",
       "        <td style=\"padding-left: 1em; padding-right: 1em; text-align: center; vertical-align: top\">5.0</td>\n",
       "        <td style=\"padding-left: 1em; padding-right: 1em; text-align: center; vertical-align: top\">{&#x27;disappointed&#x27;: 1.0,<br>&#x27;will&#x27;: 1.0, &#x27;take&#x27;:  ...</td>\n",
       "    </tr>\n",
       "    <tr>\n",
       "        <td style=\"padding-left: 1em; padding-right: 1em; text-align: center; vertical-align: top\">Vulli Sophie the Giraffe<br>Teether ...</td>\n",
       "        <td style=\"padding-left: 1em; padding-right: 1em; text-align: center; vertical-align: top\">I have been reading about<br>Sophie and was going  ...</td>\n",
       "        <td style=\"padding-left: 1em; padding-right: 1em; text-align: center; vertical-align: top\">5.0</td>\n",
       "        <td style=\"padding-left: 1em; padding-right: 1em; text-align: center; vertical-align: top\">{&#x27;late&#x27;: 1.0, &#x27;perfect&#x27;:<br>1.0, &#x27;pack&#x27;: 1.0, &#x27;on ...</td>\n",
       "    </tr>\n",
       "    <tr>\n",
       "        <td style=\"padding-left: 1em; padding-right: 1em; text-align: center; vertical-align: top\">Vulli Sophie the Giraffe<br>Teether ...</td>\n",
       "        <td style=\"padding-left: 1em; padding-right: 1em; text-align: center; vertical-align: top\">My neice loves her sophie<br>and has spent hours ...</td>\n",
       "        <td style=\"padding-left: 1em; padding-right: 1em; text-align: center; vertical-align: top\">5.0</td>\n",
       "        <td style=\"padding-left: 1em; padding-right: 1em; text-align: center; vertical-align: top\">{&#x27;delight&#x27;: 1.0, &#x27;in&#x27;:<br>1.0, &#x27;other&#x27;: 1.0, ...</td>\n",
       "    </tr>\n",
       "    <tr>\n",
       "        <td style=\"padding-left: 1em; padding-right: 1em; text-align: center; vertical-align: top\">Vulli Sophie the Giraffe<br>Teether ...</td>\n",
       "        <td style=\"padding-left: 1em; padding-right: 1em; text-align: center; vertical-align: top\">What a friendly face!<br>And those mesmerizing ...</td>\n",
       "        <td style=\"padding-left: 1em; padding-right: 1em; text-align: center; vertical-align: top\">5.0</td>\n",
       "        <td style=\"padding-left: 1em; padding-right: 1em; text-align: center; vertical-align: top\">{&#x27;inside&#x27;: 1.0, &#x27;water&#x27;:<br>1.0, &#x27;don&#x27;: 1.0, &#x27;up&#x27;: ...</td>\n",
       "    </tr>\n",
       "    <tr>\n",
       "        <td style=\"padding-left: 1em; padding-right: 1em; text-align: center; vertical-align: top\">Vulli Sophie the Giraffe<br>Teether ...</td>\n",
       "        <td style=\"padding-left: 1em; padding-right: 1em; text-align: center; vertical-align: top\">We got this just for my<br>son to chew on instea ...</td>\n",
       "        <td style=\"padding-left: 1em; padding-right: 1em; text-align: center; vertical-align: top\">5.0</td>\n",
       "        <td style=\"padding-left: 1em; padding-right: 1em; text-align: center; vertical-align: top\">{&#x27;its&#x27;: 1.0, &#x27;fine&#x27;: 1.0,<br>&#x27;is&#x27;: 1.0, &#x27;which&#x27;: 1.0, ...</td>\n",
       "    </tr>\n",
       "    <tr>\n",
       "        <td style=\"padding-left: 1em; padding-right: 1em; text-align: center; vertical-align: top\">Vulli Sophie the Giraffe<br>Teether ...</td>\n",
       "        <td style=\"padding-left: 1em; padding-right: 1em; text-align: center; vertical-align: top\">My baby seems to like<br>this toy, but I could ...</td>\n",
       "        <td style=\"padding-left: 1em; padding-right: 1em; text-align: center; vertical-align: top\">3.0</td>\n",
       "        <td style=\"padding-left: 1em; padding-right: 1em; text-align: center; vertical-align: top\">{&#x27;off&#x27;: 1.0, &#x27;have&#x27;: 2.0,<br>&#x27;of&#x27;: 1.0, &#x27;some&#x27;: 1.0, ...</td>\n",
       "    </tr>\n",
       "</table>\n",
       "[? rows x 4 columns]<br/>Note: Only the head of the SFrame is printed. This SFrame is lazily evaluated.<br/>You can use sf.materialize() to force materialization.\n",
       "</div>"
      ],
      "text/plain": [
       "Columns:\n",
       "\tname\tstr\n",
       "\treview\tstr\n",
       "\trating\tfloat\n",
       "\tword_count\tdict\n",
       "\n",
       "Rows: Unknown\n",
       "\n",
       "Data:\n",
       "+-------------------------------+-------------------------------+--------+\n",
       "|              name             |             review            | rating |\n",
       "+-------------------------------+-------------------------------+--------+\n",
       "| Vulli Sophie the Giraffe T... | He likes chewing on all th... |  5.0   |\n",
       "| Vulli Sophie the Giraffe T... | My son loves this toy and ... |  5.0   |\n",
       "| Vulli Sophie the Giraffe T... | There really should be a l... |  1.0   |\n",
       "| Vulli Sophie the Giraffe T... | All the moms in my moms' g... |  5.0   |\n",
       "| Vulli Sophie the Giraffe T... | I was a little skeptical o... |  5.0   |\n",
       "| Vulli Sophie the Giraffe T... | I have been reading about ... |  5.0   |\n",
       "| Vulli Sophie the Giraffe T... | My neice loves her sophie ... |  5.0   |\n",
       "| Vulli Sophie the Giraffe T... | What a friendly face!  And... |  5.0   |\n",
       "| Vulli Sophie the Giraffe T... | We got this just for my so... |  5.0   |\n",
       "| Vulli Sophie the Giraffe T... | My baby seems to like this... |  3.0   |\n",
       "+-------------------------------+-------------------------------+--------+\n",
       "+-------------------------------+\n",
       "|           word_count          |\n",
       "+-------------------------------+\n",
       "| {'purchase': 1.0, 'teethin... |\n",
       "| {'a': 1.0, 'is': 1.0, 'whe... |\n",
       "| {'made': 1.0, 'of': 1.0, '... |\n",
       "| {'another': 1.0, 'out': 1.... |\n",
       "| {'disappointed': 1.0, 'wil... |\n",
       "| {'late': 1.0, 'perfect': 1... |\n",
       "| {'delight': 1.0, 'in': 1.0... |\n",
       "| {'inside': 1.0, 'water': 1... |\n",
       "| {'its': 1.0, 'fine': 1.0, ... |\n",
       "| {'off': 1.0, 'have': 2.0, ... |\n",
       "+-------------------------------+\n",
       "[? rows x 4 columns]\n",
       "Note: Only the head of the SFrame is printed. This SFrame is lazily evaluated.\n",
       "You can use sf.materialize() to force materialization."
      ]
     },
     "execution_count": 11,
     "metadata": {},
     "output_type": "execute_result"
    }
   ],
   "source": [
    "sp_rv"
   ]
  },
  {
   "cell_type": "code",
   "execution_count": 12,
   "id": "a3a42dea",
   "metadata": {},
   "outputs": [
    {
     "data": {
      "text/plain": [
       "785"
      ]
     },
     "execution_count": 12,
     "metadata": {},
     "output_type": "execute_result"
    }
   ],
   "source": [
    "len(sp_rv)"
   ]
  },
  {
   "cell_type": "code",
   "execution_count": 13,
   "id": "d96222fc",
   "metadata": {},
   "outputs": [
    {
     "data": {
      "text/html": [
       "<pre>Materializing SArray</pre>"
      ],
      "text/plain": [
       "Materializing SArray"
      ]
     },
     "metadata": {},
     "output_type": "display_data"
    },
    {
     "data": {
      "text/html": [
       "<html>                 <body>                     <iframe style=\"border:0;margin:0\" width=\"920\" height=\"770\" srcdoc='<html lang=\"en\">                         <head>                             <script src=\"https://cdnjs.cloudflare.com/ajax/libs/vega/5.4.0/vega.js\"></script>                             <script src=\"https://cdnjs.cloudflare.com/ajax/libs/vega-embed/4.0.0/vega-embed.js\"></script>                             <script src=\"https://cdnjs.cloudflare.com/ajax/libs/vega-tooltip/0.5.1/vega-tooltip.min.js\"></script>                             <link rel=\"stylesheet\" type=\"text/css\" href=\"https://cdnjs.cloudflare.com/ajax/libs/vega-tooltip/0.5.1/vega-tooltip.min.css\">                             <style>                             .vega-actions > a{                                 color:white;                                 text-decoration: none;                                 font-family: \"Arial\";                                 cursor:pointer;                                 padding:5px;                                 background:#AAAAAA;                                 border-radius:4px;                                 padding-left:10px;                                 padding-right:10px;                                 margin-right:5px;                             }                             .vega-actions{                                 margin-top:20px;                                 text-align:center                             }                            .vega-actions > a{                                 background:#999999;                            }                             </style>                         </head>                         <body>                             <div id=\"vis\">                             </div>                             <script>                                 var vega_json = \"{\\\"$schema\\\": \\\"https://vega.github.io/schema/vega/v4.json\\\", \\\"description\\\": \\\"A simple bar chart with embedded data.\\\", \\\"autosize\\\": {\\\"type\\\": \\\"fit\\\", \\\"resize\\\": false, \\\"contains\\\": \\\"padding\\\"}, \\\"width\\\": 720, \\\"height\\\": 550, \\\"padding\\\": 8, \\\"title\\\": \\\"Distribution of Values [float]\\\", \\\"style\\\": \\\"cell\\\", \\\"signals\\\": [{\\\"name\\\": \\\"bins\\\", \\\"update\\\": \\\"data(\\\\\\\"bins_data\\\\\\\")[0]\\\"}, {\\\"name\\\": \\\"binCount\\\", \\\"update\\\": \\\"(bins.stop - bins.start) / bins.step\\\"}, {\\\"name\\\": \\\"nullGap\\\", \\\"update\\\": \\\"data(\\\\\\\"nulls\\\\\\\").length ? 10 : 0\\\"}, {\\\"name\\\": \\\"barStep\\\", \\\"update\\\": \\\"(width - nullGap) / (1 + binCount)\\\"}], \\\"data\\\": [{\\\"name\\\": \\\"source_2\\\", \\\"values\\\": [{\\\"left\\\": 0.9546, \\\"right\\\": 1.1594, \\\"count\\\": 56}, {\\\"left\\\": 1.1594, \\\"right\\\": 1.3642, \\\"count\\\": 0}, {\\\"left\\\": 1.3642, \\\"right\\\": 1.569, \\\"count\\\": 0}, {\\\"left\\\": 1.569, \\\"right\\\": 1.7738, \\\"count\\\": 0}, {\\\"left\\\": 1.7738, \\\"right\\\": 1.9786, \\\"count\\\": 0}, {\\\"left\\\": 1.9786, \\\"right\\\": 2.1834, \\\"count\\\": 37}, {\\\"left\\\": 2.1834, \\\"right\\\": 2.3882, \\\"count\\\": 0}, {\\\"left\\\": 2.3882, \\\"right\\\": 2.593, \\\"count\\\": 0}, {\\\"left\\\": 2.593, \\\"right\\\": 2.7978, \\\"count\\\": 0}, {\\\"left\\\": 2.7978, \\\"right\\\": 3.0026, \\\"count\\\": 62}, {\\\"left\\\": 3.0026, \\\"right\\\": 3.2074, \\\"count\\\": 0}, {\\\"left\\\": 3.2074, \\\"right\\\": 3.4122, \\\"count\\\": 0}, {\\\"left\\\": 3.4122, \\\"right\\\": 3.617, \\\"count\\\": 0}, {\\\"left\\\": 3.617, \\\"right\\\": 3.8218, \\\"count\\\": 0}, {\\\"left\\\": 3.8218, \\\"right\\\": 4.0266, \\\"count\\\": 95}, {\\\"left\\\": 4.0266, \\\"right\\\": 4.2314, \\\"count\\\": 0}, {\\\"left\\\": 4.2314, \\\"right\\\": 4.4362, \\\"count\\\": 0}, {\\\"left\\\": 4.4362, \\\"right\\\": 4.641, \\\"count\\\": 0}, {\\\"left\\\": 4.641, \\\"right\\\": 4.8458, \\\"count\\\": 0}, {\\\"left\\\": 4.8458, \\\"right\\\": 5.0506, \\\"count\\\": 535}, {\\\"start\\\": 0.9546, \\\"stop\\\": 5.0506, \\\"step\\\": 0.2048}]}, {\\\"name\\\": \\\"counts\\\", \\\"source\\\": \\\"source_2\\\", \\\"transform\\\": [{\\\"type\\\": \\\"filter\\\", \\\"expr\\\": \\\"datum[\\\\\\\"missing\\\\\\\"] !== true &amp;&amp; datum[\\\\\\\"count\\\\\\\"] != null\\\"}]}, {\\\"name\\\": \\\"nulls\\\", \\\"source\\\": \\\"source_2\\\", \\\"transform\\\": [{\\\"expr\\\": \\\"datum[\\\\\\\"missing\\\\\\\"] === true &amp;&amp; datum[\\\\\\\"count\\\\\\\"] != null\\\", \\\"type\\\": \\\"filter\\\"}]}, {\\\"name\\\": \\\"bins_data\\\", \\\"source\\\": \\\"source_2\\\", \\\"transform\\\": [{\\\"expr\\\": \\\"datum[\\\\\\\"start\\\\\\\"] != null &amp;&amp; datum[\\\\\\\"stop\\\\\\\"] != null &amp;&amp; datum[\\\\\\\"step\\\\\\\"] != null\\\", \\\"type\\\": \\\"filter\\\"}]}], \\\"marks\\\": [{\\\"type\\\": \\\"rect\\\", \\\"from\\\": {\\\"data\\\": \\\"counts\\\"}, \\\"encode\\\": {\\\"update\\\": {\\\"x\\\": {\\\"scale\\\": \\\"xscale\\\", \\\"field\\\": \\\"left\\\", \\\"offset\\\": 1}, \\\"x2\\\": {\\\"scale\\\": \\\"xscale\\\", \\\"field\\\": \\\"right\\\"}, \\\"y\\\": {\\\"scale\\\": \\\"yscale\\\", \\\"field\\\": \\\"count\\\"}, \\\"y2\\\": {\\\"scale\\\": \\\"yscale\\\", \\\"value\\\": 0}, \\\"fill\\\": {\\\"value\\\": \\\"#108EE9\\\"}}, \\\"hover\\\": {\\\"fill\\\": {\\\"value\\\": \\\"#7EC2F3\\\"}}}}, {\\\"type\\\": \\\"rect\\\", \\\"from\\\": {\\\"data\\\": \\\"nulls\\\"}, \\\"encode\\\": {\\\"update\\\": {\\\"x\\\": {\\\"scale\\\": \\\"xscale-null\\\", \\\"value\\\": null, \\\"offset\\\": 1}, \\\"x2\\\": {\\\"scale\\\": \\\"xscale-null\\\", \\\"band\\\": 1}, \\\"y\\\": {\\\"scale\\\": \\\"yscale\\\", \\\"field\\\": \\\"count\\\"}, \\\"y2\\\": {\\\"scale\\\": \\\"yscale\\\", \\\"value\\\": 0}, \\\"fill\\\": {\\\"value\\\": \\\"#108EE9\\\"}}, \\\"hover\\\": {\\\"fill\\\": {\\\"value\\\": \\\"#7EC2F3\\\"}}}}], \\\"scales\\\": [{\\\"name\\\": \\\"yscale\\\", \\\"type\\\": \\\"linear\\\", \\\"range\\\": \\\"height\\\", \\\"round\\\": true, \\\"nice\\\": true, \\\"domain\\\": {\\\"fields\\\": [{\\\"data\\\": \\\"counts\\\", \\\"field\\\": \\\"count\\\"}, {\\\"data\\\": \\\"nulls\\\", \\\"field\\\": \\\"count\\\"}]}}, {\\\"name\\\": \\\"xscale\\\", \\\"type\\\": \\\"linear\\\", \\\"range\\\": [{\\\"signal\\\": \\\"nullGap ? barStep + nullGap : 0\\\"}, {\\\"signal\\\": \\\"width\\\"}], \\\"round\\\": true, \\\"domain\\\": {\\\"signal\\\": \\\"[bins.start, bins.stop]\\\"}, \\\"bins\\\": {\\\"signal\\\": \\\"bins\\\"}}, {\\\"name\\\": \\\"xscale-null\\\", \\\"type\\\": \\\"band\\\", \\\"range\\\": [{\\\"signal\\\": \\\"nullGap ? 0 : 1\\\"}, {\\\"signal\\\": \\\"nullGap ? barStep : 0\\\"}], \\\"round\\\": true, \\\"domain\\\": [{\\\"signal\\\": \\\"nullGap ? null : &apos;&apos;\\\"}]}], \\\"axes\\\": [{\\\"title\\\": \\\"Values\\\", \\\"orient\\\": \\\"bottom\\\", \\\"scale\\\": \\\"xscale\\\", \\\"tickMinStep\\\": 1, \\\"grid\\\": true}, {\\\"orient\\\": \\\"bottom\\\", \\\"scale\\\": \\\"xscale-null\\\"}, {\\\"title\\\": \\\"Count\\\", \\\"orient\\\": \\\"left\\\", \\\"scale\\\": \\\"yscale\\\", \\\"tickCount\\\": 5, \\\"offset\\\": {\\\"signal\\\": \\\"nullGap ? 5 : 0\\\"}, \\\"grid\\\": true}], \\\"config\\\": {\\\"axis\\\": {\\\"gridColor\\\": \\\"rgba(204,204,204,1.0)\\\", \\\"labelFont\\\": \\\"\\\\\\\"San Francisco\\\\\\\", HelveticaNeue, Arial\\\", \\\"labelFontSize\\\": 12, \\\"labelPadding\\\": 10, \\\"labelColor\\\": \\\"rgba(0,0,0,0.847)\\\", \\\"tickColor\\\": \\\"rgb(136,136,136)\\\", \\\"titleFont\\\": \\\"\\\\\\\"San Francisco\\\\\\\", HelveticaNeue, Arial\\\", \\\"titleFontWeight\\\": \\\"normal\\\", \\\"titlePadding\\\": 20, \\\"titleFontSize\\\": 14, \\\"titleColor\\\": \\\"rgba(0,0,0,0.847)\\\"}, \\\"axisY\\\": {\\\"minExtent\\\": 30}, \\\"legend\\\": {\\\"labelFont\\\": \\\"\\\\\\\"San Francisco\\\\\\\", HelveticaNeue, Arial\\\", \\\"labelColor\\\": \\\"rgba(0,0,0,0.847)\\\", \\\"titleFont\\\": \\\"\\\\\\\"San Francisco\\\\\\\", HelveticaNeue, Arial\\\", \\\"cornerRadius\\\": 30, \\\"gradientLength\\\": 608, \\\"titleColor\\\": \\\"rgba(0,0,0,0.847)\\\"}, \\\"range\\\": {\\\"heatmap\\\": {\\\"scheme\\\": \\\"greenblue\\\"}}, \\\"style\\\": {\\\"rect\\\": {\\\"stroke\\\": \\\"rgba(200, 200, 200, 0.5)\\\"}, \\\"cell\\\": {\\\"stroke\\\": \\\"transparent\\\"}, \\\"group-title\\\": {\\\"fontSize\\\": 29, \\\"font\\\": \\\"HelveticaNeue, Arial\\\", \\\"fontWeight\\\": \\\"normal\\\", \\\"fill\\\": \\\"rgba(0,0,0,0.65)\\\"}}, \\\"title\\\": {\\\"color\\\": \\\"rgba(0,0,0,0.847)\\\", \\\"font\\\": \\\"\\\\\\\"San Francisco\\\\\\\", HelveticaNeue, Arial\\\", \\\"fontSize\\\": 18, \\\"fontWeight\\\": \\\"normal\\\", \\\"offset\\\": 30}}}\";                                 var vega_json_parsed = JSON.parse(vega_json);                                 var toolTipOpts = {                                     showAllFields: true                                 };                                 if(vega_json_parsed[\"metadata\"] != null){                                     if(vega_json_parsed[\"metadata\"][\"bubbleOpts\"] != null){                                         toolTipOpts = vega_json_parsed[\"metadata\"][\"bubbleOpts\"];                                     };                                 };                                 vegaEmbed(\"#vis\", vega_json_parsed).then(function (result) {                                     vegaTooltip.vega(result.view, toolTipOpts);                                  });                             </script>                         </body>                     </html>' src=\"demo_iframe_srcdoc.htm\">                         <p>Your browser does not support iframes.</p>                     </iframe>                 </body>             </html>"
      ],
      "text/plain": [
       "<IPython.core.display.HTML object>"
      ]
     },
     "metadata": {},
     "output_type": "display_data"
    }
   ],
   "source": [
    "sp_rv['rating'].show()"
   ]
  },
  {
   "cell_type": "markdown",
   "id": "ba997790",
   "metadata": {},
   "source": [
    "# Defining which reviews are positive and which are negative.\n",
    "### Build a sentiment classifier."
   ]
  },
  {
   "cell_type": "code",
   "execution_count": 14,
   "id": "3b05c7d3",
   "metadata": {},
   "outputs": [
    {
     "data": {
      "text/html": [
       "<pre>Materializing SArray</pre>"
      ],
      "text/plain": [
       "Materializing SArray"
      ]
     },
     "metadata": {},
     "output_type": "display_data"
    },
    {
     "data": {
      "text/html": [
       "<html>                 <body>                     <iframe style=\"border:0;margin:0\" width=\"920\" height=\"770\" srcdoc='<html lang=\"en\">                         <head>                             <script src=\"https://cdnjs.cloudflare.com/ajax/libs/vega/5.4.0/vega.js\"></script>                             <script src=\"https://cdnjs.cloudflare.com/ajax/libs/vega-embed/4.0.0/vega-embed.js\"></script>                             <script src=\"https://cdnjs.cloudflare.com/ajax/libs/vega-tooltip/0.5.1/vega-tooltip.min.js\"></script>                             <link rel=\"stylesheet\" type=\"text/css\" href=\"https://cdnjs.cloudflare.com/ajax/libs/vega-tooltip/0.5.1/vega-tooltip.min.css\">                             <style>                             .vega-actions > a{                                 color:white;                                 text-decoration: none;                                 font-family: \"Arial\";                                 cursor:pointer;                                 padding:5px;                                 background:#AAAAAA;                                 border-radius:4px;                                 padding-left:10px;                                 padding-right:10px;                                 margin-right:5px;                             }                             .vega-actions{                                 margin-top:20px;                                 text-align:center                             }                            .vega-actions > a{                                 background:#999999;                            }                             </style>                         </head>                         <body>                             <div id=\"vis\">                             </div>                             <script>                                 var vega_json = \"{\\\"$schema\\\": \\\"https://vega.github.io/schema/vega/v4.json\\\", \\\"description\\\": \\\"A simple bar chart with embedded data.\\\", \\\"autosize\\\": {\\\"type\\\": \\\"fit\\\", \\\"resize\\\": false, \\\"contains\\\": \\\"padding\\\"}, \\\"width\\\": 720, \\\"height\\\": 550, \\\"padding\\\": 8, \\\"title\\\": \\\"Distribution of Values [float]\\\", \\\"style\\\": \\\"cell\\\", \\\"signals\\\": [{\\\"name\\\": \\\"bins\\\", \\\"update\\\": \\\"data(\\\\\\\"bins_data\\\\\\\")[0]\\\"}, {\\\"name\\\": \\\"binCount\\\", \\\"update\\\": \\\"(bins.stop - bins.start) / bins.step\\\"}, {\\\"name\\\": \\\"nullGap\\\", \\\"update\\\": \\\"data(\\\\\\\"nulls\\\\\\\").length ? 10 : 0\\\"}, {\\\"name\\\": \\\"barStep\\\", \\\"update\\\": \\\"(width - nullGap) / (1 + binCount)\\\"}], \\\"data\\\": [{\\\"name\\\": \\\"source_2\\\", \\\"values\\\": [{\\\"left\\\": 0.928, \\\"right\\\": 1.136, \\\"count\\\": 15183}, {\\\"left\\\": 1.136, \\\"right\\\": 1.344, \\\"count\\\": 0}, {\\\"left\\\": 1.344, \\\"right\\\": 1.552, \\\"count\\\": 0}, {\\\"left\\\": 1.552, \\\"right\\\": 1.76, \\\"count\\\": 0}, {\\\"left\\\": 1.76, \\\"right\\\": 1.968, \\\"count\\\": 0}, {\\\"left\\\": 1.968, \\\"right\\\": 2.176, \\\"count\\\": 11310}, {\\\"left\\\": 2.176, \\\"right\\\": 2.384, \\\"count\\\": 0}, {\\\"left\\\": 2.384, \\\"right\\\": 2.592, \\\"count\\\": 0}, {\\\"left\\\": 2.592, \\\"right\\\": 2.8, \\\"count\\\": 0}, {\\\"left\\\": 2.8, \\\"right\\\": 3.008, \\\"count\\\": 16779}, {\\\"left\\\": 3.008, \\\"right\\\": 3.216, \\\"count\\\": 0}, {\\\"left\\\": 3.216, \\\"right\\\": 3.424, \\\"count\\\": 0}, {\\\"left\\\": 3.424, \\\"right\\\": 3.632, \\\"count\\\": 0}, {\\\"left\\\": 3.632, \\\"right\\\": 3.84, \\\"count\\\": 0}, {\\\"left\\\": 3.84, \\\"right\\\": 4.048, \\\"count\\\": 33205}, {\\\"left\\\": 4.048, \\\"right\\\": 4.256, \\\"count\\\": 0}, {\\\"left\\\": 4.256, \\\"right\\\": 4.464, \\\"count\\\": 0}, {\\\"left\\\": 4.464, \\\"right\\\": 4.672, \\\"count\\\": 0}, {\\\"left\\\": 4.672, \\\"right\\\": 4.88, \\\"count\\\": 0}, {\\\"left\\\": 4.88, \\\"right\\\": 5.088, \\\"count\\\": 107054}, {\\\"start\\\": 0.928, \\\"stop\\\": 5.088, \\\"step\\\": 0.208}]}, {\\\"name\\\": \\\"counts\\\", \\\"source\\\": \\\"source_2\\\", \\\"transform\\\": [{\\\"type\\\": \\\"filter\\\", \\\"expr\\\": \\\"datum[\\\\\\\"missing\\\\\\\"] !== true &amp;&amp; datum[\\\\\\\"count\\\\\\\"] != null\\\"}]}, {\\\"name\\\": \\\"nulls\\\", \\\"source\\\": \\\"source_2\\\", \\\"transform\\\": [{\\\"expr\\\": \\\"datum[\\\\\\\"missing\\\\\\\"] === true &amp;&amp; datum[\\\\\\\"count\\\\\\\"] != null\\\", \\\"type\\\": \\\"filter\\\"}]}, {\\\"name\\\": \\\"bins_data\\\", \\\"source\\\": \\\"source_2\\\", \\\"transform\\\": [{\\\"expr\\\": \\\"datum[\\\\\\\"start\\\\\\\"] != null &amp;&amp; datum[\\\\\\\"stop\\\\\\\"] != null &amp;&amp; datum[\\\\\\\"step\\\\\\\"] != null\\\", \\\"type\\\": \\\"filter\\\"}]}], \\\"marks\\\": [{\\\"type\\\": \\\"rect\\\", \\\"from\\\": {\\\"data\\\": \\\"counts\\\"}, \\\"encode\\\": {\\\"update\\\": {\\\"x\\\": {\\\"scale\\\": \\\"xscale\\\", \\\"field\\\": \\\"left\\\", \\\"offset\\\": 1}, \\\"x2\\\": {\\\"scale\\\": \\\"xscale\\\", \\\"field\\\": \\\"right\\\"}, \\\"y\\\": {\\\"scale\\\": \\\"yscale\\\", \\\"field\\\": \\\"count\\\"}, \\\"y2\\\": {\\\"scale\\\": \\\"yscale\\\", \\\"value\\\": 0}, \\\"fill\\\": {\\\"value\\\": \\\"#108EE9\\\"}}, \\\"hover\\\": {\\\"fill\\\": {\\\"value\\\": \\\"#7EC2F3\\\"}}}}, {\\\"type\\\": \\\"rect\\\", \\\"from\\\": {\\\"data\\\": \\\"nulls\\\"}, \\\"encode\\\": {\\\"update\\\": {\\\"x\\\": {\\\"scale\\\": \\\"xscale-null\\\", \\\"value\\\": null, \\\"offset\\\": 1}, \\\"x2\\\": {\\\"scale\\\": \\\"xscale-null\\\", \\\"band\\\": 1}, \\\"y\\\": {\\\"scale\\\": \\\"yscale\\\", \\\"field\\\": \\\"count\\\"}, \\\"y2\\\": {\\\"scale\\\": \\\"yscale\\\", \\\"value\\\": 0}, \\\"fill\\\": {\\\"value\\\": \\\"#108EE9\\\"}}, \\\"hover\\\": {\\\"fill\\\": {\\\"value\\\": \\\"#7EC2F3\\\"}}}}], \\\"scales\\\": [{\\\"name\\\": \\\"yscale\\\", \\\"type\\\": \\\"linear\\\", \\\"range\\\": \\\"height\\\", \\\"round\\\": true, \\\"nice\\\": true, \\\"domain\\\": {\\\"fields\\\": [{\\\"data\\\": \\\"counts\\\", \\\"field\\\": \\\"count\\\"}, {\\\"data\\\": \\\"nulls\\\", \\\"field\\\": \\\"count\\\"}]}}, {\\\"name\\\": \\\"xscale\\\", \\\"type\\\": \\\"linear\\\", \\\"range\\\": [{\\\"signal\\\": \\\"nullGap ? barStep + nullGap : 0\\\"}, {\\\"signal\\\": \\\"width\\\"}], \\\"round\\\": true, \\\"domain\\\": {\\\"signal\\\": \\\"[bins.start, bins.stop]\\\"}, \\\"bins\\\": {\\\"signal\\\": \\\"bins\\\"}}, {\\\"name\\\": \\\"xscale-null\\\", \\\"type\\\": \\\"band\\\", \\\"range\\\": [{\\\"signal\\\": \\\"nullGap ? 0 : 1\\\"}, {\\\"signal\\\": \\\"nullGap ? barStep : 0\\\"}], \\\"round\\\": true, \\\"domain\\\": [{\\\"signal\\\": \\\"nullGap ? null : &apos;&apos;\\\"}]}], \\\"axes\\\": [{\\\"title\\\": \\\"Values\\\", \\\"orient\\\": \\\"bottom\\\", \\\"scale\\\": \\\"xscale\\\", \\\"tickMinStep\\\": 1, \\\"grid\\\": true}, {\\\"orient\\\": \\\"bottom\\\", \\\"scale\\\": \\\"xscale-null\\\"}, {\\\"title\\\": \\\"Count\\\", \\\"orient\\\": \\\"left\\\", \\\"scale\\\": \\\"yscale\\\", \\\"tickCount\\\": 5, \\\"offset\\\": {\\\"signal\\\": \\\"nullGap ? 5 : 0\\\"}, \\\"grid\\\": true}], \\\"config\\\": {\\\"axis\\\": {\\\"gridColor\\\": \\\"rgba(204,204,204,1.0)\\\", \\\"labelFont\\\": \\\"\\\\\\\"San Francisco\\\\\\\", HelveticaNeue, Arial\\\", \\\"labelFontSize\\\": 12, \\\"labelPadding\\\": 10, \\\"labelColor\\\": \\\"rgba(0,0,0,0.847)\\\", \\\"tickColor\\\": \\\"rgb(136,136,136)\\\", \\\"titleFont\\\": \\\"\\\\\\\"San Francisco\\\\\\\", HelveticaNeue, Arial\\\", \\\"titleFontWeight\\\": \\\"normal\\\", \\\"titlePadding\\\": 20, \\\"titleFontSize\\\": 14, \\\"titleColor\\\": \\\"rgba(0,0,0,0.847)\\\"}, \\\"axisY\\\": {\\\"minExtent\\\": 30}, \\\"legend\\\": {\\\"labelFont\\\": \\\"\\\\\\\"San Francisco\\\\\\\", HelveticaNeue, Arial\\\", \\\"labelColor\\\": \\\"rgba(0,0,0,0.847)\\\", \\\"titleFont\\\": \\\"\\\\\\\"San Francisco\\\\\\\", HelveticaNeue, Arial\\\", \\\"cornerRadius\\\": 30, \\\"gradientLength\\\": 608, \\\"titleColor\\\": \\\"rgba(0,0,0,0.847)\\\"}, \\\"range\\\": {\\\"heatmap\\\": {\\\"scheme\\\": \\\"greenblue\\\"}}, \\\"style\\\": {\\\"rect\\\": {\\\"stroke\\\": \\\"rgba(200, 200, 200, 0.5)\\\"}, \\\"cell\\\": {\\\"stroke\\\": \\\"transparent\\\"}, \\\"group-title\\\": {\\\"fontSize\\\": 29, \\\"font\\\": \\\"HelveticaNeue, Arial\\\", \\\"fontWeight\\\": \\\"normal\\\", \\\"fill\\\": \\\"rgba(0,0,0,0.65)\\\"}}, \\\"title\\\": {\\\"color\\\": \\\"rgba(0,0,0,0.847)\\\", \\\"font\\\": \\\"\\\\\\\"San Francisco\\\\\\\", HelveticaNeue, Arial\\\", \\\"fontSize\\\": 18, \\\"fontWeight\\\": \\\"normal\\\", \\\"offset\\\": 30}}}\";                                 var vega_json_parsed = JSON.parse(vega_json);                                 var toolTipOpts = {                                     showAllFields: true                                 };                                 if(vega_json_parsed[\"metadata\"] != null){                                     if(vega_json_parsed[\"metadata\"][\"bubbleOpts\"] != null){                                         toolTipOpts = vega_json_parsed[\"metadata\"][\"bubbleOpts\"];                                     };                                 };                                 vegaEmbed(\"#vis\", vega_json_parsed).then(function (result) {                                     vegaTooltip.vega(result.view, toolTipOpts);                                  });                             </script>                         </body>                     </html>' src=\"demo_iframe_srcdoc.htm\">                         <p>Your browser does not support iframes.</p>                     </iframe>                 </body>             </html>"
      ],
      "text/plain": [
       "<IPython.core.display.HTML object>"
      ]
     },
     "metadata": {},
     "output_type": "display_data"
    }
   ],
   "source": [
    "products['rating'].show()"
   ]
  },
  {
   "cell_type": "markdown",
   "id": "ad37c48c",
   "metadata": {},
   "source": [
    "## Define what's a positive and negative sentiment."
   ]
  },
  {
   "cell_type": "code",
   "execution_count": 15,
   "id": "bffdb4c5",
   "metadata": {},
   "outputs": [],
   "source": [
    "# Ignore all 3 stars reviews.\n",
    "\n",
    "products = products[products['rating'] != 3]"
   ]
  },
  {
   "cell_type": "code",
   "execution_count": 16,
   "id": "40a7e5e7",
   "metadata": {},
   "outputs": [],
   "source": [
    "products['sentiment'] = products['rating'] >= 4 # automaticamente já atribui 1 se verdadeiro."
   ]
  },
  {
   "cell_type": "markdown",
   "id": "4d0b380e",
   "metadata": {},
   "source": [
    "# Let's train the sentiment classifier."
   ]
  },
  {
   "cell_type": "code",
   "execution_count": 17,
   "id": "a832f13c",
   "metadata": {},
   "outputs": [],
   "source": [
    "train, test = products.random_split(0.8, seed=0)"
   ]
  },
  {
   "cell_type": "code",
   "execution_count": 18,
   "id": "7fe6bc86",
   "metadata": {},
   "outputs": [
    {
     "data": {
      "text/html": [
       "<pre>Logistic regression:</pre>"
      ],
      "text/plain": [
       "Logistic regression:"
      ]
     },
     "metadata": {},
     "output_type": "display_data"
    },
    {
     "data": {
      "text/html": [
       "<pre>--------------------------------------------------------</pre>"
      ],
      "text/plain": [
       "--------------------------------------------------------"
      ]
     },
     "metadata": {},
     "output_type": "display_data"
    },
    {
     "data": {
      "text/html": [
       "<pre>Number of examples          : 133448</pre>"
      ],
      "text/plain": [
       "Number of examples          : 133448"
      ]
     },
     "metadata": {},
     "output_type": "display_data"
    },
    {
     "data": {
      "text/html": [
       "<pre>Number of classes           : 2</pre>"
      ],
      "text/plain": [
       "Number of classes           : 2"
      ]
     },
     "metadata": {},
     "output_type": "display_data"
    },
    {
     "data": {
      "text/html": [
       "<pre>Number of feature columns   : 1</pre>"
      ],
      "text/plain": [
       "Number of feature columns   : 1"
      ]
     },
     "metadata": {},
     "output_type": "display_data"
    },
    {
     "data": {
      "text/html": [
       "<pre>Number of unpacked features : 57356</pre>"
      ],
      "text/plain": [
       "Number of unpacked features : 57356"
      ]
     },
     "metadata": {},
     "output_type": "display_data"
    },
    {
     "data": {
      "text/html": [
       "<pre>Number of coefficients      : 57357</pre>"
      ],
      "text/plain": [
       "Number of coefficients      : 57357"
      ]
     },
     "metadata": {},
     "output_type": "display_data"
    },
    {
     "data": {
      "text/html": [
       "<pre>Starting L-BFGS</pre>"
      ],
      "text/plain": [
       "Starting L-BFGS"
      ]
     },
     "metadata": {},
     "output_type": "display_data"
    },
    {
     "data": {
      "text/html": [
       "<pre>--------------------------------------------------------</pre>"
      ],
      "text/plain": [
       "--------------------------------------------------------"
      ]
     },
     "metadata": {},
     "output_type": "display_data"
    },
    {
     "data": {
      "text/html": [
       "<pre>+-----------+----------+-----------+--------------+-------------------+---------------------+</pre>"
      ],
      "text/plain": [
       "+-----------+----------+-----------+--------------+-------------------+---------------------+"
      ]
     },
     "metadata": {},
     "output_type": "display_data"
    },
    {
     "data": {
      "text/html": [
       "<pre>| Iteration | Passes   | Step size | Elapsed Time | Training Accuracy | Validation Accuracy |</pre>"
      ],
      "text/plain": [
       "| Iteration | Passes   | Step size | Elapsed Time | Training Accuracy | Validation Accuracy |"
      ]
     },
     "metadata": {},
     "output_type": "display_data"
    },
    {
     "data": {
      "text/html": [
       "<pre>+-----------+----------+-----------+--------------+-------------------+---------------------+</pre>"
      ],
      "text/plain": [
       "+-----------+----------+-----------+--------------+-------------------+---------------------+"
      ]
     },
     "metadata": {},
     "output_type": "display_data"
    },
    {
     "data": {
      "text/html": [
       "<pre>| 0         | 4        | 0.250000  | 1.363492     | 0.841421          | 0.840019            |</pre>"
      ],
      "text/plain": [
       "| 0         | 4        | 0.250000  | 1.363492     | 0.841421          | 0.840019            |"
      ]
     },
     "metadata": {},
     "output_type": "display_data"
    },
    {
     "data": {
      "text/html": [
       "<pre>| 1         | 9        | 3.250000  | 1.773825     | 0.931359          | 0.911362            |</pre>"
      ],
      "text/plain": [
       "| 1         | 9        | 3.250000  | 1.773825     | 0.931359          | 0.911362            |"
      ]
     },
     "metadata": {},
     "output_type": "display_data"
    },
    {
     "data": {
      "text/html": [
       "<pre>| 2         | 11       | 2.669978  | 1.962941     | 0.938650          | 0.916466            |</pre>"
      ],
      "text/plain": [
       "| 2         | 11       | 2.669978  | 1.962941     | 0.938650          | 0.916466            |"
      ]
     },
     "metadata": {},
     "output_type": "display_data"
    },
    {
     "data": {
      "text/html": [
       "<pre>| 3         | 12       | 2.669978  | 2.092392     | 0.927417          | 0.901814            |</pre>"
      ],
      "text/plain": [
       "| 3         | 12       | 2.669978  | 2.092392     | 0.927417          | 0.901814            |"
      ]
     },
     "metadata": {},
     "output_type": "display_data"
    },
    {
     "data": {
      "text/html": [
       "<pre>| 4         | 14       | 1.326072  | 2.281713     | 0.945200          | 0.918088            |</pre>"
      ],
      "text/plain": [
       "| 4         | 14       | 1.326072  | 2.281713     | 0.945200          | 0.918088            |"
      ]
     },
     "metadata": {},
     "output_type": "display_data"
    },
    {
     "data": {
      "text/html": [
       "<pre>| 9         | 20       | 1.326072  | 2.923009     | 0.977654          | 0.917698            |</pre>"
      ],
      "text/plain": [
       "| 9         | 20       | 1.326072  | 2.923009     | 0.977654          | 0.917698            |"
      ]
     },
     "metadata": {},
     "output_type": "display_data"
    },
    {
     "data": {
      "text/html": [
       "<pre>+-----------+----------+-----------+--------------+-------------------+---------------------+</pre>"
      ],
      "text/plain": [
       "+-----------+----------+-----------+--------------+-------------------+---------------------+"
      ]
     },
     "metadata": {},
     "output_type": "display_data"
    }
   ],
   "source": [
    "sentiment_model = turicreate.logistic_classifier.create(train, target = 'sentiment',\n",
    "                                                      features = ['word_count'], validation_set = test)"
   ]
  },
  {
   "cell_type": "markdown",
   "id": "619eb432",
   "metadata": {},
   "source": [
    "# Evaluating a classifier and the ROC curve."
   ]
  },
  {
   "cell_type": "code",
   "execution_count": 23,
   "id": "f534937a",
   "metadata": {},
   "outputs": [
    {
     "data": {
      "text/plain": [
       "{'roc_curve': Columns:\n",
       " \tthreshold\tfloat\n",
       " \tfpr\tfloat\n",
       " \ttpr\tfloat\n",
       " \tp\tint\n",
       " \tn\tint\n",
       " \n",
       " Rows: 1001\n",
       " \n",
       " Data:\n",
       " +-----------+--------------------+--------------------+-------+------+\n",
       " | threshold |        fpr         |        tpr         |   p   |  n   |\n",
       " +-----------+--------------------+--------------------+-------+------+\n",
       " |    0.0    |        1.0         |        1.0         | 27976 | 5328 |\n",
       " |   0.001   | 0.698948948948949  | 0.9933514440949385 | 27976 | 5328 |\n",
       " |   0.002   | 0.6619744744744744 | 0.9922076065198742 | 27976 | 5328 |\n",
       " |   0.003   | 0.6385135135135135 | 0.9909922790963683 | 27976 | 5328 |\n",
       " |   0.004   |  0.62256006006006  | 0.9903846153846154 | 27976 | 5328 |\n",
       " |   0.005   | 0.6112987987987988 | 0.989848441521304  | 27976 | 5328 |\n",
       " |   0.006   | 0.6002252252252253 | 0.9894195024306548 | 27976 | 5328 |\n",
       " |   0.007   | 0.589527027027027  | 0.9888475836431226 | 27976 | 5328 |\n",
       " |   0.008   | 0.5816441441441441 | 0.9883828996282528 | 27976 | 5328 |\n",
       " |   0.009   | 0.574512012012012  | 0.9880611953102659 | 27976 | 5328 |\n",
       " +-----------+--------------------+--------------------+-------+------+\n",
       " [1001 rows x 5 columns]\n",
       " Note: Only the head of the SFrame is printed.\n",
       " You can use print_rows(num_rows=m, num_columns=n) to print more rows and columns.}"
      ]
     },
     "execution_count": 23,
     "metadata": {},
     "output_type": "execute_result"
    }
   ],
   "source": [
    "sentiment_model.evaluate(test, metric='roc_curve')"
   ]
  },
  {
   "cell_type": "code",
   "execution_count": 26,
   "id": "1a6f9e3c",
   "metadata": {},
   "outputs": [
    {
     "data": {
      "text/plain": [
       "Class                          : LogisticClassifier\n",
       "\n",
       "Schema\n",
       "------\n",
       "Number of coefficients         : 57357\n",
       "Number of examples             : 133448\n",
       "Number of classes              : 2\n",
       "Number of feature columns      : 1\n",
       "Number of unpacked features    : 57356\n",
       "\n",
       "Hyperparameters\n",
       "---------------\n",
       "L1 penalty                     : 0.0\n",
       "L2 penalty                     : 0.01\n",
       "\n",
       "Training Summary\n",
       "----------------\n",
       "Solver                         : lbfgs\n",
       "Solver iterations              : 10\n",
       "Solver status                  : Completed (Iteration limit reached).\n",
       "Training time (sec)            : 1.382\n",
       "\n",
       "Settings\n",
       "--------\n",
       "Log-likelihood                 : 9590.1752\n",
       "\n",
       "Highest Positive Coefficients\n",
       "-----------------------------\n",
       "word_count[arghhhhhh]          : 49.2272\n",
       "word_count[joovys]             : 34.2942\n",
       "word_count[screencons]         : 29.1217\n",
       "word_count[punchers]           : 27.5292\n",
       "word_count[angrily]            : 27.3339\n",
       "\n",
       "Lowest Negative Coefficients\n",
       "----------------------------\n",
       "word_count[transpired]         : -30.4322\n",
       "word_count[themobi]            : -29.7924\n",
       "word_count[cobbbler]           : -28.8712\n",
       "word_count[hahaaaa]            : -28.371\n",
       "word_count[wheelbarrow]        : -28.2912"
      ]
     },
     "execution_count": 26,
     "metadata": {},
     "output_type": "execute_result"
    }
   ],
   "source": [
    "sentiment_model"
   ]
  },
  {
   "cell_type": "markdown",
   "id": "355ae666",
   "metadata": {},
   "source": [
    "# Applying model to find most positive and negative reviews for a product:"
   ]
  },
  {
   "cell_type": "code",
   "execution_count": 33,
   "id": "26d7ac91",
   "metadata": {},
   "outputs": [],
   "source": [
    "sp_rv['predicted_sentiment'] = sentiment_model.predict(sp_rv, output_type='probability')\n",
    "# Nesse ponto analisamos para cada review, o sentimento de cada uma. "
   ]
  },
  {
   "cell_type": "code",
   "execution_count": 32,
   "id": "179fce9b",
   "metadata": {},
   "outputs": [
    {
     "data": {
      "text/html": [
       "<div style=\"max-height:1000px;max-width:1500px;overflow:auto;\"><table frame=\"box\" rules=\"cols\">\n",
       "    <tr>\n",
       "        <th style=\"padding-left: 1em; padding-right: 1em; text-align: center\">name</th>\n",
       "        <th style=\"padding-left: 1em; padding-right: 1em; text-align: center\">review</th>\n",
       "        <th style=\"padding-left: 1em; padding-right: 1em; text-align: center\">rating</th>\n",
       "        <th style=\"padding-left: 1em; padding-right: 1em; text-align: center\">word_count</th>\n",
       "        <th style=\"padding-left: 1em; padding-right: 1em; text-align: center\">predicted_sentiment</th>\n",
       "    </tr>\n",
       "    <tr>\n",
       "        <td style=\"padding-left: 1em; padding-right: 1em; text-align: center; vertical-align: top\">Vulli Sophie the Giraffe<br>Teether ...</td>\n",
       "        <td style=\"padding-left: 1em; padding-right: 1em; text-align: center; vertical-align: top\">He likes chewing on all<br>the parts especially the ...</td>\n",
       "        <td style=\"padding-left: 1em; padding-right: 1em; text-align: center; vertical-align: top\">5.0</td>\n",
       "        <td style=\"padding-left: 1em; padding-right: 1em; text-align: center; vertical-align: top\">{&#x27;purchase&#x27;: 1.0,<br>&#x27;teething&#x27;: 1.0, ...</td>\n",
       "        <td style=\"padding-left: 1em; padding-right: 1em; text-align: center; vertical-align: top\">0.9993655365682544</td>\n",
       "    </tr>\n",
       "    <tr>\n",
       "        <td style=\"padding-left: 1em; padding-right: 1em; text-align: center; vertical-align: top\">Vulli Sophie the Giraffe<br>Teether ...</td>\n",
       "        <td style=\"padding-left: 1em; padding-right: 1em; text-align: center; vertical-align: top\">My son loves this toy and<br>fits great in the diaper ...</td>\n",
       "        <td style=\"padding-left: 1em; padding-right: 1em; text-align: center; vertical-align: top\">5.0</td>\n",
       "        <td style=\"padding-left: 1em; padding-right: 1em; text-align: center; vertical-align: top\">{&#x27;a&#x27;: 1.0, &#x27;is&#x27;: 1.0,<br>&#x27;when&#x27;: 1.0, &#x27;him&#x27;: 1.0, ...</td>\n",
       "        <td style=\"padding-left: 1em; padding-right: 1em; text-align: center; vertical-align: top\">0.9998633791689672</td>\n",
       "    </tr>\n",
       "    <tr>\n",
       "        <td style=\"padding-left: 1em; padding-right: 1em; text-align: center; vertical-align: top\">Vulli Sophie the Giraffe<br>Teether ...</td>\n",
       "        <td style=\"padding-left: 1em; padding-right: 1em; text-align: center; vertical-align: top\">There really should be a<br>large warning on the  ...</td>\n",
       "        <td style=\"padding-left: 1em; padding-right: 1em; text-align: center; vertical-align: top\">1.0</td>\n",
       "        <td style=\"padding-left: 1em; padding-right: 1em; text-align: center; vertical-align: top\">{&#x27;made&#x27;: 1.0, &#x27;of&#x27;: 1.0,<br>&#x27;packaging&#x27;: 1.0, &#x27;no&#x27;: ...</td>\n",
       "        <td style=\"padding-left: 1em; padding-right: 1em; text-align: center; vertical-align: top\">0.25452681974904084</td>\n",
       "    </tr>\n",
       "    <tr>\n",
       "        <td style=\"padding-left: 1em; padding-right: 1em; text-align: center; vertical-align: top\">Vulli Sophie the Giraffe<br>Teether ...</td>\n",
       "        <td style=\"padding-left: 1em; padding-right: 1em; text-align: center; vertical-align: top\">All the moms in my moms&#x27;<br>group got Sophie for ...</td>\n",
       "        <td style=\"padding-left: 1em; padding-right: 1em; text-align: center; vertical-align: top\">5.0</td>\n",
       "        <td style=\"padding-left: 1em; padding-right: 1em; text-align: center; vertical-align: top\">{&#x27;another&#x27;: 1.0, &#x27;out&#x27;:<br>1.0, &#x27;run&#x27;: 1.0, &#x27;lost&#x27;: ...</td>\n",
       "        <td style=\"padding-left: 1em; padding-right: 1em; text-align: center; vertical-align: top\">0.9165688083895807</td>\n",
       "    </tr>\n",
       "    <tr>\n",
       "        <td style=\"padding-left: 1em; padding-right: 1em; text-align: center; vertical-align: top\">Vulli Sophie the Giraffe<br>Teether ...</td>\n",
       "        <td style=\"padding-left: 1em; padding-right: 1em; text-align: center; vertical-align: top\">I was a little skeptical<br>on whether Sophie was ...</td>\n",
       "        <td style=\"padding-left: 1em; padding-right: 1em; text-align: center; vertical-align: top\">5.0</td>\n",
       "        <td style=\"padding-left: 1em; padding-right: 1em; text-align: center; vertical-align: top\">{&#x27;disappointed&#x27;: 1.0,<br>&#x27;will&#x27;: 1.0, &#x27;take&#x27;:  ...</td>\n",
       "        <td style=\"padding-left: 1em; padding-right: 1em; text-align: center; vertical-align: top\">0.6855768205778199</td>\n",
       "    </tr>\n",
       "    <tr>\n",
       "        <td style=\"padding-left: 1em; padding-right: 1em; text-align: center; vertical-align: top\">Vulli Sophie the Giraffe<br>Teether ...</td>\n",
       "        <td style=\"padding-left: 1em; padding-right: 1em; text-align: center; vertical-align: top\">I have been reading about<br>Sophie and was going  ...</td>\n",
       "        <td style=\"padding-left: 1em; padding-right: 1em; text-align: center; vertical-align: top\">5.0</td>\n",
       "        <td style=\"padding-left: 1em; padding-right: 1em; text-align: center; vertical-align: top\">{&#x27;late&#x27;: 1.0, &#x27;perfect&#x27;:<br>1.0, &#x27;pack&#x27;: 1.0, &#x27;on ...</td>\n",
       "        <td style=\"padding-left: 1em; padding-right: 1em; text-align: center; vertical-align: top\">0.99999994452112</td>\n",
       "    </tr>\n",
       "    <tr>\n",
       "        <td style=\"padding-left: 1em; padding-right: 1em; text-align: center; vertical-align: top\">Vulli Sophie the Giraffe<br>Teether ...</td>\n",
       "        <td style=\"padding-left: 1em; padding-right: 1em; text-align: center; vertical-align: top\">My neice loves her sophie<br>and has spent hours ...</td>\n",
       "        <td style=\"padding-left: 1em; padding-right: 1em; text-align: center; vertical-align: top\">5.0</td>\n",
       "        <td style=\"padding-left: 1em; padding-right: 1em; text-align: center; vertical-align: top\">{&#x27;delight&#x27;: 1.0, &#x27;in&#x27;:<br>1.0, &#x27;other&#x27;: 1.0, ...</td>\n",
       "        <td style=\"padding-left: 1em; padding-right: 1em; text-align: center; vertical-align: top\">0.9979351181092757</td>\n",
       "    </tr>\n",
       "    <tr>\n",
       "        <td style=\"padding-left: 1em; padding-right: 1em; text-align: center; vertical-align: top\">Vulli Sophie the Giraffe<br>Teether ...</td>\n",
       "        <td style=\"padding-left: 1em; padding-right: 1em; text-align: center; vertical-align: top\">What a friendly face!<br>And those mesmerizing ...</td>\n",
       "        <td style=\"padding-left: 1em; padding-right: 1em; text-align: center; vertical-align: top\">5.0</td>\n",
       "        <td style=\"padding-left: 1em; padding-right: 1em; text-align: center; vertical-align: top\">{&#x27;inside&#x27;: 1.0, &#x27;water&#x27;:<br>1.0, &#x27;don&#x27;: 1.0, &#x27;up&#x27;: ...</td>\n",
       "        <td style=\"padding-left: 1em; padding-right: 1em; text-align: center; vertical-align: top\">0.9999745004834412</td>\n",
       "    </tr>\n",
       "    <tr>\n",
       "        <td style=\"padding-left: 1em; padding-right: 1em; text-align: center; vertical-align: top\">Vulli Sophie the Giraffe<br>Teether ...</td>\n",
       "        <td style=\"padding-left: 1em; padding-right: 1em; text-align: center; vertical-align: top\">We got this just for my<br>son to chew on instea ...</td>\n",
       "        <td style=\"padding-left: 1em; padding-right: 1em; text-align: center; vertical-align: top\">5.0</td>\n",
       "        <td style=\"padding-left: 1em; padding-right: 1em; text-align: center; vertical-align: top\">{&#x27;its&#x27;: 1.0, &#x27;fine&#x27;: 1.0,<br>&#x27;is&#x27;: 1.0, &#x27;which&#x27;: 1.0, ...</td>\n",
       "        <td style=\"padding-left: 1em; padding-right: 1em; text-align: center; vertical-align: top\">0.9460144428329585</td>\n",
       "    </tr>\n",
       "    <tr>\n",
       "        <td style=\"padding-left: 1em; padding-right: 1em; text-align: center; vertical-align: top\">Vulli Sophie the Giraffe<br>Teether ...</td>\n",
       "        <td style=\"padding-left: 1em; padding-right: 1em; text-align: center; vertical-align: top\">My baby seems to like<br>this toy, but I could ...</td>\n",
       "        <td style=\"padding-left: 1em; padding-right: 1em; text-align: center; vertical-align: top\">3.0</td>\n",
       "        <td style=\"padding-left: 1em; padding-right: 1em; text-align: center; vertical-align: top\">{&#x27;off&#x27;: 1.0, &#x27;have&#x27;: 2.0,<br>&#x27;of&#x27;: 1.0, &#x27;some&#x27;: 1.0, ...</td>\n",
       "        <td style=\"padding-left: 1em; padding-right: 1em; text-align: center; vertical-align: top\">0.3830113614133065</td>\n",
       "    </tr>\n",
       "</table>\n",
       "[785 rows x 5 columns]<br/>Note: Only the head of the SFrame is printed.<br/>You can use print_rows(num_rows=m, num_columns=n) to print more rows and columns.\n",
       "</div>"
      ],
      "text/plain": [
       "Columns:\n",
       "\tname\tstr\n",
       "\treview\tstr\n",
       "\trating\tfloat\n",
       "\tword_count\tdict\n",
       "\tpredicted_sentiment\tfloat\n",
       "\n",
       "Rows: 785\n",
       "\n",
       "Data:\n",
       "+-------------------------------+-------------------------------+--------+\n",
       "|              name             |             review            | rating |\n",
       "+-------------------------------+-------------------------------+--------+\n",
       "| Vulli Sophie the Giraffe T... | He likes chewing on all th... |  5.0   |\n",
       "| Vulli Sophie the Giraffe T... | My son loves this toy and ... |  5.0   |\n",
       "| Vulli Sophie the Giraffe T... | There really should be a l... |  1.0   |\n",
       "| Vulli Sophie the Giraffe T... | All the moms in my moms' g... |  5.0   |\n",
       "| Vulli Sophie the Giraffe T... | I was a little skeptical o... |  5.0   |\n",
       "| Vulli Sophie the Giraffe T... | I have been reading about ... |  5.0   |\n",
       "| Vulli Sophie the Giraffe T... | My neice loves her sophie ... |  5.0   |\n",
       "| Vulli Sophie the Giraffe T... | What a friendly face!  And... |  5.0   |\n",
       "| Vulli Sophie the Giraffe T... | We got this just for my so... |  5.0   |\n",
       "| Vulli Sophie the Giraffe T... | My baby seems to like this... |  3.0   |\n",
       "+-------------------------------+-------------------------------+--------+\n",
       "+-------------------------------+---------------------+\n",
       "|           word_count          | predicted_sentiment |\n",
       "+-------------------------------+---------------------+\n",
       "| {'purchase': 1.0, 'teethin... |  0.9993655365682544 |\n",
       "| {'a': 1.0, 'is': 1.0, 'whe... |  0.9998633791689672 |\n",
       "| {'made': 1.0, 'of': 1.0, '... | 0.25452681974904084 |\n",
       "| {'another': 1.0, 'out': 1.... |  0.9165688083895807 |\n",
       "| {'disappointed': 1.0, 'wil... |  0.6855768205778199 |\n",
       "| {'late': 1.0, 'perfect': 1... |   0.99999994452112  |\n",
       "| {'delight': 1.0, 'in': 1.0... |  0.9979351181092757 |\n",
       "| {'inside': 1.0, 'water': 1... |  0.9999745004834412 |\n",
       "| {'its': 1.0, 'fine': 1.0, ... |  0.9460144428329585 |\n",
       "| {'off': 1.0, 'have': 2.0, ... |  0.3830113614133065 |\n",
       "+-------------------------------+---------------------+\n",
       "[785 rows x 5 columns]\n",
       "Note: Only the head of the SFrame is printed.\n",
       "You can use print_rows(num_rows=m, num_columns=n) to print more rows and columns."
      ]
     },
     "execution_count": 32,
     "metadata": {},
     "output_type": "execute_result"
    }
   ],
   "source": [
    "sp_rv"
   ]
  },
  {
   "cell_type": "markdown",
   "id": "664dabb9",
   "metadata": {},
   "source": [
    "## Sort and explore reviews based on sentiment."
   ]
  },
  {
   "cell_type": "code",
   "execution_count": 34,
   "id": "014ab359",
   "metadata": {},
   "outputs": [],
   "source": [
    "sp_rv = sp_rv.sort('predicted_sentiment',ascending = False)"
   ]
  },
  {
   "cell_type": "code",
   "execution_count": 35,
   "id": "20ba2456",
   "metadata": {},
   "outputs": [
    {
     "data": {
      "text/html": [
       "<div style=\"max-height:1000px;max-width:1500px;overflow:auto;\"><table frame=\"box\" rules=\"cols\">\n",
       "    <tr>\n",
       "        <th style=\"padding-left: 1em; padding-right: 1em; text-align: center\">name</th>\n",
       "        <th style=\"padding-left: 1em; padding-right: 1em; text-align: center\">review</th>\n",
       "        <th style=\"padding-left: 1em; padding-right: 1em; text-align: center\">rating</th>\n",
       "        <th style=\"padding-left: 1em; padding-right: 1em; text-align: center\">word_count</th>\n",
       "        <th style=\"padding-left: 1em; padding-right: 1em; text-align: center\">predicted_sentiment</th>\n",
       "    </tr>\n",
       "    <tr>\n",
       "        <td style=\"padding-left: 1em; padding-right: 1em; text-align: center; vertical-align: top\">Vulli Sophie the Giraffe<br>Teether ...</td>\n",
       "        <td style=\"padding-left: 1em; padding-right: 1em; text-align: center; vertical-align: top\">I&#x27;ll be honest...I bought<br>this toy because all the ...</td>\n",
       "        <td style=\"padding-left: 1em; padding-right: 1em; text-align: center; vertical-align: top\">4.0</td>\n",
       "        <td style=\"padding-left: 1em; padding-right: 1em; text-align: center; vertical-align: top\">{&#x27;explore&#x27;: 1.0,<br>&#x27;adventures&#x27;: 1.0, ...</td>\n",
       "        <td style=\"padding-left: 1em; padding-right: 1em; text-align: center; vertical-align: top\">1.0</td>\n",
       "    </tr>\n",
       "    <tr>\n",
       "        <td style=\"padding-left: 1em; padding-right: 1em; text-align: center; vertical-align: top\">Vulli Sophie the Giraffe<br>Teether ...</td>\n",
       "        <td style=\"padding-left: 1em; padding-right: 1em; text-align: center; vertical-align: top\">As a mother of 16month<br>old twins; I bought ...</td>\n",
       "        <td style=\"padding-left: 1em; padding-right: 1em; text-align: center; vertical-align: top\">5.0</td>\n",
       "        <td style=\"padding-left: 1em; padding-right: 1em; text-align: center; vertical-align: top\">{&#x27;use&#x27;: 1.0, &#x27;get&#x27;: 1.0,<br>&#x27;will&#x27;: 1.0, &#x27;where&#x27;: ...</td>\n",
       "        <td style=\"padding-left: 1em; padding-right: 1em; text-align: center; vertical-align: top\">1.0</td>\n",
       "    </tr>\n",
       "    <tr>\n",
       "        <td style=\"padding-left: 1em; padding-right: 1em; text-align: center; vertical-align: top\">Vulli Sophie the Giraffe<br>Teether ...</td>\n",
       "        <td style=\"padding-left: 1em; padding-right: 1em; text-align: center; vertical-align: top\">Sophie, oh Sophie, your<br>time has come. My ...</td>\n",
       "        <td style=\"padding-left: 1em; padding-right: 1em; text-align: center; vertical-align: top\">5.0</td>\n",
       "        <td style=\"padding-left: 1em; padding-right: 1em; text-align: center; vertical-align: top\">{&#x27;09&#x27;: 1.0, &#x27;11&#x27;: 1.0,<br>&#x27;recommended&#x27;: 1.0, &#x27; ...</td>\n",
       "        <td style=\"padding-left: 1em; padding-right: 1em; text-align: center; vertical-align: top\">1.0</td>\n",
       "    </tr>\n",
       "    <tr>\n",
       "        <td style=\"padding-left: 1em; padding-right: 1em; text-align: center; vertical-align: top\">Vulli Sophie the Giraffe<br>Teether ...</td>\n",
       "        <td style=\"padding-left: 1em; padding-right: 1em; text-align: center; vertical-align: top\">We got this little<br>giraffe as a gift from a ...</td>\n",
       "        <td style=\"padding-left: 1em; padding-right: 1em; text-align: center; vertical-align: top\">5.0</td>\n",
       "        <td style=\"padding-left: 1em; padding-right: 1em; text-align: center; vertical-align: top\">{&#x27;parents&#x27;: 1.0,<br>&#x27;recommend&#x27;: 1.0, ...</td>\n",
       "        <td style=\"padding-left: 1em; padding-right: 1em; text-align: center; vertical-align: top\">0.9999999999998377</td>\n",
       "    </tr>\n",
       "    <tr>\n",
       "        <td style=\"padding-left: 1em; padding-right: 1em; text-align: center; vertical-align: top\">Vulli Sophie the Giraffe<br>Teether ...</td>\n",
       "        <td style=\"padding-left: 1em; padding-right: 1em; text-align: center; vertical-align: top\">As every mom knows, you<br>always want to give your ...</td>\n",
       "        <td style=\"padding-left: 1em; padding-right: 1em; text-align: center; vertical-align: top\">5.0</td>\n",
       "        <td style=\"padding-left: 1em; padding-right: 1em; text-align: center; vertical-align: top\">{&#x27;future&#x27;: 1.0, &#x27;use&#x27;:<br>1.0, &#x27;am&#x27;: 1.0, ...</td>\n",
       "        <td style=\"padding-left: 1em; padding-right: 1em; text-align: center; vertical-align: top\">0.9999999999998284</td>\n",
       "    </tr>\n",
       "    <tr>\n",
       "        <td style=\"padding-left: 1em; padding-right: 1em; text-align: center; vertical-align: top\">Vulli Sophie the Giraffe<br>Teether ...</td>\n",
       "        <td style=\"padding-left: 1em; padding-right: 1em; text-align: center; vertical-align: top\">My Mom-in-Law bought<br>Sophie for my son whe ...</td>\n",
       "        <td style=\"padding-left: 1em; padding-right: 1em; text-align: center; vertical-align: top\">5.0</td>\n",
       "        <td style=\"padding-left: 1em; padding-right: 1em; text-align: center; vertical-align: top\">{&#x27;penny&#x27;: 1.0, &#x27;worth&#x27;:<br>1.0, &#x27;definitely&#x27;: 1.0, ...</td>\n",
       "        <td style=\"padding-left: 1em; padding-right: 1em; text-align: center; vertical-align: top\">0.9999999999997958</td>\n",
       "    </tr>\n",
       "    <tr>\n",
       "        <td style=\"padding-left: 1em; padding-right: 1em; text-align: center; vertical-align: top\">Vulli Sophie the Giraffe<br>Teether ...</td>\n",
       "        <td style=\"padding-left: 1em; padding-right: 1em; text-align: center; vertical-align: top\">My 4 month old son is<br>teething, and I&#x27;ve tried ...</td>\n",
       "        <td style=\"padding-left: 1em; padding-right: 1em; text-align: center; vertical-align: top\">4.0</td>\n",
       "        <td style=\"padding-left: 1em; padding-right: 1em; text-align: center; vertical-align: top\">{&#x27;teether&#x27;: 1.0, &#x27;want&#x27;:<br>1.0, &#x27;price&#x27;: 1.0, ...</td>\n",
       "        <td style=\"padding-left: 1em; padding-right: 1em; text-align: center; vertical-align: top\">0.9999999999994914</td>\n",
       "    </tr>\n",
       "    <tr>\n",
       "        <td style=\"padding-left: 1em; padding-right: 1em; text-align: center; vertical-align: top\">Vulli Sophie the Giraffe<br>Teether ...</td>\n",
       "        <td style=\"padding-left: 1em; padding-right: 1em; text-align: center; vertical-align: top\">Let me just start off by<br>addressing the choking ...</td>\n",
       "        <td style=\"padding-left: 1em; padding-right: 1em; text-align: center; vertical-align: top\">5.0</td>\n",
       "        <td style=\"padding-left: 1em; padding-right: 1em; text-align: center; vertical-align: top\">{&#x27;must&#x27;: 1.0, &#x27;nuts&#x27;:<br>1.0, &#x27;we&#x27;: 1.0, &#x27;thei ...</td>\n",
       "        <td style=\"padding-left: 1em; padding-right: 1em; text-align: center; vertical-align: top\">0.9999999999941254</td>\n",
       "    </tr>\n",
       "    <tr>\n",
       "        <td style=\"padding-left: 1em; padding-right: 1em; text-align: center; vertical-align: top\">Vulli Sophie the Giraffe<br>Teether ...</td>\n",
       "        <td style=\"padding-left: 1em; padding-right: 1em; text-align: center; vertical-align: top\">I&#x27;m not sure why Sophie<br>is such a hit with the ...</td>\n",
       "        <td style=\"padding-left: 1em; padding-right: 1em; text-align: center; vertical-align: top\">4.0</td>\n",
       "        <td style=\"padding-left: 1em; padding-right: 1em; text-align: center; vertical-align: top\">{&#x27;well&#x27;: 1.0, &#x27;natural&#x27;:<br>1.0, &#x27;makers&#x27;: 1.0, ...</td>\n",
       "        <td style=\"padding-left: 1em; padding-right: 1em; text-align: center; vertical-align: top\">0.999999999987423</td>\n",
       "    </tr>\n",
       "    <tr>\n",
       "        <td style=\"padding-left: 1em; padding-right: 1em; text-align: center; vertical-align: top\">Vulli Sophie the Giraffe<br>Teether ...</td>\n",
       "        <td style=\"padding-left: 1em; padding-right: 1em; text-align: center; vertical-align: top\">I admit, I didn&#x27;t get<br>Sophie the Giraffe at ...</td>\n",
       "        <td style=\"padding-left: 1em; padding-right: 1em; text-align: center; vertical-align: top\">4.0</td>\n",
       "        <td style=\"padding-left: 1em; padding-right: 1em; text-align: center; vertical-align: top\">{&#x27;dye&#x27;: 1.0, &#x27;of&#x27;: 1.0,<br>&#x27;cause&#x27;: 1.0, &#x27;fade&#x27;: ...</td>\n",
       "        <td style=\"padding-left: 1em; padding-right: 1em; text-align: center; vertical-align: top\">0.9999999999829475</td>\n",
       "    </tr>\n",
       "</table>\n",
       "[785 rows x 5 columns]<br/>Note: Only the head of the SFrame is printed.<br/>You can use print_rows(num_rows=m, num_columns=n) to print more rows and columns.\n",
       "</div>"
      ],
      "text/plain": [
       "Columns:\n",
       "\tname\tstr\n",
       "\treview\tstr\n",
       "\trating\tfloat\n",
       "\tword_count\tdict\n",
       "\tpredicted_sentiment\tfloat\n",
       "\n",
       "Rows: 785\n",
       "\n",
       "Data:\n",
       "+-------------------------------+-------------------------------+--------+\n",
       "|              name             |             review            | rating |\n",
       "+-------------------------------+-------------------------------+--------+\n",
       "| Vulli Sophie the Giraffe T... | I'll be honest...I bought ... |  4.0   |\n",
       "| Vulli Sophie the Giraffe T... | As a mother of 16month old... |  5.0   |\n",
       "| Vulli Sophie the Giraffe T... | Sophie, oh Sophie, your ti... |  5.0   |\n",
       "| Vulli Sophie the Giraffe T... | We got this little giraffe... |  5.0   |\n",
       "| Vulli Sophie the Giraffe T... | As every mom knows, you al... |  5.0   |\n",
       "| Vulli Sophie the Giraffe T... | My Mom-in-Law bought Sophi... |  5.0   |\n",
       "| Vulli Sophie the Giraffe T... | My 4 month old son is teet... |  4.0   |\n",
       "| Vulli Sophie the Giraffe T... | Let me just start off by a... |  5.0   |\n",
       "| Vulli Sophie the Giraffe T... | I'm not sure why Sophie is... |  4.0   |\n",
       "| Vulli Sophie the Giraffe T... | I admit, I didn't get Soph... |  4.0   |\n",
       "+-------------------------------+-------------------------------+--------+\n",
       "+-------------------------------+---------------------+\n",
       "|           word_count          | predicted_sentiment |\n",
       "+-------------------------------+---------------------+\n",
       "| {'explore': 1.0, 'adventur... |         1.0         |\n",
       "| {'use': 1.0, 'get': 1.0, '... |         1.0         |\n",
       "| {'09': 1.0, '11': 1.0, 're... |         1.0         |\n",
       "| {'parents': 1.0, 'recommen... |  0.9999999999998377 |\n",
       "| {'future': 1.0, 'use': 1.0... |  0.9999999999998284 |\n",
       "| {'penny': 1.0, 'worth': 1.... |  0.9999999999997958 |\n",
       "| {'teether': 1.0, 'want': 1... |  0.9999999999994914 |\n",
       "| {'must': 1.0, 'nuts': 1.0,... |  0.9999999999941254 |\n",
       "| {'well': 1.0, 'natural': 1... |  0.999999999987423  |\n",
       "| {'dye': 1.0, 'of': 1.0, 'c... |  0.9999999999829475 |\n",
       "+-------------------------------+---------------------+\n",
       "[785 rows x 5 columns]\n",
       "Note: Only the head of the SFrame is printed.\n",
       "You can use print_rows(num_rows=m, num_columns=n) to print more rows and columns."
      ]
     },
     "execution_count": 35,
     "metadata": {},
     "output_type": "execute_result"
    }
   ],
   "source": [
    "sp_rv"
   ]
  },
  {
   "cell_type": "code",
   "execution_count": 39,
   "id": "29f94eaf",
   "metadata": {},
   "outputs": [
    {
     "data": {
      "text/plain": [
       "'I\\'ll be honest...I bought this toy because all the hip parents seem to have one too and I wanted to be a part of the \"hip parent\" crowd. The price-tag was somewhat of a deterent but I prevailed and purchased this teether for my daughter.At first, Lily didn\\'t know what to make of of Sophie and showed little interest in the polka-dotted creature. I continued to introduce Lily to Sophie and kept the toy in the carrier so that it was on-hand during transitions. Eventually, Lily discovered what a wonderful experience it was to gnaw on the hooves and ears and these two have never been far apart since.Lily really enjoys gumming all the different parts of Sophie like no other teether we have. The size of the toy is great as it is somewhat substantial and so easy for a little one to grasp and hold onto. Lily really enjoys hearing Sophie squeak and will smile whenever Sophie makes a noise or pops her head up from Mommy\\'s lap to say hello.People have stopped and commented on Sophie and to them I have stated, \"It\\'s worth every penny.\" I can\\'t imagine not having this toy, it has become part and parcel with Lily\\'s daily existence. She is soothed by it, loves to chew on it and seems endlessly entertained by it.Someday, Sophie will have earned her retirement. She will relocate to Lily\\'s keepsake box. But until then, this little French Giraffe will embark on many adventures alongside my daughter as they explore this big world around them.'"
      ]
     },
     "execution_count": 39,
     "metadata": {},
     "output_type": "execute_result"
    }
   ],
   "source": [
    "sp_rv[0]['review']"
   ]
  },
  {
   "cell_type": "code",
   "execution_count": 40,
   "id": "9f694e90",
   "metadata": {},
   "outputs": [
    {
     "data": {
      "text/plain": [
       "\"This children's toy is nostalgic and very cute. However, there is a distinct rubber smell and a very odd taste, yes I tried it, that my baby did not enjoy. Also, if it is soiled it is extremely difficult to clean as the rubber is a kind of porus material and does not clean well. The final thing is the squeaking device inside which stopped working after the first couple of days. I returned this item feeling I had overpaid for a toy that was defective and did not meet my expectations. Please do not be swayed by the cute packaging and hype surounding it as I was. One more thing, I was given a full refund from Amazon without any problem.\""
      ]
     },
     "execution_count": 40,
     "metadata": {},
     "output_type": "execute_result"
    }
   ],
   "source": [
    "sp_rv[-1]['review']"
   ]
  },
  {
   "cell_type": "markdown",
   "id": "9ee01056",
   "metadata": {},
   "source": []
  }
 ],
 "metadata": {
  "kernelspec": {
   "display_name": "Python 3 (ipykernel)",
   "language": "python",
   "name": "python3"
  },
  "language_info": {
   "codemirror_mode": {
    "name": "ipython",
    "version": 3
   },
   "file_extension": ".py",
   "mimetype": "text/x-python",
   "name": "python",
   "nbconvert_exporter": "python",
   "pygments_lexer": "ipython3",
   "version": "3.8.8"
  }
 },
 "nbformat": 4,
 "nbformat_minor": 5
}
